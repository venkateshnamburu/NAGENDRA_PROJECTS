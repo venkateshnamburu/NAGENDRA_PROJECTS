{
 "cells": [
  {
   "cell_type": "code",
   "execution_count": 3,
   "id": "64336afa-d77a-4993-9d6f-4df00f963629",
   "metadata": {},
   "outputs": [],
   "source": [
    "import warnings\n",
    "warnings.filterwarnings('ignore',category=FutureWarning)\n",
    "import pandas as pd\n",
    "import numpy as np\n",
    "import seaborn as sns"
   ]
  },
  {
   "cell_type": "markdown",
   "id": "700d5d11-c76b-4732-9656-12415db2bfa8",
   "metadata": {},
   "source": [
    "## sales_data"
   ]
  },
  {
   "cell_type": "code",
   "execution_count": 5,
   "id": "ded6e532-62d9-4650-bc85-d706bbe63aa5",
   "metadata": {},
   "outputs": [],
   "source": [
    "sales_data = pd.read_csv(\"D:\\\\Datasets\\\\sales_data.csv\")"
   ]
  },
  {
   "cell_type": "code",
   "execution_count": 6,
   "id": "6db98ec0-99b2-42fb-aca3-cc50a4ec63fe",
   "metadata": {},
   "outputs": [
    {
     "data": {
      "text/html": [
       "<div>\n",
       "<style scoped>\n",
       "    .dataframe tbody tr th:only-of-type {\n",
       "        vertical-align: middle;\n",
       "    }\n",
       "\n",
       "    .dataframe tbody tr th {\n",
       "        vertical-align: top;\n",
       "    }\n",
       "\n",
       "    .dataframe thead th {\n",
       "        text-align: right;\n",
       "    }\n",
       "</style>\n",
       "<table border=\"1\" class=\"dataframe\">\n",
       "  <thead>\n",
       "    <tr style=\"text-align: right;\">\n",
       "      <th></th>\n",
       "      <th>system_calendar_key_N</th>\n",
       "      <th>product_id</th>\n",
       "      <th>sales_dollars_value</th>\n",
       "      <th>sales_units_value</th>\n",
       "      <th>sales_lbs_value</th>\n",
       "    </tr>\n",
       "  </thead>\n",
       "  <tbody>\n",
       "    <tr>\n",
       "      <th>0</th>\n",
       "      <td>20160109</td>\n",
       "      <td>1</td>\n",
       "      <td>13927.0</td>\n",
       "      <td>934</td>\n",
       "      <td>18680</td>\n",
       "    </tr>\n",
       "    <tr>\n",
       "      <th>1</th>\n",
       "      <td>20160109</td>\n",
       "      <td>3</td>\n",
       "      <td>10289.0</td>\n",
       "      <td>1592</td>\n",
       "      <td>28646</td>\n",
       "    </tr>\n",
       "    <tr>\n",
       "      <th>2</th>\n",
       "      <td>20160109</td>\n",
       "      <td>4</td>\n",
       "      <td>357.0</td>\n",
       "      <td>22</td>\n",
       "      <td>440</td>\n",
       "    </tr>\n",
       "    <tr>\n",
       "      <th>3</th>\n",
       "      <td>20160109</td>\n",
       "      <td>6</td>\n",
       "      <td>23113.0</td>\n",
       "      <td>2027</td>\n",
       "      <td>81088</td>\n",
       "    </tr>\n",
       "    <tr>\n",
       "      <th>4</th>\n",
       "      <td>20160109</td>\n",
       "      <td>7</td>\n",
       "      <td>23177.0</td>\n",
       "      <td>3231</td>\n",
       "      <td>58164</td>\n",
       "    </tr>\n",
       "  </tbody>\n",
       "</table>\n",
       "</div>"
      ],
      "text/plain": [
       "   system_calendar_key_N  product_id  sales_dollars_value  sales_units_value  \\\n",
       "0               20160109           1              13927.0                934   \n",
       "1               20160109           3              10289.0               1592   \n",
       "2               20160109           4                357.0                 22   \n",
       "3               20160109           6              23113.0               2027   \n",
       "4               20160109           7              23177.0               3231   \n",
       "\n",
       "   sales_lbs_value  \n",
       "0            18680  \n",
       "1            28646  \n",
       "2              440  \n",
       "3            81088  \n",
       "4            58164  "
      ]
     },
     "execution_count": 6,
     "metadata": {},
     "output_type": "execute_result"
    }
   ],
   "source": [
    "sales_data.head()"
   ]
  },
  {
   "cell_type": "code",
   "execution_count": 7,
   "id": "5177fcbb-0d42-483d-a241-d37ad01d8266",
   "metadata": {},
   "outputs": [
    {
     "data": {
      "text/plain": [
       "(4526182, 5)"
      ]
     },
     "execution_count": 7,
     "metadata": {},
     "output_type": "execute_result"
    }
   ],
   "source": [
    "sales_data.shape"
   ]
  },
  {
   "cell_type": "code",
   "execution_count": 8,
   "id": "c8f4059d-a559-4efb-ba54-f0b8974706c7",
   "metadata": {},
   "outputs": [
    {
     "data": {
      "text/plain": [
       "system_calendar_key_N    0\n",
       "product_id               0\n",
       "sales_dollars_value      0\n",
       "sales_units_value        0\n",
       "sales_lbs_value          0\n",
       "dtype: int64"
      ]
     },
     "execution_count": 8,
     "metadata": {},
     "output_type": "execute_result"
    }
   ],
   "source": [
    "sales_data.isnull().sum()"
   ]
  },
  {
   "cell_type": "code",
   "execution_count": 9,
   "id": "4192176e-e6d0-4df8-8f25-33a8a9bac51e",
   "metadata": {},
   "outputs": [
    {
     "data": {
      "text/html": [
       "<div>\n",
       "<style scoped>\n",
       "    .dataframe tbody tr th:only-of-type {\n",
       "        vertical-align: middle;\n",
       "    }\n",
       "\n",
       "    .dataframe tbody tr th {\n",
       "        vertical-align: top;\n",
       "    }\n",
       "\n",
       "    .dataframe thead th {\n",
       "        text-align: right;\n",
       "    }\n",
       "</style>\n",
       "<table border=\"1\" class=\"dataframe\">\n",
       "  <thead>\n",
       "    <tr style=\"text-align: right;\">\n",
       "      <th></th>\n",
       "      <th>count</th>\n",
       "      <th>mean</th>\n",
       "      <th>std</th>\n",
       "      <th>min</th>\n",
       "      <th>25%</th>\n",
       "      <th>50%</th>\n",
       "      <th>75%</th>\n",
       "      <th>max</th>\n",
       "    </tr>\n",
       "  </thead>\n",
       "  <tbody>\n",
       "    <tr>\n",
       "      <th>system_calendar_key_N</th>\n",
       "      <td>4526182.0</td>\n",
       "      <td>2.017505e+07</td>\n",
       "      <td>10735.371398</td>\n",
       "      <td>20160109.0</td>\n",
       "      <td>20161231.0</td>\n",
       "      <td>20171209.0</td>\n",
       "      <td>20181103.0</td>\n",
       "      <td>20191005.0</td>\n",
       "    </tr>\n",
       "    <tr>\n",
       "      <th>product_id</th>\n",
       "      <td>4526182.0</td>\n",
       "      <td>2.885857e+04</td>\n",
       "      <td>15312.536560</td>\n",
       "      <td>1.0</td>\n",
       "      <td>15069.0</td>\n",
       "      <td>29981.0</td>\n",
       "      <td>41513.0</td>\n",
       "      <td>57317.0</td>\n",
       "    </tr>\n",
       "    <tr>\n",
       "      <th>sales_dollars_value</th>\n",
       "      <td>4526182.0</td>\n",
       "      <td>2.159454e+04</td>\n",
       "      <td>78180.565626</td>\n",
       "      <td>0.0</td>\n",
       "      <td>523.0</td>\n",
       "      <td>2655.0</td>\n",
       "      <td>11765.0</td>\n",
       "      <td>4395964.0</td>\n",
       "    </tr>\n",
       "    <tr>\n",
       "      <th>sales_units_value</th>\n",
       "      <td>4526182.0</td>\n",
       "      <td>5.160053e+03</td>\n",
       "      <td>26853.407825</td>\n",
       "      <td>1.0</td>\n",
       "      <td>80.0</td>\n",
       "      <td>403.0</td>\n",
       "      <td>1807.0</td>\n",
       "      <td>873998.0</td>\n",
       "    </tr>\n",
       "    <tr>\n",
       "      <th>sales_lbs_value</th>\n",
       "      <td>4526182.0</td>\n",
       "      <td>1.715339e+04</td>\n",
       "      <td>127340.124382</td>\n",
       "      <td>0.0</td>\n",
       "      <td>86.0</td>\n",
       "      <td>611.0</td>\n",
       "      <td>3770.0</td>\n",
       "      <td>11003100.0</td>\n",
       "    </tr>\n",
       "  </tbody>\n",
       "</table>\n",
       "</div>"
      ],
      "text/plain": [
       "                           count          mean            std         min  \\\n",
       "system_calendar_key_N  4526182.0  2.017505e+07   10735.371398  20160109.0   \n",
       "product_id             4526182.0  2.885857e+04   15312.536560         1.0   \n",
       "sales_dollars_value    4526182.0  2.159454e+04   78180.565626         0.0   \n",
       "sales_units_value      4526182.0  5.160053e+03   26853.407825         1.0   \n",
       "sales_lbs_value        4526182.0  1.715339e+04  127340.124382         0.0   \n",
       "\n",
       "                              25%         50%         75%         max  \n",
       "system_calendar_key_N  20161231.0  20171209.0  20181103.0  20191005.0  \n",
       "product_id                15069.0     29981.0     41513.0     57317.0  \n",
       "sales_dollars_value         523.0      2655.0     11765.0   4395964.0  \n",
       "sales_units_value            80.0       403.0      1807.0    873998.0  \n",
       "sales_lbs_value              86.0       611.0      3770.0  11003100.0  "
      ]
     },
     "execution_count": 9,
     "metadata": {},
     "output_type": "execute_result"
    }
   ],
   "source": [
    "sales_data.describe().T"
   ]
  },
  {
   "cell_type": "code",
   "execution_count": 10,
   "id": "e0676862-481c-4eb1-ab8e-255c0f78f51f",
   "metadata": {},
   "outputs": [
    {
     "data": {
      "text/html": [
       "<div>\n",
       "<style scoped>\n",
       "    .dataframe tbody tr th:only-of-type {\n",
       "        vertical-align: middle;\n",
       "    }\n",
       "\n",
       "    .dataframe tbody tr th {\n",
       "        vertical-align: top;\n",
       "    }\n",
       "\n",
       "    .dataframe thead th {\n",
       "        text-align: right;\n",
       "    }\n",
       "</style>\n",
       "<table border=\"1\" class=\"dataframe\">\n",
       "  <thead>\n",
       "    <tr style=\"text-align: right;\">\n",
       "      <th></th>\n",
       "      <th>system_calendar_key_N</th>\n",
       "      <th>product_id</th>\n",
       "      <th>sales_dollars_value</th>\n",
       "      <th>sales_units_value</th>\n",
       "      <th>sales_lbs_value</th>\n",
       "    </tr>\n",
       "  </thead>\n",
       "  <tbody>\n",
       "    <tr>\n",
       "      <th>count</th>\n",
       "      <td>4.526182e+06</td>\n",
       "      <td>4.526182e+06</td>\n",
       "      <td>4.526182e+06</td>\n",
       "      <td>4.526182e+06</td>\n",
       "      <td>4.526182e+06</td>\n",
       "    </tr>\n",
       "    <tr>\n",
       "      <th>mean</th>\n",
       "      <td>2.017505e+07</td>\n",
       "      <td>2.885857e+04</td>\n",
       "      <td>2.159454e+04</td>\n",
       "      <td>5.160053e+03</td>\n",
       "      <td>1.715339e+04</td>\n",
       "    </tr>\n",
       "    <tr>\n",
       "      <th>std</th>\n",
       "      <td>1.073537e+04</td>\n",
       "      <td>1.531254e+04</td>\n",
       "      <td>7.818057e+04</td>\n",
       "      <td>2.685341e+04</td>\n",
       "      <td>1.273401e+05</td>\n",
       "    </tr>\n",
       "    <tr>\n",
       "      <th>min</th>\n",
       "      <td>2.016011e+07</td>\n",
       "      <td>1.000000e+00</td>\n",
       "      <td>0.000000e+00</td>\n",
       "      <td>1.000000e+00</td>\n",
       "      <td>0.000000e+00</td>\n",
       "    </tr>\n",
       "    <tr>\n",
       "      <th>25%</th>\n",
       "      <td>2.016123e+07</td>\n",
       "      <td>1.506900e+04</td>\n",
       "      <td>5.230000e+02</td>\n",
       "      <td>8.000000e+01</td>\n",
       "      <td>8.600000e+01</td>\n",
       "    </tr>\n",
       "    <tr>\n",
       "      <th>50%</th>\n",
       "      <td>2.017121e+07</td>\n",
       "      <td>2.998100e+04</td>\n",
       "      <td>2.655000e+03</td>\n",
       "      <td>4.030000e+02</td>\n",
       "      <td>6.110000e+02</td>\n",
       "    </tr>\n",
       "    <tr>\n",
       "      <th>75%</th>\n",
       "      <td>2.018110e+07</td>\n",
       "      <td>4.151300e+04</td>\n",
       "      <td>1.176500e+04</td>\n",
       "      <td>1.807000e+03</td>\n",
       "      <td>3.770000e+03</td>\n",
       "    </tr>\n",
       "    <tr>\n",
       "      <th>max</th>\n",
       "      <td>2.019100e+07</td>\n",
       "      <td>5.731700e+04</td>\n",
       "      <td>4.395964e+06</td>\n",
       "      <td>8.739980e+05</td>\n",
       "      <td>1.100310e+07</td>\n",
       "    </tr>\n",
       "  </tbody>\n",
       "</table>\n",
       "</div>"
      ],
      "text/plain": [
       "       system_calendar_key_N    product_id  sales_dollars_value  \\\n",
       "count           4.526182e+06  4.526182e+06         4.526182e+06   \n",
       "mean            2.017505e+07  2.885857e+04         2.159454e+04   \n",
       "std             1.073537e+04  1.531254e+04         7.818057e+04   \n",
       "min             2.016011e+07  1.000000e+00         0.000000e+00   \n",
       "25%             2.016123e+07  1.506900e+04         5.230000e+02   \n",
       "50%             2.017121e+07  2.998100e+04         2.655000e+03   \n",
       "75%             2.018110e+07  4.151300e+04         1.176500e+04   \n",
       "max             2.019100e+07  5.731700e+04         4.395964e+06   \n",
       "\n",
       "       sales_units_value  sales_lbs_value  \n",
       "count       4.526182e+06     4.526182e+06  \n",
       "mean        5.160053e+03     1.715339e+04  \n",
       "std         2.685341e+04     1.273401e+05  \n",
       "min         1.000000e+00     0.000000e+00  \n",
       "25%         8.000000e+01     8.600000e+01  \n",
       "50%         4.030000e+02     6.110000e+02  \n",
       "75%         1.807000e+03     3.770000e+03  \n",
       "max         8.739980e+05     1.100310e+07  "
      ]
     },
     "execution_count": 10,
     "metadata": {},
     "output_type": "execute_result"
    }
   ],
   "source": [
    "sales_data.describe()"
   ]
  },
  {
   "cell_type": "code",
   "execution_count": 11,
   "id": "10feb37b-f94e-43d6-b9e9-05642757f26a",
   "metadata": {},
   "outputs": [
    {
     "name": "stdout",
     "output_type": "stream",
     "text": [
      "<class 'pandas.core.frame.DataFrame'>\n",
      "RangeIndex: 4526182 entries, 0 to 4526181\n",
      "Data columns (total 5 columns):\n",
      " #   Column                 Dtype  \n",
      "---  ------                 -----  \n",
      " 0   system_calendar_key_N  int64  \n",
      " 1   product_id             int64  \n",
      " 2   sales_dollars_value    float64\n",
      " 3   sales_units_value      int64  \n",
      " 4   sales_lbs_value        int64  \n",
      "dtypes: float64(1), int64(4)\n",
      "memory usage: 172.7 MB\n"
     ]
    }
   ],
   "source": [
    "sales_data.info()"
   ]
  },
  {
   "cell_type": "code",
   "execution_count": 12,
   "id": "adf6af87-f4bf-4838-87e4-44a4f691e60d",
   "metadata": {},
   "outputs": [],
   "source": [
    "sales_data['system_calendar_key_N']=pd.to_datetime(sales_data['system_calendar_key_N'],format='%Y%m%d', errors='ignore')"
   ]
  },
  {
   "cell_type": "code",
   "execution_count": 13,
   "id": "3cb0d537-3392-4ff1-a934-9a1d7950984b",
   "metadata": {},
   "outputs": [
    {
     "name": "stdout",
     "output_type": "stream",
     "text": [
      "system_calendar_key_N    datetime64[ns]\n",
      "product_id                        int64\n",
      "sales_dollars_value             float64\n",
      "sales_units_value                 int64\n",
      "sales_lbs_value                   int64\n",
      "dtype: object\n"
     ]
    }
   ],
   "source": [
    "print(sales_data.dtypes)"
   ]
  },
  {
   "cell_type": "code",
   "execution_count": 14,
   "id": "3b397faa-6d72-4835-8b79-2536c7a59a63",
   "metadata": {},
   "outputs": [
    {
     "data": {
      "text/html": [
       "<div>\n",
       "<style scoped>\n",
       "    .dataframe tbody tr th:only-of-type {\n",
       "        vertical-align: middle;\n",
       "    }\n",
       "\n",
       "    .dataframe tbody tr th {\n",
       "        vertical-align: top;\n",
       "    }\n",
       "\n",
       "    .dataframe thead th {\n",
       "        text-align: right;\n",
       "    }\n",
       "</style>\n",
       "<table border=\"1\" class=\"dataframe\">\n",
       "  <thead>\n",
       "    <tr style=\"text-align: right;\">\n",
       "      <th></th>\n",
       "      <th>system_calendar_key_N</th>\n",
       "      <th>product_id</th>\n",
       "      <th>sales_dollars_value</th>\n",
       "      <th>sales_units_value</th>\n",
       "      <th>sales_lbs_value</th>\n",
       "    </tr>\n",
       "  </thead>\n",
       "  <tbody>\n",
       "    <tr>\n",
       "      <th>0</th>\n",
       "      <td>2016-01-09</td>\n",
       "      <td>1</td>\n",
       "      <td>13927.0</td>\n",
       "      <td>934</td>\n",
       "      <td>18680</td>\n",
       "    </tr>\n",
       "    <tr>\n",
       "      <th>1</th>\n",
       "      <td>2016-01-09</td>\n",
       "      <td>3</td>\n",
       "      <td>10289.0</td>\n",
       "      <td>1592</td>\n",
       "      <td>28646</td>\n",
       "    </tr>\n",
       "  </tbody>\n",
       "</table>\n",
       "</div>"
      ],
      "text/plain": [
       "  system_calendar_key_N  product_id  sales_dollars_value  sales_units_value  \\\n",
       "0            2016-01-09           1              13927.0                934   \n",
       "1            2016-01-09           3              10289.0               1592   \n",
       "\n",
       "   sales_lbs_value  \n",
       "0            18680  \n",
       "1            28646  "
      ]
     },
     "execution_count": 14,
     "metadata": {},
     "output_type": "execute_result"
    }
   ],
   "source": [
    "sales_data.head(2)"
   ]
  },
  {
   "cell_type": "code",
   "execution_count": 15,
   "id": "731b1c40-c31e-4469-8b05-1230f8704bc0",
   "metadata": {},
   "outputs": [],
   "source": [
    "import matplotlib as mpl\n",
    "import matplotlib.pyplot as plt"
   ]
  },
  {
   "cell_type": "markdown",
   "id": "d7eb124f-8c4b-492d-bff1-c29f8d3d1b9c",
   "metadata": {},
   "source": [
    "## google_search_data"
   ]
  },
  {
   "cell_type": "code",
   "execution_count": 17,
   "id": "b5e4044f-8b90-421f-9d69-520fceec7f50",
   "metadata": {},
   "outputs": [],
   "source": [
    "google_search_data=pd.read_csv(\"D:\\\\Datasets\\\\google_search_data.csv\")"
   ]
  },
  {
   "cell_type": "code",
   "execution_count": 18,
   "id": "5eb6c008-2c0f-4192-85e0-762d2f2811ae",
   "metadata": {},
   "outputs": [
    {
     "data": {
      "text/html": [
       "<div>\n",
       "<style scoped>\n",
       "    .dataframe tbody tr th:only-of-type {\n",
       "        vertical-align: middle;\n",
       "    }\n",
       "\n",
       "    .dataframe tbody tr th {\n",
       "        vertical-align: top;\n",
       "    }\n",
       "\n",
       "    .dataframe thead th {\n",
       "        text-align: right;\n",
       "    }\n",
       "</style>\n",
       "<table border=\"1\" class=\"dataframe\">\n",
       "  <thead>\n",
       "    <tr style=\"text-align: right;\">\n",
       "      <th></th>\n",
       "      <th>date</th>\n",
       "      <th>platform</th>\n",
       "      <th>searchVolume</th>\n",
       "      <th>Claim_ID</th>\n",
       "      <th>week_number</th>\n",
       "      <th>year_new</th>\n",
       "    </tr>\n",
       "  </thead>\n",
       "  <tbody>\n",
       "    <tr>\n",
       "      <th>0</th>\n",
       "      <td>05-01-2014</td>\n",
       "      <td>google</td>\n",
       "      <td>349</td>\n",
       "      <td>916</td>\n",
       "      <td>1</td>\n",
       "      <td>2014</td>\n",
       "    </tr>\n",
       "    <tr>\n",
       "      <th>1</th>\n",
       "      <td>06-01-2014</td>\n",
       "      <td>google</td>\n",
       "      <td>349</td>\n",
       "      <td>916</td>\n",
       "      <td>2</td>\n",
       "      <td>2014</td>\n",
       "    </tr>\n",
       "    <tr>\n",
       "      <th>2</th>\n",
       "      <td>07-01-2014</td>\n",
       "      <td>google</td>\n",
       "      <td>697</td>\n",
       "      <td>916</td>\n",
       "      <td>2</td>\n",
       "      <td>2014</td>\n",
       "    </tr>\n",
       "    <tr>\n",
       "      <th>3</th>\n",
       "      <td>10-01-2014</td>\n",
       "      <td>google</td>\n",
       "      <td>349</td>\n",
       "      <td>916</td>\n",
       "      <td>2</td>\n",
       "      <td>2014</td>\n",
       "    </tr>\n",
       "    <tr>\n",
       "      <th>4</th>\n",
       "      <td>20-01-2014</td>\n",
       "      <td>google</td>\n",
       "      <td>697</td>\n",
       "      <td>916</td>\n",
       "      <td>4</td>\n",
       "      <td>2014</td>\n",
       "    </tr>\n",
       "  </tbody>\n",
       "</table>\n",
       "</div>"
      ],
      "text/plain": [
       "         date platform  searchVolume  Claim_ID  week_number  year_new\n",
       "0  05-01-2014   google           349       916            1      2014\n",
       "1  06-01-2014   google           349       916            2      2014\n",
       "2  07-01-2014   google           697       916            2      2014\n",
       "3  10-01-2014   google           349       916            2      2014\n",
       "4  20-01-2014   google           697       916            4      2014"
      ]
     },
     "execution_count": 18,
     "metadata": {},
     "output_type": "execute_result"
    }
   ],
   "source": [
    "google_search_data.head()"
   ]
  },
  {
   "cell_type": "code",
   "execution_count": 19,
   "id": "dc274523-0c40-4907-93e5-600b1e670778",
   "metadata": {},
   "outputs": [
    {
     "data": {
      "text/plain": [
       "(181565, 6)"
      ]
     },
     "execution_count": 19,
     "metadata": {},
     "output_type": "execute_result"
    }
   ],
   "source": [
    "google_search_data.shape"
   ]
  },
  {
   "cell_type": "code",
   "execution_count": 20,
   "id": "c4185bb2-c858-4214-aea1-1c61fc8ce1c6",
   "metadata": {},
   "outputs": [
    {
     "data": {
      "text/plain": [
       "platform\n",
       "google     138115\n",
       "amazon      23828\n",
       "chewy       13352\n",
       "walmart      6270\n",
       "Name: count, dtype: int64"
      ]
     },
     "execution_count": 20,
     "metadata": {},
     "output_type": "execute_result"
    }
   ],
   "source": [
    "google_search_data['platform'].value_counts()"
   ]
  },
  {
   "cell_type": "code",
   "execution_count": 21,
   "id": "302d5f7c-8b79-4e57-b6e7-8c2c7b1a0e71",
   "metadata": {},
   "outputs": [
    {
     "data": {
      "text/plain": [
       "year_new\n",
       "2018    51388\n",
       "2019    38682\n",
       "2017    27399\n",
       "2016    22280\n",
       "2015    21372\n",
       "2014    20444\n",
       "Name: count, dtype: int64"
      ]
     },
     "execution_count": 21,
     "metadata": {},
     "output_type": "execute_result"
    }
   ],
   "source": [
    "google_search_data['year_new'].value_counts()"
   ]
  },
  {
   "cell_type": "code",
   "execution_count": 22,
   "id": "6b4a92c0-620e-4460-a706-28531f9aef64",
   "metadata": {},
   "outputs": [
    {
     "name": "stdout",
     "output_type": "stream",
     "text": [
      "<class 'pandas.core.frame.DataFrame'>\n",
      "RangeIndex: 181565 entries, 0 to 181564\n",
      "Data columns (total 6 columns):\n",
      " #   Column        Non-Null Count   Dtype \n",
      "---  ------        --------------   ----- \n",
      " 0   date          181565 non-null  object\n",
      " 1   platform      181565 non-null  object\n",
      " 2   searchVolume  181565 non-null  int64 \n",
      " 3   Claim_ID      181565 non-null  int64 \n",
      " 4   week_number   181565 non-null  int64 \n",
      " 5   year_new      181565 non-null  int64 \n",
      "dtypes: int64(4), object(2)\n",
      "memory usage: 8.3+ MB\n"
     ]
    }
   ],
   "source": [
    "google_search_data.info()"
   ]
  },
  {
   "cell_type": "code",
   "execution_count": 23,
   "id": "9210b4ca-07f0-4438-a39b-eb4fddb139c6",
   "metadata": {},
   "outputs": [],
   "source": [
    "google_search_data[\"date\"]=pd.to_datetime(google_search_data[\"date\"],format='%d-%m-%Y', errors='ignore')"
   ]
  },
  {
   "cell_type": "code",
   "execution_count": 24,
   "id": "676b79bf-00e8-4555-8b9f-f9ca3dd71d72",
   "metadata": {},
   "outputs": [
    {
     "data": {
      "text/plain": [
       "date            0\n",
       "platform        0\n",
       "searchVolume    0\n",
       "Claim_ID        0\n",
       "week_number     0\n",
       "year_new        0\n",
       "dtype: int64"
      ]
     },
     "execution_count": 24,
     "metadata": {},
     "output_type": "execute_result"
    }
   ],
   "source": [
    "google_search_data.isnull().sum()"
   ]
  },
  {
   "cell_type": "code",
   "execution_count": 25,
   "id": "f60bc695-47f6-4825-abd1-f5101ec434d9",
   "metadata": {},
   "outputs": [
    {
     "data": {
      "text/html": [
       "<div>\n",
       "<style scoped>\n",
       "    .dataframe tbody tr th:only-of-type {\n",
       "        vertical-align: middle;\n",
       "    }\n",
       "\n",
       "    .dataframe tbody tr th {\n",
       "        vertical-align: top;\n",
       "    }\n",
       "\n",
       "    .dataframe thead th {\n",
       "        text-align: right;\n",
       "    }\n",
       "</style>\n",
       "<table border=\"1\" class=\"dataframe\">\n",
       "  <thead>\n",
       "    <tr style=\"text-align: right;\">\n",
       "      <th></th>\n",
       "      <th>date</th>\n",
       "      <th>platform</th>\n",
       "      <th>searchVolume</th>\n",
       "      <th>Claim_ID</th>\n",
       "      <th>week_number</th>\n",
       "      <th>year_new</th>\n",
       "    </tr>\n",
       "  </thead>\n",
       "  <tbody>\n",
       "    <tr>\n",
       "      <th>0</th>\n",
       "      <td>2014-01-05</td>\n",
       "      <td>google</td>\n",
       "      <td>349</td>\n",
       "      <td>916</td>\n",
       "      <td>1</td>\n",
       "      <td>2014</td>\n",
       "    </tr>\n",
       "    <tr>\n",
       "      <th>1</th>\n",
       "      <td>2014-01-06</td>\n",
       "      <td>google</td>\n",
       "      <td>349</td>\n",
       "      <td>916</td>\n",
       "      <td>2</td>\n",
       "      <td>2014</td>\n",
       "    </tr>\n",
       "    <tr>\n",
       "      <th>2</th>\n",
       "      <td>2014-01-07</td>\n",
       "      <td>google</td>\n",
       "      <td>697</td>\n",
       "      <td>916</td>\n",
       "      <td>2</td>\n",
       "      <td>2014</td>\n",
       "    </tr>\n",
       "    <tr>\n",
       "      <th>3</th>\n",
       "      <td>2014-01-10</td>\n",
       "      <td>google</td>\n",
       "      <td>349</td>\n",
       "      <td>916</td>\n",
       "      <td>2</td>\n",
       "      <td>2014</td>\n",
       "    </tr>\n",
       "    <tr>\n",
       "      <th>4</th>\n",
       "      <td>2014-01-20</td>\n",
       "      <td>google</td>\n",
       "      <td>697</td>\n",
       "      <td>916</td>\n",
       "      <td>4</td>\n",
       "      <td>2014</td>\n",
       "    </tr>\n",
       "  </tbody>\n",
       "</table>\n",
       "</div>"
      ],
      "text/plain": [
       "        date platform  searchVolume  Claim_ID  week_number  year_new\n",
       "0 2014-01-05   google           349       916            1      2014\n",
       "1 2014-01-06   google           349       916            2      2014\n",
       "2 2014-01-07   google           697       916            2      2014\n",
       "3 2014-01-10   google           349       916            2      2014\n",
       "4 2014-01-20   google           697       916            4      2014"
      ]
     },
     "execution_count": 25,
     "metadata": {},
     "output_type": "execute_result"
    }
   ],
   "source": [
    "google_search_data.head()"
   ]
  },
  {
   "cell_type": "code",
   "execution_count": 26,
   "id": "64c8e833-dce6-4a95-a4b2-beed953724e1",
   "metadata": {},
   "outputs": [
    {
     "name": "stdout",
     "output_type": "stream",
     "text": [
      "<class 'pandas.core.frame.DataFrame'>\n",
      "RangeIndex: 181565 entries, 0 to 181564\n",
      "Data columns (total 6 columns):\n",
      " #   Column        Non-Null Count   Dtype         \n",
      "---  ------        --------------   -----         \n",
      " 0   date          181565 non-null  datetime64[ns]\n",
      " 1   platform      181565 non-null  object        \n",
      " 2   searchVolume  181565 non-null  int64         \n",
      " 3   Claim_ID      181565 non-null  int64         \n",
      " 4   week_number   181565 non-null  int64         \n",
      " 5   year_new      181565 non-null  int64         \n",
      "dtypes: datetime64[ns](1), int64(4), object(1)\n",
      "memory usage: 8.3+ MB\n"
     ]
    }
   ],
   "source": [
    "google_search_data.info()"
   ]
  },
  {
   "cell_type": "code",
   "execution_count": 27,
   "id": "48a5c42a-1bdb-4d82-968d-e6dd3675039d",
   "metadata": {},
   "outputs": [
    {
     "name": "stdout",
     "output_type": "stream",
     "text": [
      "datetime64[ns]\n"
     ]
    }
   ],
   "source": [
    "print(google_search_data['date'].dtype)"
   ]
  },
  {
   "cell_type": "code",
   "execution_count": 28,
   "id": "b4c888c3-43d9-4c5d-b3fd-a56657422c3e",
   "metadata": {},
   "outputs": [],
   "source": [
    "google_search_data.sort_values(by=\"date\", inplace=True)"
   ]
  },
  {
   "cell_type": "code",
   "execution_count": 29,
   "id": "71c62fb6-cae1-429a-8de2-31758edd0f78",
   "metadata": {},
   "outputs": [
    {
     "data": {
      "text/html": [
       "<div>\n",
       "<style scoped>\n",
       "    .dataframe tbody tr th:only-of-type {\n",
       "        vertical-align: middle;\n",
       "    }\n",
       "\n",
       "    .dataframe tbody tr th {\n",
       "        vertical-align: top;\n",
       "    }\n",
       "\n",
       "    .dataframe thead th {\n",
       "        text-align: right;\n",
       "    }\n",
       "</style>\n",
       "<table border=\"1\" class=\"dataframe\">\n",
       "  <thead>\n",
       "    <tr style=\"text-align: right;\">\n",
       "      <th></th>\n",
       "      <th>date</th>\n",
       "      <th>platform</th>\n",
       "      <th>searchVolume</th>\n",
       "      <th>Claim_ID</th>\n",
       "      <th>week_number</th>\n",
       "      <th>year_new</th>\n",
       "    </tr>\n",
       "  </thead>\n",
       "  <tbody>\n",
       "    <tr>\n",
       "      <th>1147</th>\n",
       "      <td>2014-01-01</td>\n",
       "      <td>google</td>\n",
       "      <td>889</td>\n",
       "      <td>922</td>\n",
       "      <td>1</td>\n",
       "      <td>2014</td>\n",
       "    </tr>\n",
       "    <tr>\n",
       "      <th>2365</th>\n",
       "      <td>2014-01-01</td>\n",
       "      <td>google</td>\n",
       "      <td>240</td>\n",
       "      <td>707</td>\n",
       "      <td>1</td>\n",
       "      <td>2014</td>\n",
       "    </tr>\n",
       "    <tr>\n",
       "      <th>3802</th>\n",
       "      <td>2014-01-01</td>\n",
       "      <td>google</td>\n",
       "      <td>1131</td>\n",
       "      <td>901</td>\n",
       "      <td>1</td>\n",
       "      <td>2014</td>\n",
       "    </tr>\n",
       "    <tr>\n",
       "      <th>13726</th>\n",
       "      <td>2014-01-01</td>\n",
       "      <td>google</td>\n",
       "      <td>1725</td>\n",
       "      <td>177</td>\n",
       "      <td>1</td>\n",
       "      <td>2014</td>\n",
       "    </tr>\n",
       "    <tr>\n",
       "      <th>1827</th>\n",
       "      <td>2014-01-01</td>\n",
       "      <td>google</td>\n",
       "      <td>2636</td>\n",
       "      <td>100</td>\n",
       "      <td>1</td>\n",
       "      <td>2014</td>\n",
       "    </tr>\n",
       "  </tbody>\n",
       "</table>\n",
       "</div>"
      ],
      "text/plain": [
       "            date platform  searchVolume  Claim_ID  week_number  year_new\n",
       "1147  2014-01-01   google           889       922            1      2014\n",
       "2365  2014-01-01   google           240       707            1      2014\n",
       "3802  2014-01-01   google          1131       901            1      2014\n",
       "13726 2014-01-01   google          1725       177            1      2014\n",
       "1827  2014-01-01   google          2636       100            1      2014"
      ]
     },
     "execution_count": 29,
     "metadata": {},
     "output_type": "execute_result"
    }
   ],
   "source": [
    "google_search_data.head()"
   ]
  },
  {
   "cell_type": "code",
   "execution_count": 30,
   "id": "06cb36c7-b64a-4434-a2d3-e6c7f9258f57",
   "metadata": {},
   "outputs": [],
   "source": [
    "google_search_data = google_search_data.reset_index(drop=True)"
   ]
  },
  {
   "cell_type": "code",
   "execution_count": 31,
   "id": "ba765e56-40ee-4b74-845e-0fccb085e166",
   "metadata": {},
   "outputs": [
    {
     "data": {
      "text/html": [
       "<div>\n",
       "<style scoped>\n",
       "    .dataframe tbody tr th:only-of-type {\n",
       "        vertical-align: middle;\n",
       "    }\n",
       "\n",
       "    .dataframe tbody tr th {\n",
       "        vertical-align: top;\n",
       "    }\n",
       "\n",
       "    .dataframe thead th {\n",
       "        text-align: right;\n",
       "    }\n",
       "</style>\n",
       "<table border=\"1\" class=\"dataframe\">\n",
       "  <thead>\n",
       "    <tr style=\"text-align: right;\">\n",
       "      <th></th>\n",
       "      <th>date</th>\n",
       "      <th>platform</th>\n",
       "      <th>searchVolume</th>\n",
       "      <th>Claim_ID</th>\n",
       "      <th>week_number</th>\n",
       "      <th>year_new</th>\n",
       "    </tr>\n",
       "  </thead>\n",
       "  <tbody>\n",
       "    <tr>\n",
       "      <th>0</th>\n",
       "      <td>2014-01-01</td>\n",
       "      <td>google</td>\n",
       "      <td>889</td>\n",
       "      <td>922</td>\n",
       "      <td>1</td>\n",
       "      <td>2014</td>\n",
       "    </tr>\n",
       "    <tr>\n",
       "      <th>1</th>\n",
       "      <td>2014-01-01</td>\n",
       "      <td>google</td>\n",
       "      <td>240</td>\n",
       "      <td>707</td>\n",
       "      <td>1</td>\n",
       "      <td>2014</td>\n",
       "    </tr>\n",
       "    <tr>\n",
       "      <th>2</th>\n",
       "      <td>2014-01-01</td>\n",
       "      <td>google</td>\n",
       "      <td>1131</td>\n",
       "      <td>901</td>\n",
       "      <td>1</td>\n",
       "      <td>2014</td>\n",
       "    </tr>\n",
       "    <tr>\n",
       "      <th>3</th>\n",
       "      <td>2014-01-01</td>\n",
       "      <td>google</td>\n",
       "      <td>1725</td>\n",
       "      <td>177</td>\n",
       "      <td>1</td>\n",
       "      <td>2014</td>\n",
       "    </tr>\n",
       "    <tr>\n",
       "      <th>4</th>\n",
       "      <td>2014-01-01</td>\n",
       "      <td>google</td>\n",
       "      <td>2636</td>\n",
       "      <td>100</td>\n",
       "      <td>1</td>\n",
       "      <td>2014</td>\n",
       "    </tr>\n",
       "  </tbody>\n",
       "</table>\n",
       "</div>"
      ],
      "text/plain": [
       "        date platform  searchVolume  Claim_ID  week_number  year_new\n",
       "0 2014-01-01   google           889       922            1      2014\n",
       "1 2014-01-01   google           240       707            1      2014\n",
       "2 2014-01-01   google          1131       901            1      2014\n",
       "3 2014-01-01   google          1725       177            1      2014\n",
       "4 2014-01-01   google          2636       100            1      2014"
      ]
     },
     "execution_count": 31,
     "metadata": {},
     "output_type": "execute_result"
    }
   ],
   "source": [
    "google_search_data.head()"
   ]
  },
  {
   "cell_type": "markdown",
   "id": "b4693b59-01fd-4c18-9492-188966a38a0f",
   "metadata": {},
   "source": [
    "## themes_product_data"
   ]
  },
  {
   "cell_type": "code",
   "execution_count": 33,
   "id": "938f8692-a99a-4ab9-b916-4007cb06a1f5",
   "metadata": {},
   "outputs": [],
   "source": [
    "themes_product_data=pd.read_csv(\"D:\\\\Datasets\\\\Theme_product_list.csv\")"
   ]
  },
  {
   "cell_type": "code",
   "execution_count": 34,
   "id": "b0b5ac86-a36d-4970-baac-d915577f7416",
   "metadata": {},
   "outputs": [
    {
     "data": {
      "text/html": [
       "<div>\n",
       "<style scoped>\n",
       "    .dataframe tbody tr th:only-of-type {\n",
       "        vertical-align: middle;\n",
       "    }\n",
       "\n",
       "    .dataframe tbody tr th {\n",
       "        vertical-align: top;\n",
       "    }\n",
       "\n",
       "    .dataframe thead th {\n",
       "        text-align: right;\n",
       "    }\n",
       "</style>\n",
       "<table border=\"1\" class=\"dataframe\">\n",
       "  <thead>\n",
       "    <tr style=\"text-align: right;\">\n",
       "      <th></th>\n",
       "      <th>PRODUCT_ID</th>\n",
       "      <th>CLAIM_ID</th>\n",
       "    </tr>\n",
       "  </thead>\n",
       "  <tbody>\n",
       "    <tr>\n",
       "      <th>0</th>\n",
       "      <td>1</td>\n",
       "      <td>0</td>\n",
       "    </tr>\n",
       "    <tr>\n",
       "      <th>1</th>\n",
       "      <td>2</td>\n",
       "      <td>0</td>\n",
       "    </tr>\n",
       "    <tr>\n",
       "      <th>2</th>\n",
       "      <td>3</td>\n",
       "      <td>0</td>\n",
       "    </tr>\n",
       "    <tr>\n",
       "      <th>3</th>\n",
       "      <td>4</td>\n",
       "      <td>0</td>\n",
       "    </tr>\n",
       "    <tr>\n",
       "      <th>4</th>\n",
       "      <td>5</td>\n",
       "      <td>0</td>\n",
       "    </tr>\n",
       "  </tbody>\n",
       "</table>\n",
       "</div>"
      ],
      "text/plain": [
       "   PRODUCT_ID  CLAIM_ID\n",
       "0           1         0\n",
       "1           2         0\n",
       "2           3         0\n",
       "3           4         0\n",
       "4           5         0"
      ]
     },
     "execution_count": 34,
     "metadata": {},
     "output_type": "execute_result"
    }
   ],
   "source": [
    "themes_product_data.head()"
   ]
  },
  {
   "cell_type": "code",
   "execution_count": 35,
   "id": "161de789-2033-4584-ba69-a532dc3a15a9",
   "metadata": {},
   "outputs": [
    {
     "data": {
      "text/plain": [
       "(91485, 2)"
      ]
     },
     "execution_count": 35,
     "metadata": {},
     "output_type": "execute_result"
    }
   ],
   "source": [
    "themes_product_data.shape"
   ]
  },
  {
   "cell_type": "markdown",
   "id": "3085e65c-dfaa-4a41-bd90-f810ea1b6d01",
   "metadata": {},
   "source": [
    "## social_media_data"
   ]
  },
  {
   "cell_type": "code",
   "execution_count": 37,
   "id": "b9254acf-4833-40eb-82b1-d3c0a74ab93a",
   "metadata": {},
   "outputs": [],
   "source": [
    "social_media_data = pd.read_excel('D:\\\\Datasets\\\\social_media_data.xlsx')"
   ]
  },
  {
   "cell_type": "code",
   "execution_count": 38,
   "id": "16534b44-8777-4104-9459-d74a936e815c",
   "metadata": {},
   "outputs": [
    {
     "data": {
      "text/html": [
       "<div>\n",
       "<style scoped>\n",
       "    .dataframe tbody tr th:only-of-type {\n",
       "        vertical-align: middle;\n",
       "    }\n",
       "\n",
       "    .dataframe tbody tr th {\n",
       "        vertical-align: top;\n",
       "    }\n",
       "\n",
       "    .dataframe thead th {\n",
       "        text-align: right;\n",
       "    }\n",
       "</style>\n",
       "<table border=\"1\" class=\"dataframe\">\n",
       "  <thead>\n",
       "    <tr style=\"text-align: right;\">\n",
       "      <th></th>\n",
       "      <th>Theme Id</th>\n",
       "      <th>published_date</th>\n",
       "      <th>total_post</th>\n",
       "    </tr>\n",
       "  </thead>\n",
       "  <tbody>\n",
       "    <tr>\n",
       "      <th>0</th>\n",
       "      <td>148.0</td>\n",
       "      <td>2015-01-10 00:00:00</td>\n",
       "      <td>76</td>\n",
       "    </tr>\n",
       "    <tr>\n",
       "      <th>1</th>\n",
       "      <td>148.0</td>\n",
       "      <td>2015-10-10 00:00:00</td>\n",
       "      <td>31</td>\n",
       "    </tr>\n",
       "  </tbody>\n",
       "</table>\n",
       "</div>"
      ],
      "text/plain": [
       "   Theme Id       published_date  total_post\n",
       "0     148.0  2015-01-10 00:00:00          76\n",
       "1     148.0  2015-10-10 00:00:00          31"
      ]
     },
     "execution_count": 38,
     "metadata": {},
     "output_type": "execute_result"
    }
   ],
   "source": [
    "social_media_data.head(2)"
   ]
  },
  {
   "cell_type": "code",
   "execution_count": 39,
   "id": "77bd4d6d-117e-4d20-93f9-574a905e4c74",
   "metadata": {},
   "outputs": [
    {
     "data": {
      "text/plain": [
       "(533390, 3)"
      ]
     },
     "execution_count": 39,
     "metadata": {},
     "output_type": "execute_result"
    }
   ],
   "source": [
    "social_media_data.shape"
   ]
  },
  {
   "cell_type": "code",
   "execution_count": 40,
   "id": "b7560b70-ce64-4f1c-a118-9c2cecfb4312",
   "metadata": {},
   "outputs": [
    {
     "data": {
      "text/plain": [
       "Theme Id          218511\n",
       "published_date         0\n",
       "total_post             0\n",
       "dtype: int64"
      ]
     },
     "execution_count": 40,
     "metadata": {},
     "output_type": "execute_result"
    }
   ],
   "source": [
    "social_media_data.isnull().sum()"
   ]
  },
  {
   "cell_type": "code",
   "execution_count": 41,
   "id": "e3b2dd67-1341-401c-8092-02942a656b5b",
   "metadata": {},
   "outputs": [],
   "source": [
    "#social_media_data = social_media_data.dropna(subset=['Theme Id'])"
   ]
  },
  {
   "cell_type": "code",
   "execution_count": 42,
   "id": "b4051b15-6dff-4e25-b139-797c3b77a1af",
   "metadata": {},
   "outputs": [],
   "source": [
    "social_media_data.reset_index(drop=True, inplace=True)"
   ]
  },
  {
   "cell_type": "code",
   "execution_count": 43,
   "id": "8bd07309-2f53-40dd-987b-eb7428c299be",
   "metadata": {},
   "outputs": [
    {
     "name": "stdout",
     "output_type": "stream",
     "text": [
      "<class 'pandas.core.frame.DataFrame'>\n",
      "RangeIndex: 533390 entries, 0 to 533389\n",
      "Data columns (total 3 columns):\n",
      " #   Column          Non-Null Count   Dtype  \n",
      "---  ------          --------------   -----  \n",
      " 0   Theme Id        314879 non-null  float64\n",
      " 1   published_date  533390 non-null  object \n",
      " 2   total_post      533390 non-null  int64  \n",
      "dtypes: float64(1), int64(1), object(1)\n",
      "memory usage: 12.2+ MB\n"
     ]
    }
   ],
   "source": [
    "social_media_data.info()"
   ]
  },
  {
   "cell_type": "code",
   "execution_count": 44,
   "id": "3f72d367-7a10-4e58-abc3-cf6d984824a6",
   "metadata": {},
   "outputs": [],
   "source": [
    "#social_media_data['Theme Id'] = social_media_data['Theme Id'].astype(int)\n",
    "social_media_data['Theme Id'] = social_media_data['Theme Id'].fillna(0).astype(int)"
   ]
  },
  {
   "cell_type": "code",
   "execution_count": 45,
   "id": "2b6d5bf5-a672-42b8-89cb-533625022e7b",
   "metadata": {},
   "outputs": [],
   "source": [
    "product_manufacture_list=pd.read_csv(\"D:\\\\Datasets\\\\product_manufacturer_list.csv\")"
   ]
  },
  {
   "cell_type": "code",
   "execution_count": 46,
   "id": "aa39d698-fca7-473f-a405-8076672bb53a",
   "metadata": {},
   "outputs": [
    {
     "data": {
      "text/html": [
       "<div>\n",
       "<style scoped>\n",
       "    .dataframe tbody tr th:only-of-type {\n",
       "        vertical-align: middle;\n",
       "    }\n",
       "\n",
       "    .dataframe tbody tr th {\n",
       "        vertical-align: top;\n",
       "    }\n",
       "\n",
       "    .dataframe thead th {\n",
       "        text-align: right;\n",
       "    }\n",
       "</style>\n",
       "<table border=\"1\" class=\"dataframe\">\n",
       "  <thead>\n",
       "    <tr style=\"text-align: right;\">\n",
       "      <th></th>\n",
       "      <th>PRODUCT_ID</th>\n",
       "      <th>Vendor</th>\n",
       "      <th>Unnamed: 2</th>\n",
       "      <th>Unnamed: 3</th>\n",
       "      <th>Unnamed: 4</th>\n",
       "      <th>Unnamed: 5</th>\n",
       "      <th>Unnamed: 6</th>\n",
       "    </tr>\n",
       "  </thead>\n",
       "  <tbody>\n",
       "    <tr>\n",
       "      <th>0</th>\n",
       "      <td>1</td>\n",
       "      <td>Others</td>\n",
       "      <td>NaN</td>\n",
       "      <td>NaN</td>\n",
       "      <td>NaN</td>\n",
       "      <td>NaN</td>\n",
       "      <td>NaN</td>\n",
       "    </tr>\n",
       "    <tr>\n",
       "      <th>1</th>\n",
       "      <td>2</td>\n",
       "      <td>Others</td>\n",
       "      <td>NaN</td>\n",
       "      <td>NaN</td>\n",
       "      <td>NaN</td>\n",
       "      <td>NaN</td>\n",
       "      <td>NaN</td>\n",
       "    </tr>\n",
       "    <tr>\n",
       "      <th>2</th>\n",
       "      <td>3</td>\n",
       "      <td>Others</td>\n",
       "      <td>NaN</td>\n",
       "      <td>NaN</td>\n",
       "      <td>NaN</td>\n",
       "      <td>NaN</td>\n",
       "      <td>NaN</td>\n",
       "    </tr>\n",
       "    <tr>\n",
       "      <th>3</th>\n",
       "      <td>4</td>\n",
       "      <td>Others</td>\n",
       "      <td>NaN</td>\n",
       "      <td>NaN</td>\n",
       "      <td>NaN</td>\n",
       "      <td>NaN</td>\n",
       "      <td>NaN</td>\n",
       "    </tr>\n",
       "    <tr>\n",
       "      <th>4</th>\n",
       "      <td>5</td>\n",
       "      <td>Others</td>\n",
       "      <td>NaN</td>\n",
       "      <td>NaN</td>\n",
       "      <td>NaN</td>\n",
       "      <td>NaN</td>\n",
       "      <td>NaN</td>\n",
       "    </tr>\n",
       "  </tbody>\n",
       "</table>\n",
       "</div>"
      ],
      "text/plain": [
       "   PRODUCT_ID  Vendor  Unnamed: 2  Unnamed: 3  Unnamed: 4  Unnamed: 5  \\\n",
       "0           1  Others         NaN         NaN         NaN         NaN   \n",
       "1           2  Others         NaN         NaN         NaN         NaN   \n",
       "2           3  Others         NaN         NaN         NaN         NaN   \n",
       "3           4  Others         NaN         NaN         NaN         NaN   \n",
       "4           5  Others         NaN         NaN         NaN         NaN   \n",
       "\n",
       "   Unnamed: 6  \n",
       "0         NaN  \n",
       "1         NaN  \n",
       "2         NaN  \n",
       "3         NaN  \n",
       "4         NaN  "
      ]
     },
     "execution_count": 46,
     "metadata": {},
     "output_type": "execute_result"
    }
   ],
   "source": [
    "product_manufacture_list.head()"
   ]
  },
  {
   "cell_type": "code",
   "execution_count": 47,
   "id": "d58deb53-3dc9-4a2d-9377-05991d9e95c6",
   "metadata": {},
   "outputs": [
    {
     "name": "stdout",
     "output_type": "stream",
     "text": [
      "<class 'pandas.core.frame.DataFrame'>\n",
      "RangeIndex: 67175 entries, 0 to 67174\n",
      "Data columns (total 7 columns):\n",
      " #   Column      Non-Null Count  Dtype  \n",
      "---  ------      --------------  -----  \n",
      " 0   PRODUCT_ID  67175 non-null  int64  \n",
      " 1   Vendor      67175 non-null  object \n",
      " 2   Unnamed: 2  0 non-null      float64\n",
      " 3   Unnamed: 3  0 non-null      float64\n",
      " 4   Unnamed: 4  0 non-null      float64\n",
      " 5   Unnamed: 5  0 non-null      float64\n",
      " 6   Unnamed: 6  0 non-null      float64\n",
      "dtypes: float64(5), int64(1), object(1)\n",
      "memory usage: 3.6+ MB\n"
     ]
    }
   ],
   "source": [
    "product_manufacture_list.info()"
   ]
  },
  {
   "cell_type": "code",
   "execution_count": 48,
   "id": "0d9c4c5d-5496-4af6-a7d5-924050d3b123",
   "metadata": {},
   "outputs": [
    {
     "name": "stdout",
     "output_type": "stream",
     "text": [
      "PRODUCT_ID\n",
      "Vendor\n",
      "Unnamed: 2\n",
      "Unnamed: 3\n",
      "Unnamed: 4\n",
      "Unnamed: 5\n",
      "Unnamed: 6\n"
     ]
    }
   ],
   "source": [
    "for col in product_manufacture_list.columns:\n",
    "    print(col)"
   ]
  },
  {
   "cell_type": "code",
   "execution_count": 49,
   "id": "e19f3d31-6fd9-429c-9a9a-ee715d4adfe2",
   "metadata": {},
   "outputs": [],
   "source": [
    "product_manufacture_list.drop([\"Unnamed: 2\",\"Unnamed: 3\",\"Unnamed: 4\",\"Unnamed: 5\",\"Unnamed: 6\"], axis=1, inplace=True)"
   ]
  },
  {
   "cell_type": "code",
   "execution_count": 50,
   "id": "f47d4be5-6990-44ae-bb21-027d69980c66",
   "metadata": {},
   "outputs": [],
   "source": [
    "product_manufacture_list = product_manufacture_list[['PRODUCT_ID','Vendor']]"
   ]
  },
  {
   "cell_type": "code",
   "execution_count": 51,
   "id": "80008023-580a-40ee-91e2-20a5ae2bf7a3",
   "metadata": {},
   "outputs": [
    {
     "data": {
      "text/plain": [
       "PRODUCT_ID    0\n",
       "Vendor        0\n",
       "dtype: int64"
      ]
     },
     "execution_count": 51,
     "metadata": {},
     "output_type": "execute_result"
    }
   ],
   "source": [
    "product_manufacture_list.isnull().sum()"
   ]
  },
  {
   "cell_type": "code",
   "execution_count": 52,
   "id": "ea90571a-6e58-4c9c-8191-518d13be4020",
   "metadata": {},
   "outputs": [
    {
     "name": "stdout",
     "output_type": "stream",
     "text": [
      "<class 'pandas.core.frame.DataFrame'>\n",
      "RangeIndex: 67175 entries, 0 to 67174\n",
      "Data columns (total 2 columns):\n",
      " #   Column      Non-Null Count  Dtype \n",
      "---  ------      --------------  ----- \n",
      " 0   PRODUCT_ID  67175 non-null  int64 \n",
      " 1   Vendor      67175 non-null  object\n",
      "dtypes: int64(1), object(1)\n",
      "memory usage: 1.0+ MB\n"
     ]
    }
   ],
   "source": [
    "product_manufacture_list.info()"
   ]
  },
  {
   "cell_type": "code",
   "execution_count": 53,
   "id": "40bacede-ab87-473f-b646-9c114041bbbb",
   "metadata": {},
   "outputs": [
    {
     "data": {
      "text/plain": [
       "(67175, 2)"
      ]
     },
     "execution_count": 53,
     "metadata": {},
     "output_type": "execute_result"
    }
   ],
   "source": [
    "product_manufacture_list.shape"
   ]
  },
  {
   "cell_type": "code",
   "execution_count": null,
   "id": "0bc1fde2-3624-4052-b3ca-576996f5bbf3",
   "metadata": {},
   "outputs": [],
   "source": []
  },
  {
   "cell_type": "code",
   "execution_count": 54,
   "id": "11dd0265-0b78-4aa5-9df1-d9f945844f73",
   "metadata": {},
   "outputs": [],
   "source": [
    "themes_list=pd.read_csv(\"D:\\\\Datasets\\\\Theme_list.csv\")"
   ]
  },
  {
   "cell_type": "code",
   "execution_count": 55,
   "id": "9d36d895-a462-489c-99b0-8d533226e50c",
   "metadata": {},
   "outputs": [
    {
     "data": {
      "text/html": [
       "<div>\n",
       "<style scoped>\n",
       "    .dataframe tbody tr th:only-of-type {\n",
       "        vertical-align: middle;\n",
       "    }\n",
       "\n",
       "    .dataframe tbody tr th {\n",
       "        vertical-align: top;\n",
       "    }\n",
       "\n",
       "    .dataframe thead th {\n",
       "        text-align: right;\n",
       "    }\n",
       "</style>\n",
       "<table border=\"1\" class=\"dataframe\">\n",
       "  <thead>\n",
       "    <tr style=\"text-align: right;\">\n",
       "      <th></th>\n",
       "      <th>CLAIM_ID</th>\n",
       "      <th>Claim Name</th>\n",
       "    </tr>\n",
       "  </thead>\n",
       "  <tbody>\n",
       "    <tr>\n",
       "      <th>0</th>\n",
       "      <td>0</td>\n",
       "      <td>No Claim</td>\n",
       "    </tr>\n",
       "    <tr>\n",
       "      <th>1</th>\n",
       "      <td>8</td>\n",
       "      <td>low carb</td>\n",
       "    </tr>\n",
       "    <tr>\n",
       "      <th>2</th>\n",
       "      <td>15</td>\n",
       "      <td>beans</td>\n",
       "    </tr>\n",
       "    <tr>\n",
       "      <th>3</th>\n",
       "      <td>16</td>\n",
       "      <td>cocoa</td>\n",
       "    </tr>\n",
       "    <tr>\n",
       "      <th>4</th>\n",
       "      <td>26</td>\n",
       "      <td>vanilla</td>\n",
       "    </tr>\n",
       "  </tbody>\n",
       "</table>\n",
       "</div>"
      ],
      "text/plain": [
       "   CLAIM_ID Claim Name\n",
       "0         0   No Claim\n",
       "1         8   low carb\n",
       "2        15      beans\n",
       "3        16      cocoa\n",
       "4        26    vanilla"
      ]
     },
     "execution_count": 55,
     "metadata": {},
     "output_type": "execute_result"
    }
   ],
   "source": [
    "themes_list.head()"
   ]
  },
  {
   "cell_type": "code",
   "execution_count": 56,
   "id": "ff0ef65c-27a4-4006-965d-18bdbd7b2bd5",
   "metadata": {},
   "outputs": [
    {
     "name": "stdout",
     "output_type": "stream",
     "text": [
      "<class 'pandas.core.frame.DataFrame'>\n",
      "RangeIndex: 208 entries, 0 to 207\n",
      "Data columns (total 2 columns):\n",
      " #   Column      Non-Null Count  Dtype \n",
      "---  ------      --------------  ----- \n",
      " 0   CLAIM_ID    208 non-null    int64 \n",
      " 1   Claim Name  208 non-null    object\n",
      "dtypes: int64(1), object(1)\n",
      "memory usage: 3.4+ KB\n"
     ]
    }
   ],
   "source": [
    "themes_list.info()"
   ]
  },
  {
   "cell_type": "code",
   "execution_count": 57,
   "id": "ac78ddfe-579c-4b2f-8d6e-83c9ee833ff7",
   "metadata": {},
   "outputs": [
    {
     "data": {
      "text/plain": [
       "CLAIM_ID      0\n",
       "Claim Name    0\n",
       "dtype: int64"
      ]
     },
     "execution_count": 57,
     "metadata": {},
     "output_type": "execute_result"
    }
   ],
   "source": [
    "themes_list.isnull().sum()"
   ]
  },
  {
   "cell_type": "code",
   "execution_count": 58,
   "id": "c5e8e58a-edf7-4d41-bbfc-fb25871aac03",
   "metadata": {},
   "outputs": [
    {
     "data": {
      "text/plain": [
       "(208, 2)"
      ]
     },
     "execution_count": 58,
     "metadata": {},
     "output_type": "execute_result"
    }
   ],
   "source": [
    "themes_list.shape"
   ]
  },
  {
   "cell_type": "code",
   "execution_count": 59,
   "id": "5e5b87cf-3462-4506-93d9-f6008427134c",
   "metadata": {},
   "outputs": [
    {
     "data": {
      "text/plain": [
       "208"
      ]
     },
     "execution_count": 59,
     "metadata": {},
     "output_type": "execute_result"
    }
   ],
   "source": [
    "themes_list['CLAIM_ID'].nunique()"
   ]
  },
  {
   "cell_type": "code",
   "execution_count": 60,
   "id": "46cb9c8e-5dfa-432f-bf66-56160e250111",
   "metadata": {},
   "outputs": [
    {
     "data": {
      "text/plain": [
       "array([  0,   8,  15,  16,  26,  32,  38,  39,  40,  58,  59,  65,  73,\n",
       "        75,  79,  80,  81, 100, 101, 120, 125, 138, 139, 142, 143, 144,\n",
       "       145, 147, 148, 151, 152, 157, 158, 163, 171, 173, 177, 178, 185,\n",
       "       186, 187, 191, 192, 193, 197, 207, 211, 220, 222, 224, 227, 228,\n",
       "       287, 384, 385, 388, 393, 430, 432, 433, 437, 438, 440, 441, 916,\n",
       "       650, 713, 979, 620, 543, 904, 754, 821, 984, 777, 670, 761, 780,\n",
       "       941, 832, 608, 681, 913, 622, 738, 600, 601, 788, 867, 977, 928,\n",
       "       813, 847, 702, 587, 842, 823, 743, 907, 974, 510, 747, 884, 931,\n",
       "       803, 526, 860, 869, 870, 852, 541, 839, 634, 789, 618, 519, 576,\n",
       "       844, 583, 606, 918, 716, 594, 889, 980, 930, 616, 901, 982, 556,\n",
       "       741, 682, 558, 965, 657, 536, 507, 516, 981, 816, 555, 707, 944,\n",
       "       903, 999, 677, 782, 959, 566, 659, 704, 915, 605, 632, 668, 732,\n",
       "       770, 877, 958, 900, 970, 531, 929, 684, 967, 985, 964, 755, 683,\n",
       "       799, 843, 948, 887, 937, 908, 737, 613, 615, 509, 922, 785, 946,\n",
       "       720, 689, 567, 514, 574, 906, 517, 585, 960, 868, 957, 873, 552,\n",
       "       529, 919, 776, 593, 983, 673, 963, 727, 508, 769, 949, 521, 876],\n",
       "      dtype=int64)"
      ]
     },
     "execution_count": 60,
     "metadata": {},
     "output_type": "execute_result"
    }
   ],
   "source": [
    "themes_list['CLAIM_ID'].unique()"
   ]
  },
  {
   "cell_type": "code",
   "execution_count": 61,
   "id": "158054d9-c556-429f-b5dd-ea71e79d1304",
   "metadata": {},
   "outputs": [
    {
     "data": {
      "text/plain": [
       "array(['No Claim', 'low carb', 'beans', 'cocoa', 'vanilla', 'stroganoff',\n",
       "       'cumin', 'high/source of protein', 'no additives/preservatives',\n",
       "       'buckwheat', 'tutti frutti', 'ethical - not specific', 'brown ale',\n",
       "       'french bisque', 'pheasant', 'whitebait', 'gmo free',\n",
       "       'low calorie', 'peach', 'crab', 'nuts', 'venison', 'fruit',\n",
       "       'convenience - easy-to-prepare', 'anchovy', 'pomegranate',\n",
       "       'scallop', 'american gumbo', 'tuna', 'low sodium', 'low sugar',\n",
       "       'french', 'chicken', 'ethical - packaging', 'cherry',\n",
       "       'vitamin/mineral fortified', 'liver', 'red raspberry', 'cookie',\n",
       "       'pollock', 'blueberry', 'bone health', 'prebiotic', 'poultry',\n",
       "       'cheddar cheese', 'energy/alertness', 'halal', 'herbs', 'pizza',\n",
       "       'american southwest style', 'salmon', 'beef hamburger', 'tilapia',\n",
       "       'mackerel', 'peanut', 'lobster', 'sea salt', 'soy foods',\n",
       "       'apple cinnamon', 'gingerbread', 'vegetarian', 'ethnic & exotic',\n",
       "       'cream', 'berry', 'gluten free', 'added calcium', 'added fiber',\n",
       "       'added iron', 'added protein', 'allergy', 'anti-aging/aging-well',\n",
       "       'antioxidant', 'bacon', 'banana', 'beef', 'boar', 'brain health',\n",
       "       'broccoli', 'butter', 'carob', 'carrot', 'cashew nut', 'celery',\n",
       "       'cheese', 'chili', 'choice', 'cinnamon', 'co-branding', 'coconut',\n",
       "       'cod', 'convenience', 'convenience - consumption',\n",
       "       'convenience - packaging', 'convenience - ready prepared',\n",
       "       'convenience - time saving', 'cranberry', 'crawfish',\n",
       "       'dandelion greens', 'dha', 'diabetic', 'digestive/gut health',\n",
       "       'dry', 'duck', 'economy', 'egg', 'ethical',\n",
       "       'ethical - animal/fish & bird', 'ethical - environment',\n",
       "       'ethical - human', 'eye health', 'fish',\n",
       "       'functional, not specified', 'garden pea', 'green bean',\n",
       "       'green tea', 'health (active)', 'health (passive)', 'heart health',\n",
       "       'heart meat', 'hemp seeds', 'herbal', 'herring', 'hfcs free',\n",
       "       'high/source of fiber', 'honey', 'immune health',\n",
       "       'indulgent & premium', 'joint health', 'kale', 'kosher',\n",
       "       'lactose free', 'lamb', 'low cholesterol', 'low fat', 'low gi',\n",
       "       'mango', 'meat', 'microwaveable', 'milk chocolate', 'mint',\n",
       "       'natural', 'no added sugar', 'no trans fats', 'omega-3',\n",
       "       'oral health', 'orange', 'organic', 'others', 'parmesan cheese',\n",
       "       'parsley', 'peanut butter', 'peppermint', 'pleasure', 'pork',\n",
       "       'probiotic', 'pumpkin', 'rabbit', 'red apple', 'refill',\n",
       "       'ricotta cheese', 'roquefort cheese', 'sardine', 'sausage',\n",
       "       'seafood', 'seasonal/in-out products', 'seeds', 'shrimp',\n",
       "       'single shot', 'skin health', 'smoked', 'snickerdoodle', 'sole',\n",
       "       'spinach', 'sports & recovery', 'sticks', 'strawberry',\n",
       "       'sugar free', 'sweet potato', 'toffee', 'traditional', 'trout',\n",
       "       'turkey', 'vegan', 'vegetables', 'weight management',\n",
       "       'white cheddar cheese', 'wholegrain', 'yogurt', 'brownie',\n",
       "       'garlic', 'red tomato', 'cloves', 'rosemary', 'butterscotch',\n",
       "       'pepper', 'quail', 'butternut squash', 'hickory smoked', 'dill',\n",
       "       'papaya', 'blackberry', 'tarragon', 'seaweed', 'cola',\n",
       "       'shortbread', 'passion fruit', 'blood orange', 'caramel'],\n",
       "      dtype=object)"
      ]
     },
     "execution_count": 61,
     "metadata": {},
     "output_type": "execute_result"
    }
   ],
   "source": [
    "themes_list['Claim Name'].unique()"
   ]
  },
  {
   "cell_type": "code",
   "execution_count": null,
   "id": "176622e0-4a5c-418b-87c2-f87e1b2adc88",
   "metadata": {},
   "outputs": [],
   "source": []
  },
  {
   "cell_type": "code",
   "execution_count": 62,
   "id": "8dafd376-855d-4628-818b-3548abc80d89",
   "metadata": {},
   "outputs": [
    {
     "data": {
      "text/html": [
       "<div>\n",
       "<style scoped>\n",
       "    .dataframe tbody tr th:only-of-type {\n",
       "        vertical-align: middle;\n",
       "    }\n",
       "\n",
       "    .dataframe tbody tr th {\n",
       "        vertical-align: top;\n",
       "    }\n",
       "\n",
       "    .dataframe thead th {\n",
       "        text-align: right;\n",
       "    }\n",
       "</style>\n",
       "<table border=\"1\" class=\"dataframe\">\n",
       "  <thead>\n",
       "    <tr style=\"text-align: right;\">\n",
       "      <th></th>\n",
       "      <th>system_calendar_key_N</th>\n",
       "      <th>product_id</th>\n",
       "      <th>sales_dollars_value</th>\n",
       "      <th>sales_units_value</th>\n",
       "      <th>sales_lbs_value</th>\n",
       "    </tr>\n",
       "  </thead>\n",
       "  <tbody>\n",
       "    <tr>\n",
       "      <th>0</th>\n",
       "      <td>2016-01-09</td>\n",
       "      <td>1</td>\n",
       "      <td>13927.0</td>\n",
       "      <td>934</td>\n",
       "      <td>18680</td>\n",
       "    </tr>\n",
       "    <tr>\n",
       "      <th>1</th>\n",
       "      <td>2016-01-09</td>\n",
       "      <td>3</td>\n",
       "      <td>10289.0</td>\n",
       "      <td>1592</td>\n",
       "      <td>28646</td>\n",
       "    </tr>\n",
       "  </tbody>\n",
       "</table>\n",
       "</div>"
      ],
      "text/plain": [
       "  system_calendar_key_N  product_id  sales_dollars_value  sales_units_value  \\\n",
       "0            2016-01-09           1              13927.0                934   \n",
       "1            2016-01-09           3              10289.0               1592   \n",
       "\n",
       "   sales_lbs_value  \n",
       "0            18680  \n",
       "1            28646  "
      ]
     },
     "execution_count": 62,
     "metadata": {},
     "output_type": "execute_result"
    }
   ],
   "source": [
    "sales_data.head(2)"
   ]
  },
  {
   "cell_type": "code",
   "execution_count": 63,
   "id": "4fda1a50-05c5-4eb2-b504-c3f436e37919",
   "metadata": {},
   "outputs": [
    {
     "data": {
      "text/html": [
       "<div>\n",
       "<style scoped>\n",
       "    .dataframe tbody tr th:only-of-type {\n",
       "        vertical-align: middle;\n",
       "    }\n",
       "\n",
       "    .dataframe tbody tr th {\n",
       "        vertical-align: top;\n",
       "    }\n",
       "\n",
       "    .dataframe thead th {\n",
       "        text-align: right;\n",
       "    }\n",
       "</style>\n",
       "<table border=\"1\" class=\"dataframe\">\n",
       "  <thead>\n",
       "    <tr style=\"text-align: right;\">\n",
       "      <th></th>\n",
       "      <th>Theme Id</th>\n",
       "      <th>published_date</th>\n",
       "      <th>total_post</th>\n",
       "    </tr>\n",
       "  </thead>\n",
       "  <tbody>\n",
       "    <tr>\n",
       "      <th>0</th>\n",
       "      <td>148</td>\n",
       "      <td>2015-01-10 00:00:00</td>\n",
       "      <td>76</td>\n",
       "    </tr>\n",
       "    <tr>\n",
       "      <th>1</th>\n",
       "      <td>148</td>\n",
       "      <td>2015-10-10 00:00:00</td>\n",
       "      <td>31</td>\n",
       "    </tr>\n",
       "  </tbody>\n",
       "</table>\n",
       "</div>"
      ],
      "text/plain": [
       "   Theme Id       published_date  total_post\n",
       "0       148  2015-01-10 00:00:00          76\n",
       "1       148  2015-10-10 00:00:00          31"
      ]
     },
     "execution_count": 63,
     "metadata": {},
     "output_type": "execute_result"
    }
   ],
   "source": [
    "social_media_data.head(2)"
   ]
  },
  {
   "cell_type": "code",
   "execution_count": 64,
   "id": "f086a9ab-938a-4995-9e8d-d7aaf17305f5",
   "metadata": {},
   "outputs": [
    {
     "name": "stdout",
     "output_type": "stream",
     "text": [
      "<class 'pandas.core.frame.DataFrame'>\n",
      "RangeIndex: 533390 entries, 0 to 533389\n",
      "Data columns (total 3 columns):\n",
      " #   Column          Non-Null Count   Dtype \n",
      "---  ------          --------------   ----- \n",
      " 0   Theme Id        533390 non-null  int32 \n",
      " 1   published_date  533390 non-null  object\n",
      " 2   total_post      533390 non-null  int64 \n",
      "dtypes: int32(1), int64(1), object(1)\n",
      "memory usage: 10.2+ MB\n"
     ]
    }
   ],
   "source": [
    "social_media_data.info()"
   ]
  },
  {
   "cell_type": "code",
   "execution_count": 65,
   "id": "e7a6cd77-df3a-498e-8b5e-4577d7c4315e",
   "metadata": {},
   "outputs": [],
   "source": [
    "social_media_data.rename(columns={'Theme Id':'CLAIM_ID'}, inplace=True)"
   ]
  },
  {
   "cell_type": "code",
   "execution_count": 66,
   "id": "ac850b26-3f3b-45d6-af0a-3c9f1a29ee33",
   "metadata": {},
   "outputs": [
    {
     "data": {
      "text/html": [
       "<div>\n",
       "<style scoped>\n",
       "    .dataframe tbody tr th:only-of-type {\n",
       "        vertical-align: middle;\n",
       "    }\n",
       "\n",
       "    .dataframe tbody tr th {\n",
       "        vertical-align: top;\n",
       "    }\n",
       "\n",
       "    .dataframe thead th {\n",
       "        text-align: right;\n",
       "    }\n",
       "</style>\n",
       "<table border=\"1\" class=\"dataframe\">\n",
       "  <thead>\n",
       "    <tr style=\"text-align: right;\">\n",
       "      <th></th>\n",
       "      <th>CLAIM_ID</th>\n",
       "      <th>published_date</th>\n",
       "      <th>total_post</th>\n",
       "    </tr>\n",
       "  </thead>\n",
       "  <tbody>\n",
       "    <tr>\n",
       "      <th>0</th>\n",
       "      <td>148</td>\n",
       "      <td>2015-01-10 00:00:00</td>\n",
       "      <td>76</td>\n",
       "    </tr>\n",
       "    <tr>\n",
       "      <th>1</th>\n",
       "      <td>148</td>\n",
       "      <td>2015-10-10 00:00:00</td>\n",
       "      <td>31</td>\n",
       "    </tr>\n",
       "  </tbody>\n",
       "</table>\n",
       "</div>"
      ],
      "text/plain": [
       "   CLAIM_ID       published_date  total_post\n",
       "0       148  2015-01-10 00:00:00          76\n",
       "1       148  2015-10-10 00:00:00          31"
      ]
     },
     "execution_count": 66,
     "metadata": {},
     "output_type": "execute_result"
    }
   ],
   "source": [
    "social_media_data.head(2)"
   ]
  },
  {
   "cell_type": "code",
   "execution_count": 67,
   "id": "5dd97b0f-78eb-44f9-864b-4a2495b381bd",
   "metadata": {},
   "outputs": [
    {
     "data": {
      "text/html": [
       "<div>\n",
       "<style scoped>\n",
       "    .dataframe tbody tr th:only-of-type {\n",
       "        vertical-align: middle;\n",
       "    }\n",
       "\n",
       "    .dataframe tbody tr th {\n",
       "        vertical-align: top;\n",
       "    }\n",
       "\n",
       "    .dataframe thead th {\n",
       "        text-align: right;\n",
       "    }\n",
       "</style>\n",
       "<table border=\"1\" class=\"dataframe\">\n",
       "  <thead>\n",
       "    <tr style=\"text-align: right;\">\n",
       "      <th></th>\n",
       "      <th>PRODUCT_ID</th>\n",
       "      <th>Vendor</th>\n",
       "    </tr>\n",
       "  </thead>\n",
       "  <tbody>\n",
       "    <tr>\n",
       "      <th>0</th>\n",
       "      <td>1</td>\n",
       "      <td>Others</td>\n",
       "    </tr>\n",
       "    <tr>\n",
       "      <th>1</th>\n",
       "      <td>2</td>\n",
       "      <td>Others</td>\n",
       "    </tr>\n",
       "  </tbody>\n",
       "</table>\n",
       "</div>"
      ],
      "text/plain": [
       "   PRODUCT_ID  Vendor\n",
       "0           1  Others\n",
       "1           2  Others"
      ]
     },
     "execution_count": 67,
     "metadata": {},
     "output_type": "execute_result"
    }
   ],
   "source": [
    "product_manufacture_list.head(2)"
   ]
  },
  {
   "cell_type": "code",
   "execution_count": 68,
   "id": "764ddbd6-374d-4d0b-8b8b-b09d8ef365d9",
   "metadata": {},
   "outputs": [
    {
     "data": {
      "text/html": [
       "<div>\n",
       "<style scoped>\n",
       "    .dataframe tbody tr th:only-of-type {\n",
       "        vertical-align: middle;\n",
       "    }\n",
       "\n",
       "    .dataframe tbody tr th {\n",
       "        vertical-align: top;\n",
       "    }\n",
       "\n",
       "    .dataframe thead th {\n",
       "        text-align: right;\n",
       "    }\n",
       "</style>\n",
       "<table border=\"1\" class=\"dataframe\">\n",
       "  <thead>\n",
       "    <tr style=\"text-align: right;\">\n",
       "      <th></th>\n",
       "      <th>CLAIM_ID</th>\n",
       "      <th>Claim Name</th>\n",
       "    </tr>\n",
       "  </thead>\n",
       "  <tbody>\n",
       "    <tr>\n",
       "      <th>0</th>\n",
       "      <td>0</td>\n",
       "      <td>No Claim</td>\n",
       "    </tr>\n",
       "    <tr>\n",
       "      <th>1</th>\n",
       "      <td>8</td>\n",
       "      <td>low carb</td>\n",
       "    </tr>\n",
       "  </tbody>\n",
       "</table>\n",
       "</div>"
      ],
      "text/plain": [
       "   CLAIM_ID Claim Name\n",
       "0         0   No Claim\n",
       "1         8   low carb"
      ]
     },
     "execution_count": 68,
     "metadata": {},
     "output_type": "execute_result"
    }
   ],
   "source": [
    "themes_list.head(2)"
   ]
  },
  {
   "cell_type": "code",
   "execution_count": 69,
   "id": "43f2bb4f-2fdb-4e44-bb22-252c24134b90",
   "metadata": {},
   "outputs": [
    {
     "data": {
      "text/html": [
       "<div>\n",
       "<style scoped>\n",
       "    .dataframe tbody tr th:only-of-type {\n",
       "        vertical-align: middle;\n",
       "    }\n",
       "\n",
       "    .dataframe tbody tr th {\n",
       "        vertical-align: top;\n",
       "    }\n",
       "\n",
       "    .dataframe thead th {\n",
       "        text-align: right;\n",
       "    }\n",
       "</style>\n",
       "<table border=\"1\" class=\"dataframe\">\n",
       "  <thead>\n",
       "    <tr style=\"text-align: right;\">\n",
       "      <th></th>\n",
       "      <th>PRODUCT_ID</th>\n",
       "      <th>CLAIM_ID</th>\n",
       "    </tr>\n",
       "  </thead>\n",
       "  <tbody>\n",
       "    <tr>\n",
       "      <th>0</th>\n",
       "      <td>1</td>\n",
       "      <td>0</td>\n",
       "    </tr>\n",
       "    <tr>\n",
       "      <th>1</th>\n",
       "      <td>2</td>\n",
       "      <td>0</td>\n",
       "    </tr>\n",
       "  </tbody>\n",
       "</table>\n",
       "</div>"
      ],
      "text/plain": [
       "   PRODUCT_ID  CLAIM_ID\n",
       "0           1         0\n",
       "1           2         0"
      ]
     },
     "execution_count": 69,
     "metadata": {},
     "output_type": "execute_result"
    }
   ],
   "source": [
    "themes_product_data.head(2)"
   ]
  },
  {
   "cell_type": "code",
   "execution_count": 70,
   "id": "7d435001-44c7-47d1-b264-c1d9f5d74aec",
   "metadata": {},
   "outputs": [
    {
     "data": {
      "text/html": [
       "<div>\n",
       "<style scoped>\n",
       "    .dataframe tbody tr th:only-of-type {\n",
       "        vertical-align: middle;\n",
       "    }\n",
       "\n",
       "    .dataframe tbody tr th {\n",
       "        vertical-align: top;\n",
       "    }\n",
       "\n",
       "    .dataframe thead th {\n",
       "        text-align: right;\n",
       "    }\n",
       "</style>\n",
       "<table border=\"1\" class=\"dataframe\">\n",
       "  <thead>\n",
       "    <tr style=\"text-align: right;\">\n",
       "      <th></th>\n",
       "      <th>date</th>\n",
       "      <th>platform</th>\n",
       "      <th>searchVolume</th>\n",
       "      <th>Claim_ID</th>\n",
       "      <th>week_number</th>\n",
       "      <th>year_new</th>\n",
       "    </tr>\n",
       "  </thead>\n",
       "  <tbody>\n",
       "    <tr>\n",
       "      <th>0</th>\n",
       "      <td>2014-01-01</td>\n",
       "      <td>google</td>\n",
       "      <td>889</td>\n",
       "      <td>922</td>\n",
       "      <td>1</td>\n",
       "      <td>2014</td>\n",
       "    </tr>\n",
       "    <tr>\n",
       "      <th>1</th>\n",
       "      <td>2014-01-01</td>\n",
       "      <td>google</td>\n",
       "      <td>240</td>\n",
       "      <td>707</td>\n",
       "      <td>1</td>\n",
       "      <td>2014</td>\n",
       "    </tr>\n",
       "  </tbody>\n",
       "</table>\n",
       "</div>"
      ],
      "text/plain": [
       "        date platform  searchVolume  Claim_ID  week_number  year_new\n",
       "0 2014-01-01   google           889       922            1      2014\n",
       "1 2014-01-01   google           240       707            1      2014"
      ]
     },
     "execution_count": 70,
     "metadata": {},
     "output_type": "execute_result"
    }
   ],
   "source": [
    "google_search_data.head(2)"
   ]
  },
  {
   "cell_type": "code",
   "execution_count": 71,
   "id": "aed851d9-b248-4512-b2d3-47649eb19608",
   "metadata": {},
   "outputs": [],
   "source": [
    "sales_data.rename(columns={\"product_id\":\"PRODUCT_ID\"}, inplace=True)"
   ]
  },
  {
   "cell_type": "code",
   "execution_count": 72,
   "id": "a716ad73-ebd5-44c3-92cb-80f79e8852dc",
   "metadata": {},
   "outputs": [
    {
     "data": {
      "text/html": [
       "<div>\n",
       "<style scoped>\n",
       "    .dataframe tbody tr th:only-of-type {\n",
       "        vertical-align: middle;\n",
       "    }\n",
       "\n",
       "    .dataframe tbody tr th {\n",
       "        vertical-align: top;\n",
       "    }\n",
       "\n",
       "    .dataframe thead th {\n",
       "        text-align: right;\n",
       "    }\n",
       "</style>\n",
       "<table border=\"1\" class=\"dataframe\">\n",
       "  <thead>\n",
       "    <tr style=\"text-align: right;\">\n",
       "      <th></th>\n",
       "      <th>system_calendar_key_N</th>\n",
       "      <th>PRODUCT_ID</th>\n",
       "      <th>sales_dollars_value</th>\n",
       "      <th>sales_units_value</th>\n",
       "      <th>sales_lbs_value</th>\n",
       "    </tr>\n",
       "  </thead>\n",
       "  <tbody>\n",
       "    <tr>\n",
       "      <th>0</th>\n",
       "      <td>2016-01-09</td>\n",
       "      <td>1</td>\n",
       "      <td>13927.0</td>\n",
       "      <td>934</td>\n",
       "      <td>18680</td>\n",
       "    </tr>\n",
       "    <tr>\n",
       "      <th>1</th>\n",
       "      <td>2016-01-09</td>\n",
       "      <td>3</td>\n",
       "      <td>10289.0</td>\n",
       "      <td>1592</td>\n",
       "      <td>28646</td>\n",
       "    </tr>\n",
       "  </tbody>\n",
       "</table>\n",
       "</div>"
      ],
      "text/plain": [
       "  system_calendar_key_N  PRODUCT_ID  sales_dollars_value  sales_units_value  \\\n",
       "0            2016-01-09           1              13927.0                934   \n",
       "1            2016-01-09           3              10289.0               1592   \n",
       "\n",
       "   sales_lbs_value  \n",
       "0            18680  \n",
       "1            28646  "
      ]
     },
     "execution_count": 72,
     "metadata": {},
     "output_type": "execute_result"
    }
   ],
   "source": [
    "sales_data.head(2)"
   ]
  },
  {
   "cell_type": "code",
   "execution_count": 73,
   "id": "a2a82624-b6a6-43b2-9039-23f89995a1b1",
   "metadata": {},
   "outputs": [
    {
     "data": {
      "text/plain": [
       "(4526182, 5)"
      ]
     },
     "execution_count": 73,
     "metadata": {},
     "output_type": "execute_result"
    }
   ],
   "source": [
    "sales_data.shape"
   ]
  },
  {
   "cell_type": "code",
   "execution_count": 74,
   "id": "a8cd3dcc-a585-43cb-b9ee-52cfc7c043b2",
   "metadata": {},
   "outputs": [],
   "source": [
    "google_search_data.rename(columns={\"Claim_ID\":\"CLAIM_ID\"}, inplace=True)"
   ]
  },
  {
   "cell_type": "code",
   "execution_count": 75,
   "id": "4502f685-fa2c-4f66-b52a-3b8609e74dc6",
   "metadata": {},
   "outputs": [
    {
     "data": {
      "text/html": [
       "<div>\n",
       "<style scoped>\n",
       "    .dataframe tbody tr th:only-of-type {\n",
       "        vertical-align: middle;\n",
       "    }\n",
       "\n",
       "    .dataframe tbody tr th {\n",
       "        vertical-align: top;\n",
       "    }\n",
       "\n",
       "    .dataframe thead th {\n",
       "        text-align: right;\n",
       "    }\n",
       "</style>\n",
       "<table border=\"1\" class=\"dataframe\">\n",
       "  <thead>\n",
       "    <tr style=\"text-align: right;\">\n",
       "      <th></th>\n",
       "      <th>date</th>\n",
       "      <th>platform</th>\n",
       "      <th>searchVolume</th>\n",
       "      <th>CLAIM_ID</th>\n",
       "      <th>week_number</th>\n",
       "      <th>year_new</th>\n",
       "    </tr>\n",
       "  </thead>\n",
       "  <tbody>\n",
       "    <tr>\n",
       "      <th>0</th>\n",
       "      <td>2014-01-01</td>\n",
       "      <td>google</td>\n",
       "      <td>889</td>\n",
       "      <td>922</td>\n",
       "      <td>1</td>\n",
       "      <td>2014</td>\n",
       "    </tr>\n",
       "    <tr>\n",
       "      <th>1</th>\n",
       "      <td>2014-01-01</td>\n",
       "      <td>google</td>\n",
       "      <td>240</td>\n",
       "      <td>707</td>\n",
       "      <td>1</td>\n",
       "      <td>2014</td>\n",
       "    </tr>\n",
       "  </tbody>\n",
       "</table>\n",
       "</div>"
      ],
      "text/plain": [
       "        date platform  searchVolume  CLAIM_ID  week_number  year_new\n",
       "0 2014-01-01   google           889       922            1      2014\n",
       "1 2014-01-01   google           240       707            1      2014"
      ]
     },
     "execution_count": 75,
     "metadata": {},
     "output_type": "execute_result"
    }
   ],
   "source": [
    "google_search_data.head(2)"
   ]
  },
  {
   "cell_type": "code",
   "execution_count": 76,
   "id": "5d6d7266-d0d9-41e8-b1a8-13a5ad1cf85e",
   "metadata": {},
   "outputs": [
    {
     "data": {
      "text/plain": [
       "(4526182, 5)"
      ]
     },
     "execution_count": 76,
     "metadata": {},
     "output_type": "execute_result"
    }
   ],
   "source": [
    "#sales_data, product_manufacture_list, themes_product_data,\n",
    "sales_data.shape"
   ]
  },
  {
   "cell_type": "code",
   "execution_count": 77,
   "id": "5293d06b-100e-40d3-9397-848009ea70cd",
   "metadata": {},
   "outputs": [
    {
     "data": {
      "text/plain": [
       "(67175, 2)"
      ]
     },
     "execution_count": 77,
     "metadata": {},
     "output_type": "execute_result"
    }
   ],
   "source": [
    "product_manufacture_list.shape"
   ]
  },
  {
   "cell_type": "code",
   "execution_count": 78,
   "id": "6dda3206-93ac-40ff-950a-8efed81bb05b",
   "metadata": {},
   "outputs": [
    {
     "data": {
      "text/plain": [
       "(91485, 2)"
      ]
     },
     "execution_count": 78,
     "metadata": {},
     "output_type": "execute_result"
    }
   ],
   "source": [
    "themes_product_data.shape"
   ]
  },
  {
   "cell_type": "code",
   "execution_count": 79,
   "id": "38b6f459-770b-472d-879a-1333a0f27fbb",
   "metadata": {},
   "outputs": [
    {
     "name": "stdout",
     "output_type": "stream",
     "text": [
      "<class 'pandas.core.frame.DataFrame'>\n",
      "RangeIndex: 4526182 entries, 0 to 4526181\n",
      "Data columns (total 5 columns):\n",
      " #   Column                 Dtype         \n",
      "---  ------                 -----         \n",
      " 0   system_calendar_key_N  datetime64[ns]\n",
      " 1   PRODUCT_ID             int64         \n",
      " 2   sales_dollars_value    float64       \n",
      " 3   sales_units_value      int64         \n",
      " 4   sales_lbs_value        int64         \n",
      "dtypes: datetime64[ns](1), float64(1), int64(3)\n",
      "memory usage: 172.7 MB\n"
     ]
    }
   ],
   "source": [
    "sales_data.info()"
   ]
  },
  {
   "cell_type": "code",
   "execution_count": 80,
   "id": "3e1afe4b-3275-4878-a6fa-8dd96e99aa3d",
   "metadata": {},
   "outputs": [
    {
     "name": "stdout",
     "output_type": "stream",
     "text": [
      "<class 'pandas.core.frame.DataFrame'>\n",
      "RangeIndex: 67175 entries, 0 to 67174\n",
      "Data columns (total 2 columns):\n",
      " #   Column      Non-Null Count  Dtype \n",
      "---  ------      --------------  ----- \n",
      " 0   PRODUCT_ID  67175 non-null  int64 \n",
      " 1   Vendor      67175 non-null  object\n",
      "dtypes: int64(1), object(1)\n",
      "memory usage: 1.0+ MB\n"
     ]
    }
   ],
   "source": [
    "product_manufacture_list.info()"
   ]
  },
  {
   "cell_type": "code",
   "execution_count": 81,
   "id": "d8d90e0d-499c-48cc-846d-b07b2051379e",
   "metadata": {},
   "outputs": [
    {
     "name": "stdout",
     "output_type": "stream",
     "text": [
      "<class 'pandas.core.frame.DataFrame'>\n",
      "RangeIndex: 91485 entries, 0 to 91484\n",
      "Data columns (total 2 columns):\n",
      " #   Column      Non-Null Count  Dtype\n",
      "---  ------      --------------  -----\n",
      " 0   PRODUCT_ID  91485 non-null  int64\n",
      " 1   CLAIM_ID    91485 non-null  int64\n",
      "dtypes: int64(2)\n",
      "memory usage: 1.4 MB\n"
     ]
    }
   ],
   "source": [
    "themes_product_data.info()"
   ]
  },
  {
   "cell_type": "code",
   "execution_count": 82,
   "id": "c534b962-94dc-437a-9122-12f3462e9d07",
   "metadata": {},
   "outputs": [
    {
     "data": {
      "text/html": [
       "<div>\n",
       "<style scoped>\n",
       "    .dataframe tbody tr th:only-of-type {\n",
       "        vertical-align: middle;\n",
       "    }\n",
       "\n",
       "    .dataframe tbody tr th {\n",
       "        vertical-align: top;\n",
       "    }\n",
       "\n",
       "    .dataframe thead th {\n",
       "        text-align: right;\n",
       "    }\n",
       "</style>\n",
       "<table border=\"1\" class=\"dataframe\">\n",
       "  <thead>\n",
       "    <tr style=\"text-align: right;\">\n",
       "      <th></th>\n",
       "      <th>system_calendar_key_N</th>\n",
       "      <th>PRODUCT_ID</th>\n",
       "      <th>sales_dollars_value</th>\n",
       "      <th>sales_units_value</th>\n",
       "      <th>sales_lbs_value</th>\n",
       "    </tr>\n",
       "  </thead>\n",
       "  <tbody>\n",
       "    <tr>\n",
       "      <th>0</th>\n",
       "      <td>2016-01-09</td>\n",
       "      <td>1</td>\n",
       "      <td>13927.0</td>\n",
       "      <td>934</td>\n",
       "      <td>18680</td>\n",
       "    </tr>\n",
       "    <tr>\n",
       "      <th>1</th>\n",
       "      <td>2016-01-09</td>\n",
       "      <td>3</td>\n",
       "      <td>10289.0</td>\n",
       "      <td>1592</td>\n",
       "      <td>28646</td>\n",
       "    </tr>\n",
       "  </tbody>\n",
       "</table>\n",
       "</div>"
      ],
      "text/plain": [
       "  system_calendar_key_N  PRODUCT_ID  sales_dollars_value  sales_units_value  \\\n",
       "0            2016-01-09           1              13927.0                934   \n",
       "1            2016-01-09           3              10289.0               1592   \n",
       "\n",
       "   sales_lbs_value  \n",
       "0            18680  \n",
       "1            28646  "
      ]
     },
     "execution_count": 82,
     "metadata": {},
     "output_type": "execute_result"
    }
   ],
   "source": [
    "sales_data.head(2)"
   ]
  },
  {
   "cell_type": "code",
   "execution_count": 83,
   "id": "c844ff48-a5bf-4135-bdf2-c05ca0dadb80",
   "metadata": {},
   "outputs": [
    {
     "data": {
      "text/html": [
       "<div>\n",
       "<style scoped>\n",
       "    .dataframe tbody tr th:only-of-type {\n",
       "        vertical-align: middle;\n",
       "    }\n",
       "\n",
       "    .dataframe tbody tr th {\n",
       "        vertical-align: top;\n",
       "    }\n",
       "\n",
       "    .dataframe thead th {\n",
       "        text-align: right;\n",
       "    }\n",
       "</style>\n",
       "<table border=\"1\" class=\"dataframe\">\n",
       "  <thead>\n",
       "    <tr style=\"text-align: right;\">\n",
       "      <th></th>\n",
       "      <th>PRODUCT_ID</th>\n",
       "      <th>Vendor</th>\n",
       "    </tr>\n",
       "  </thead>\n",
       "  <tbody>\n",
       "    <tr>\n",
       "      <th>0</th>\n",
       "      <td>1</td>\n",
       "      <td>Others</td>\n",
       "    </tr>\n",
       "    <tr>\n",
       "      <th>1</th>\n",
       "      <td>2</td>\n",
       "      <td>Others</td>\n",
       "    </tr>\n",
       "  </tbody>\n",
       "</table>\n",
       "</div>"
      ],
      "text/plain": [
       "   PRODUCT_ID  Vendor\n",
       "0           1  Others\n",
       "1           2  Others"
      ]
     },
     "execution_count": 83,
     "metadata": {},
     "output_type": "execute_result"
    }
   ],
   "source": [
    "product_manufacture_list.head(2)"
   ]
  },
  {
   "cell_type": "code",
   "execution_count": 84,
   "id": "c5816be8-6172-4c96-b182-46be15afd3a5",
   "metadata": {},
   "outputs": [],
   "source": [
    "sales_product_mfg=pd.merge(sales_data, product_manufacture_list, how='left', on=\"PRODUCT_ID\")"
   ]
  },
  {
   "cell_type": "code",
   "execution_count": 85,
   "id": "d7297892-4b51-4a13-ba14-24ddfec0d91e",
   "metadata": {},
   "outputs": [
    {
     "name": "stdout",
     "output_type": "stream",
     "text": [
      "<class 'pandas.core.frame.DataFrame'>\n",
      "RangeIndex: 4526182 entries, 0 to 4526181\n",
      "Data columns (total 6 columns):\n",
      " #   Column                 Dtype         \n",
      "---  ------                 -----         \n",
      " 0   system_calendar_key_N  datetime64[ns]\n",
      " 1   PRODUCT_ID             int64         \n",
      " 2   sales_dollars_value    float64       \n",
      " 3   sales_units_value      int64         \n",
      " 4   sales_lbs_value        int64         \n",
      " 5   Vendor                 object        \n",
      "dtypes: datetime64[ns](1), float64(1), int64(3), object(1)\n",
      "memory usage: 207.2+ MB\n"
     ]
    }
   ],
   "source": [
    "sales_product_mfg.info()"
   ]
  },
  {
   "cell_type": "code",
   "execution_count": 86,
   "id": "a952cb35-af62-4551-94f7-32efa2d04bbb",
   "metadata": {},
   "outputs": [
    {
     "data": {
      "text/plain": [
       "(4526182, 6)"
      ]
     },
     "execution_count": 86,
     "metadata": {},
     "output_type": "execute_result"
    }
   ],
   "source": [
    "sales_product_mfg.shape"
   ]
  },
  {
   "cell_type": "code",
   "execution_count": 87,
   "id": "1bc948e8-731b-4009-a34a-96e4337bc1d2",
   "metadata": {},
   "outputs": [
    {
     "data": {
      "text/plain": [
       "system_calendar_key_N    0\n",
       "PRODUCT_ID               0\n",
       "sales_dollars_value      0\n",
       "sales_units_value        0\n",
       "sales_lbs_value          0\n",
       "Vendor                   0\n",
       "dtype: int64"
      ]
     },
     "execution_count": 87,
     "metadata": {},
     "output_type": "execute_result"
    }
   ],
   "source": [
    "sales_product_mfg.isnull().sum()"
   ]
  },
  {
   "cell_type": "code",
   "execution_count": 88,
   "id": "eed45964-ac1a-427e-9d1d-e5ce4d3baa6a",
   "metadata": {},
   "outputs": [
    {
     "data": {
      "text/html": [
       "<div>\n",
       "<style scoped>\n",
       "    .dataframe tbody tr th:only-of-type {\n",
       "        vertical-align: middle;\n",
       "    }\n",
       "\n",
       "    .dataframe tbody tr th {\n",
       "        vertical-align: top;\n",
       "    }\n",
       "\n",
       "    .dataframe thead th {\n",
       "        text-align: right;\n",
       "    }\n",
       "</style>\n",
       "<table border=\"1\" class=\"dataframe\">\n",
       "  <thead>\n",
       "    <tr style=\"text-align: right;\">\n",
       "      <th></th>\n",
       "      <th>system_calendar_key_N</th>\n",
       "      <th>PRODUCT_ID</th>\n",
       "      <th>sales_dollars_value</th>\n",
       "      <th>sales_units_value</th>\n",
       "      <th>sales_lbs_value</th>\n",
       "      <th>Vendor</th>\n",
       "    </tr>\n",
       "  </thead>\n",
       "  <tbody>\n",
       "    <tr>\n",
       "      <th>0</th>\n",
       "      <td>2016-01-09</td>\n",
       "      <td>1</td>\n",
       "      <td>13927.0</td>\n",
       "      <td>934</td>\n",
       "      <td>18680</td>\n",
       "      <td>Others</td>\n",
       "    </tr>\n",
       "    <tr>\n",
       "      <th>1</th>\n",
       "      <td>2016-01-09</td>\n",
       "      <td>3</td>\n",
       "      <td>10289.0</td>\n",
       "      <td>1592</td>\n",
       "      <td>28646</td>\n",
       "      <td>Others</td>\n",
       "    </tr>\n",
       "  </tbody>\n",
       "</table>\n",
       "</div>"
      ],
      "text/plain": [
       "  system_calendar_key_N  PRODUCT_ID  sales_dollars_value  sales_units_value  \\\n",
       "0            2016-01-09           1              13927.0                934   \n",
       "1            2016-01-09           3              10289.0               1592   \n",
       "\n",
       "   sales_lbs_value  Vendor  \n",
       "0            18680  Others  \n",
       "1            28646  Others  "
      ]
     },
     "execution_count": 88,
     "metadata": {},
     "output_type": "execute_result"
    }
   ],
   "source": [
    "sales_product_mfg.head(2)"
   ]
  },
  {
   "cell_type": "code",
   "execution_count": 89,
   "id": "d0494866-0787-4ac1-890e-1300e1b69c48",
   "metadata": {},
   "outputs": [
    {
     "data": {
      "text/html": [
       "<div>\n",
       "<style scoped>\n",
       "    .dataframe tbody tr th:only-of-type {\n",
       "        vertical-align: middle;\n",
       "    }\n",
       "\n",
       "    .dataframe tbody tr th {\n",
       "        vertical-align: top;\n",
       "    }\n",
       "\n",
       "    .dataframe thead th {\n",
       "        text-align: right;\n",
       "    }\n",
       "</style>\n",
       "<table border=\"1\" class=\"dataframe\">\n",
       "  <thead>\n",
       "    <tr style=\"text-align: right;\">\n",
       "      <th></th>\n",
       "      <th>PRODUCT_ID</th>\n",
       "      <th>CLAIM_ID</th>\n",
       "    </tr>\n",
       "  </thead>\n",
       "  <tbody>\n",
       "    <tr>\n",
       "      <th>0</th>\n",
       "      <td>1</td>\n",
       "      <td>0</td>\n",
       "    </tr>\n",
       "    <tr>\n",
       "      <th>1</th>\n",
       "      <td>2</td>\n",
       "      <td>0</td>\n",
       "    </tr>\n",
       "    <tr>\n",
       "      <th>2</th>\n",
       "      <td>3</td>\n",
       "      <td>0</td>\n",
       "    </tr>\n",
       "    <tr>\n",
       "      <th>3</th>\n",
       "      <td>4</td>\n",
       "      <td>0</td>\n",
       "    </tr>\n",
       "    <tr>\n",
       "      <th>4</th>\n",
       "      <td>5</td>\n",
       "      <td>0</td>\n",
       "    </tr>\n",
       "  </tbody>\n",
       "</table>\n",
       "</div>"
      ],
      "text/plain": [
       "   PRODUCT_ID  CLAIM_ID\n",
       "0           1         0\n",
       "1           2         0\n",
       "2           3         0\n",
       "3           4         0\n",
       "4           5         0"
      ]
     },
     "execution_count": 89,
     "metadata": {},
     "output_type": "execute_result"
    }
   ],
   "source": [
    "themes_product_data.head(5)"
   ]
  },
  {
   "cell_type": "code",
   "execution_count": 90,
   "id": "0291f71c-e593-475b-b9c9-1cf89791448c",
   "metadata": {},
   "outputs": [],
   "source": [
    "sales_product_mfg_themes=pd.merge(sales_product_mfg,themes_product_data, how=\"left\", on=\"PRODUCT_ID\")"
   ]
  },
  {
   "cell_type": "code",
   "execution_count": 91,
   "id": "ced9d203-1823-4f72-8469-9d5f7a4a69dd",
   "metadata": {},
   "outputs": [
    {
     "name": "stdout",
     "output_type": "stream",
     "text": [
      "<class 'pandas.core.frame.DataFrame'>\n",
      "RangeIndex: 7767420 entries, 0 to 7767419\n",
      "Data columns (total 7 columns):\n",
      " #   Column                 Dtype         \n",
      "---  ------                 -----         \n",
      " 0   system_calendar_key_N  datetime64[ns]\n",
      " 1   PRODUCT_ID             int64         \n",
      " 2   sales_dollars_value    float64       \n",
      " 3   sales_units_value      int64         \n",
      " 4   sales_lbs_value        int64         \n",
      " 5   Vendor                 object        \n",
      " 6   CLAIM_ID               int64         \n",
      "dtypes: datetime64[ns](1), float64(1), int64(4), object(1)\n",
      "memory usage: 414.8+ MB\n"
     ]
    }
   ],
   "source": [
    "sales_product_mfg_themes.info()"
   ]
  },
  {
   "cell_type": "code",
   "execution_count": 92,
   "id": "32fb0a4f-cfe6-4f54-8381-1c2cb1de3d77",
   "metadata": {},
   "outputs": [
    {
     "data": {
      "text/plain": [
       "(7767420, 7)"
      ]
     },
     "execution_count": 92,
     "metadata": {},
     "output_type": "execute_result"
    }
   ],
   "source": [
    "sales_product_mfg_themes.shape"
   ]
  },
  {
   "cell_type": "code",
   "execution_count": 93,
   "id": "1ac761bd-460a-4b40-be64-6a6a11706eb5",
   "metadata": {},
   "outputs": [
    {
     "data": {
      "text/plain": [
       "system_calendar_key_N    0\n",
       "PRODUCT_ID               0\n",
       "sales_dollars_value      0\n",
       "sales_units_value        0\n",
       "sales_lbs_value          0\n",
       "Vendor                   0\n",
       "CLAIM_ID                 0\n",
       "dtype: int64"
      ]
     },
     "execution_count": 93,
     "metadata": {},
     "output_type": "execute_result"
    }
   ],
   "source": [
    "sales_product_mfg_themes.isnull().sum()"
   ]
  },
  {
   "cell_type": "code",
   "execution_count": 94,
   "id": "d674b72c-8f40-479b-b702-9f4f42338719",
   "metadata": {},
   "outputs": [
    {
     "data": {
      "text/plain": [
       "CLAIM_ID\n",
       "0      2045703\n",
       "8      1668808\n",
       "40      826406\n",
       "432     520679\n",
       "32      387999\n",
       "186     338116\n",
       "187     218897\n",
       "224     218897\n",
       "81      215635\n",
       "58      175912\n",
       "222     146173\n",
       "185     146173\n",
       "438     132719\n",
       "120     129212\n",
       "227      84542\n",
       "158      73382\n",
       "151      60132\n",
       "430      55961\n",
       "75       42655\n",
       "15       35758\n",
       "220      26954\n",
       "16       26367\n",
       "73       25085\n",
       "39       24818\n",
       "433      22113\n",
       "100      17795\n",
       "125      16617\n",
       "437      12152\n",
       "147      11514\n",
       "163      10967\n",
       "193       8539\n",
       "142       8208\n",
       "145       7016\n",
       "152       6117\n",
       "207       5038\n",
       "228       4485\n",
       "287       4216\n",
       "192       1001\n",
       "101        956\n",
       "171        827\n",
       "385        824\n",
       "384        726\n",
       "191        598\n",
       "178        264\n",
       "38         150\n",
       "211        138\n",
       "393        112\n",
       "65          61\n",
       "148          3\n",
       "Name: count, dtype: int64"
      ]
     },
     "execution_count": 94,
     "metadata": {},
     "output_type": "execute_result"
    }
   ],
   "source": [
    "sales_product_mfg_themes['CLAIM_ID'].value_counts()"
   ]
  },
  {
   "cell_type": "code",
   "execution_count": 95,
   "id": "8232fd6c-efc5-493c-abe7-93f364912f79",
   "metadata": {},
   "outputs": [
    {
     "name": "stdout",
     "output_type": "stream",
     "text": [
      "<class 'pandas.core.frame.DataFrame'>\n",
      "RangeIndex: 208 entries, 0 to 207\n",
      "Data columns (total 2 columns):\n",
      " #   Column      Non-Null Count  Dtype \n",
      "---  ------      --------------  ----- \n",
      " 0   CLAIM_ID    208 non-null    int64 \n",
      " 1   Claim Name  208 non-null    object\n",
      "dtypes: int64(1), object(1)\n",
      "memory usage: 3.4+ KB\n"
     ]
    }
   ],
   "source": [
    "themes_list.info()"
   ]
  },
  {
   "cell_type": "code",
   "execution_count": 96,
   "id": "c5dae654-e3a3-43cb-b568-0c5ebdff44c7",
   "metadata": {},
   "outputs": [
    {
     "data": {
      "text/plain": [
       "(7767420, 7)"
      ]
     },
     "execution_count": 96,
     "metadata": {},
     "output_type": "execute_result"
    }
   ],
   "source": [
    "sales_product_mfg_themes.shape"
   ]
  },
  {
   "cell_type": "code",
   "execution_count": 97,
   "id": "6c372707-041a-4554-b2fa-f85e1c50b30c",
   "metadata": {},
   "outputs": [],
   "source": [
    "sales_product_mfg_themes_name = pd.merge(sales_product_mfg_themes,themes_list, how=\"left\", on=\"CLAIM_ID\")"
   ]
  },
  {
   "cell_type": "code",
   "execution_count": 98,
   "id": "9038566b-17a4-4ac3-b03f-5def855cc2b4",
   "metadata": {},
   "outputs": [
    {
     "data": {
      "text/plain": [
       "(7767420, 8)"
      ]
     },
     "execution_count": 98,
     "metadata": {},
     "output_type": "execute_result"
    }
   ],
   "source": [
    "sales_product_mfg_themes_name.shape"
   ]
  },
  {
   "cell_type": "code",
   "execution_count": 99,
   "id": "c7cf5f54-c454-445e-91c3-ed68e8e2f80a",
   "metadata": {},
   "outputs": [
    {
     "data": {
      "text/plain": [
       "system_calendar_key_N    0\n",
       "PRODUCT_ID               0\n",
       "sales_dollars_value      0\n",
       "sales_units_value        0\n",
       "sales_lbs_value          0\n",
       "Vendor                   0\n",
       "CLAIM_ID                 0\n",
       "Claim Name               0\n",
       "dtype: int64"
      ]
     },
     "execution_count": 99,
     "metadata": {},
     "output_type": "execute_result"
    }
   ],
   "source": [
    "sales_product_mfg_themes_name.isnull().sum()"
   ]
  },
  {
   "cell_type": "code",
   "execution_count": 100,
   "id": "037f8dce-c110-4c2f-9ab2-9e2bc0a2bdb9",
   "metadata": {},
   "outputs": [
    {
     "data": {
      "text/plain": [
       "Claim Name\n",
       "No Claim                         2045703\n",
       "low carb                         1668808\n",
       "no additives/preservatives        826406\n",
       "apple cinnamon                    520679\n",
       "stroganoff                        387999\n",
       "pollock                           338116\n",
       "blueberry                         218897\n",
       "american southwest style          218897\n",
       "gmo free                          215635\n",
       "buckwheat                         175912\n",
       "pizza                             146173\n",
       "cookie                            146173\n",
       "ethnic & exotic                   132719\n",
       "crab                              129212\n",
       "salmon                             84542\n",
       "chicken                            73382\n",
       "low sodium                         60132\n",
       "soy foods                          55961\n",
       "french bisque                      42655\n",
       "beans                              35758\n",
       "herbs                              26954\n",
       "cocoa                              26367\n",
       "brown ale                          25085\n",
       "high/source of protein             24818\n",
       "gingerbread                        22113\n",
       "low calorie                        17795\n",
       "nuts                               16617\n",
       "vegetarian                         12152\n",
       "american gumbo                     11514\n",
       "ethical - packaging                10967\n",
       "poultry                             8539\n",
       "convenience - easy-to-prepare       8208\n",
       "scallop                             7016\n",
       "low sugar                           6117\n",
       "energy/alertness                    5038\n",
       "beef hamburger                      4485\n",
       "tilapia                             4216\n",
       "prebiotic                           1001\n",
       "peach                                956\n",
       "cherry                               827\n",
       "peanut                               824\n",
       "mackerel                             726\n",
       "bone health                          598\n",
       "red raspberry                        264\n",
       "cumin                                150\n",
       "halal                                138\n",
       "sea salt                             112\n",
       "ethical - not specific                61\n",
       "tuna                                   3\n",
       "Name: count, dtype: int64"
      ]
     },
     "execution_count": 100,
     "metadata": {},
     "output_type": "execute_result"
    }
   ],
   "source": [
    "sales_product_mfg_themes_name['Claim Name'].value_counts()"
   ]
  },
  {
   "cell_type": "code",
   "execution_count": 101,
   "id": "78e83f85-b1bc-4219-88ec-c0991aff74cc",
   "metadata": {},
   "outputs": [
    {
     "data": {
      "text/html": [
       "<div>\n",
       "<style scoped>\n",
       "    .dataframe tbody tr th:only-of-type {\n",
       "        vertical-align: middle;\n",
       "    }\n",
       "\n",
       "    .dataframe tbody tr th {\n",
       "        vertical-align: top;\n",
       "    }\n",
       "\n",
       "    .dataframe thead th {\n",
       "        text-align: right;\n",
       "    }\n",
       "</style>\n",
       "<table border=\"1\" class=\"dataframe\">\n",
       "  <thead>\n",
       "    <tr style=\"text-align: right;\">\n",
       "      <th></th>\n",
       "      <th>system_calendar_key_N</th>\n",
       "      <th>PRODUCT_ID</th>\n",
       "      <th>sales_dollars_value</th>\n",
       "      <th>sales_units_value</th>\n",
       "      <th>sales_lbs_value</th>\n",
       "      <th>Vendor</th>\n",
       "      <th>CLAIM_ID</th>\n",
       "      <th>Claim Name</th>\n",
       "    </tr>\n",
       "  </thead>\n",
       "  <tbody>\n",
       "    <tr>\n",
       "      <th>0</th>\n",
       "      <td>2016-01-09</td>\n",
       "      <td>1</td>\n",
       "      <td>13927.0</td>\n",
       "      <td>934</td>\n",
       "      <td>18680</td>\n",
       "      <td>Others</td>\n",
       "      <td>0</td>\n",
       "      <td>No Claim</td>\n",
       "    </tr>\n",
       "    <tr>\n",
       "      <th>1</th>\n",
       "      <td>2016-01-09</td>\n",
       "      <td>3</td>\n",
       "      <td>10289.0</td>\n",
       "      <td>1592</td>\n",
       "      <td>28646</td>\n",
       "      <td>Others</td>\n",
       "      <td>0</td>\n",
       "      <td>No Claim</td>\n",
       "    </tr>\n",
       "  </tbody>\n",
       "</table>\n",
       "</div>"
      ],
      "text/plain": [
       "  system_calendar_key_N  PRODUCT_ID  sales_dollars_value  sales_units_value  \\\n",
       "0            2016-01-09           1              13927.0                934   \n",
       "1            2016-01-09           3              10289.0               1592   \n",
       "\n",
       "   sales_lbs_value  Vendor  CLAIM_ID Claim Name  \n",
       "0            18680  Others         0   No Claim  \n",
       "1            28646  Others         0   No Claim  "
      ]
     },
     "execution_count": 101,
     "metadata": {},
     "output_type": "execute_result"
    }
   ],
   "source": [
    "sales_product_mfg_themes_name.head(2)"
   ]
  },
  {
   "cell_type": "code",
   "execution_count": 102,
   "id": "b095a3ae-6f05-4119-a65b-f72044787618",
   "metadata": {},
   "outputs": [],
   "source": [
    "# taking top 3 themes based on value_counts\n",
    "base_dataset = sales_product_mfg_themes_name[((sales_product_mfg_themes_name['Claim Name'] == 'No Claim') |\n",
    "                                              (sales_product_mfg_themes_name['Claim Name'] == 'low carb') | (sales_product_mfg_themes_name['Claim Name'] == 'no additives/preservatives'))]"
   ]
  },
  {
   "cell_type": "code",
   "execution_count": 103,
   "id": "d52ed461-a2b1-49ce-97ac-4bb6eeb2e5de",
   "metadata": {},
   "outputs": [
    {
     "data": {
      "text/plain": [
       "(4540917, 8)"
      ]
     },
     "execution_count": 103,
     "metadata": {},
     "output_type": "execute_result"
    }
   ],
   "source": [
    "base_dataset.shape"
   ]
  },
  {
   "cell_type": "code",
   "execution_count": 104,
   "id": "b0ea2d12-8157-4921-8bdf-8a9ddcb74ec6",
   "metadata": {},
   "outputs": [
    {
     "data": {
      "text/plain": [
       "Claim Name\n",
       "No Claim                      2045703\n",
       "low carb                      1668808\n",
       "no additives/preservatives     826406\n",
       "Name: count, dtype: int64"
      ]
     },
     "execution_count": 104,
     "metadata": {},
     "output_type": "execute_result"
    }
   ],
   "source": [
    "base_dataset['Claim Name'].value_counts()"
   ]
  },
  {
   "cell_type": "code",
   "execution_count": 105,
   "id": "1d24d4f0-50e0-4a01-bfee-f54a46158933",
   "metadata": {},
   "outputs": [
    {
     "name": "stdout",
     "output_type": "stream",
     "text": [
      "Index(['system_calendar_key_N', 'PRODUCT_ID', 'sales_dollars_value',\n",
      "       'sales_units_value', 'sales_lbs_value', 'Vendor', 'CLAIM_ID',\n",
      "       'Claim Name'],\n",
      "      dtype='object')\n"
     ]
    }
   ],
   "source": [
    "print(base_dataset.columns)\n"
   ]
  },
  {
   "cell_type": "code",
   "execution_count": 106,
   "id": "e5a36330-3c0b-4082-b6f5-62fe9f582e4e",
   "metadata": {},
   "outputs": [],
   "source": [
    "base_dataset = base_dataset[['PRODUCT_ID', 'sales_units_value', 'sales_lbs_value', 'Vendor', 'CLAIM_ID', 'sales_dollars_value']]"
   ]
  },
  {
   "cell_type": "code",
   "execution_count": 107,
   "id": "552c313a-5e66-44e0-b18e-461add9ceda9",
   "metadata": {},
   "outputs": [
    {
     "name": "stdout",
     "output_type": "stream",
     "text": [
      "<class 'pandas.core.frame.DataFrame'>\n",
      "Index: 4540917 entries, 0 to 7767418\n",
      "Data columns (total 6 columns):\n",
      " #   Column               Dtype  \n",
      "---  ------               -----  \n",
      " 0   PRODUCT_ID           int64  \n",
      " 1   sales_units_value    int64  \n",
      " 2   sales_lbs_value      int64  \n",
      " 3   Vendor               object \n",
      " 4   CLAIM_ID             int64  \n",
      " 5   sales_dollars_value  float64\n",
      "dtypes: float64(1), int64(4), object(1)\n",
      "memory usage: 242.5+ MB\n"
     ]
    }
   ],
   "source": [
    "base_dataset.info()"
   ]
  },
  {
   "cell_type": "code",
   "execution_count": 108,
   "id": "e0e6cdfb-96ea-4bd5-bb02-f0d68b5be106",
   "metadata": {},
   "outputs": [
    {
     "data": {
      "text/html": [
       "<div>\n",
       "<style scoped>\n",
       "    .dataframe tbody tr th:only-of-type {\n",
       "        vertical-align: middle;\n",
       "    }\n",
       "\n",
       "    .dataframe tbody tr th {\n",
       "        vertical-align: top;\n",
       "    }\n",
       "\n",
       "    .dataframe thead th {\n",
       "        text-align: right;\n",
       "    }\n",
       "</style>\n",
       "<table border=\"1\" class=\"dataframe\">\n",
       "  <thead>\n",
       "    <tr style=\"text-align: right;\">\n",
       "      <th></th>\n",
       "      <th>PRODUCT_ID</th>\n",
       "      <th>sales_units_value</th>\n",
       "      <th>sales_lbs_value</th>\n",
       "      <th>Vendor</th>\n",
       "      <th>CLAIM_ID</th>\n",
       "      <th>sales_dollars_value</th>\n",
       "    </tr>\n",
       "  </thead>\n",
       "  <tbody>\n",
       "    <tr>\n",
       "      <th>0</th>\n",
       "      <td>1</td>\n",
       "      <td>934</td>\n",
       "      <td>18680</td>\n",
       "      <td>Others</td>\n",
       "      <td>0</td>\n",
       "      <td>13927.0</td>\n",
       "    </tr>\n",
       "    <tr>\n",
       "      <th>1</th>\n",
       "      <td>3</td>\n",
       "      <td>1592</td>\n",
       "      <td>28646</td>\n",
       "      <td>Others</td>\n",
       "      <td>0</td>\n",
       "      <td>10289.0</td>\n",
       "    </tr>\n",
       "  </tbody>\n",
       "</table>\n",
       "</div>"
      ],
      "text/plain": [
       "   PRODUCT_ID  sales_units_value  sales_lbs_value  Vendor  CLAIM_ID  \\\n",
       "0           1                934            18680  Others         0   \n",
       "1           3               1592            28646  Others         0   \n",
       "\n",
       "   sales_dollars_value  \n",
       "0              13927.0  \n",
       "1              10289.0  "
      ]
     },
     "execution_count": 108,
     "metadata": {},
     "output_type": "execute_result"
    }
   ],
   "source": [
    "base_dataset.head(2)"
   ]
  },
  {
   "cell_type": "code",
   "execution_count": 109,
   "id": "24115f9d-edde-4463-9704-ab4c5e519474",
   "metadata": {},
   "outputs": [
    {
     "data": {
      "text/html": [
       "<div>\n",
       "<style scoped>\n",
       "    .dataframe tbody tr th:only-of-type {\n",
       "        vertical-align: middle;\n",
       "    }\n",
       "\n",
       "    .dataframe tbody tr th {\n",
       "        vertical-align: top;\n",
       "    }\n",
       "\n",
       "    .dataframe thead th {\n",
       "        text-align: right;\n",
       "    }\n",
       "</style>\n",
       "<table border=\"1\" class=\"dataframe\">\n",
       "  <thead>\n",
       "    <tr style=\"text-align: right;\">\n",
       "      <th></th>\n",
       "      <th>count</th>\n",
       "      <th>mean</th>\n",
       "      <th>std</th>\n",
       "      <th>min</th>\n",
       "      <th>25%</th>\n",
       "      <th>50%</th>\n",
       "      <th>75%</th>\n",
       "      <th>max</th>\n",
       "    </tr>\n",
       "  </thead>\n",
       "  <tbody>\n",
       "    <tr>\n",
       "      <th>PRODUCT_ID</th>\n",
       "      <td>4540917.0</td>\n",
       "      <td>29334.849743</td>\n",
       "      <td>15035.848252</td>\n",
       "      <td>1.0</td>\n",
       "      <td>16947.0</td>\n",
       "      <td>30679.0</td>\n",
       "      <td>41354.0</td>\n",
       "      <td>57317.0</td>\n",
       "    </tr>\n",
       "    <tr>\n",
       "      <th>sales_units_value</th>\n",
       "      <td>4540917.0</td>\n",
       "      <td>5014.114079</td>\n",
       "      <td>26522.414108</td>\n",
       "      <td>1.0</td>\n",
       "      <td>84.0</td>\n",
       "      <td>411.0</td>\n",
       "      <td>1808.0</td>\n",
       "      <td>873998.0</td>\n",
       "    </tr>\n",
       "    <tr>\n",
       "      <th>sales_lbs_value</th>\n",
       "      <td>4540917.0</td>\n",
       "      <td>15764.537620</td>\n",
       "      <td>125071.286769</td>\n",
       "      <td>0.0</td>\n",
       "      <td>87.0</td>\n",
       "      <td>604.0</td>\n",
       "      <td>3510.0</td>\n",
       "      <td>11003100.0</td>\n",
       "    </tr>\n",
       "    <tr>\n",
       "      <th>CLAIM_ID</th>\n",
       "      <td>4540917.0</td>\n",
       "      <td>10.219677</td>\n",
       "      <td>14.500488</td>\n",
       "      <td>0.0</td>\n",
       "      <td>0.0</td>\n",
       "      <td>8.0</td>\n",
       "      <td>8.0</td>\n",
       "      <td>40.0</td>\n",
       "    </tr>\n",
       "    <tr>\n",
       "      <th>sales_dollars_value</th>\n",
       "      <td>4540917.0</td>\n",
       "      <td>20211.998146</td>\n",
       "      <td>74140.362279</td>\n",
       "      <td>0.0</td>\n",
       "      <td>547.0</td>\n",
       "      <td>2737.0</td>\n",
       "      <td>11657.0</td>\n",
       "      <td>4395964.0</td>\n",
       "    </tr>\n",
       "  </tbody>\n",
       "</table>\n",
       "</div>"
      ],
      "text/plain": [
       "                         count          mean            std  min      25%  \\\n",
       "PRODUCT_ID           4540917.0  29334.849743   15035.848252  1.0  16947.0   \n",
       "sales_units_value    4540917.0   5014.114079   26522.414108  1.0     84.0   \n",
       "sales_lbs_value      4540917.0  15764.537620  125071.286769  0.0     87.0   \n",
       "CLAIM_ID             4540917.0     10.219677      14.500488  0.0      0.0   \n",
       "sales_dollars_value  4540917.0  20211.998146   74140.362279  0.0    547.0   \n",
       "\n",
       "                         50%      75%         max  \n",
       "PRODUCT_ID           30679.0  41354.0     57317.0  \n",
       "sales_units_value      411.0   1808.0    873998.0  \n",
       "sales_lbs_value        604.0   3510.0  11003100.0  \n",
       "CLAIM_ID                 8.0      8.0        40.0  \n",
       "sales_dollars_value   2737.0  11657.0   4395964.0  "
      ]
     },
     "execution_count": 109,
     "metadata": {},
     "output_type": "execute_result"
    }
   ],
   "source": [
    "base_dataset.describe().T"
   ]
  },
  {
   "cell_type": "code",
   "execution_count": 110,
   "id": "526b9847-03fe-4c89-bea5-c6b6917a12e2",
   "metadata": {},
   "outputs": [],
   "source": [
    "#cat=[i for i in base_dataset.columns if i not in base_dataset.describe().columns]\n",
    "cat = base_dataset.select_dtypes(exclude=['number']).columns"
   ]
  },
  {
   "cell_type": "code",
   "execution_count": 111,
   "id": "8af58893-4bff-4501-a4ed-013b1f738c7c",
   "metadata": {},
   "outputs": [
    {
     "data": {
      "text/plain": [
       "Index(['Vendor'], dtype='object')"
      ]
     },
     "execution_count": 111,
     "metadata": {},
     "output_type": "execute_result"
    }
   ],
   "source": [
    "cat"
   ]
  },
  {
   "cell_type": "code",
   "execution_count": 112,
   "id": "994fe937-5fa2-482c-8597-d778bc0e933e",
   "metadata": {},
   "outputs": [
    {
     "data": {
      "text/plain": [
       "array(['Others', 'A', 'Private Label', 'B', 'E', 'D', 'F', 'G', 'H'],\n",
       "      dtype=object)"
      ]
     },
     "execution_count": 112,
     "metadata": {},
     "output_type": "execute_result"
    }
   ],
   "source": [
    "base_dataset['Vendor'].unique()"
   ]
  },
  {
   "cell_type": "code",
   "execution_count": 113,
   "id": "2451033b-7c05-487b-84bd-2a6834c74c32",
   "metadata": {},
   "outputs": [
    {
     "data": {
      "text/plain": [
       "9"
      ]
     },
     "execution_count": 113,
     "metadata": {},
     "output_type": "execute_result"
    }
   ],
   "source": [
    "base_dataset['Vendor'].nunique()"
   ]
  },
  {
   "cell_type": "code",
   "execution_count": 114,
   "id": "05af2d65-425e-406b-a784-14747439324e",
   "metadata": {},
   "outputs": [],
   "source": [
    "from sklearn.preprocessing import LabelEncoder\n",
    "\n",
    "def label_encoders(data, cat):\n",
    "    le = LabelEncoder()\n",
    "    for col in cat:\n",
    "        data[col] = le.fit_transform(data[col])\n",
    "    return data\n"
   ]
  },
  {
   "cell_type": "code",
   "execution_count": 115,
   "id": "613f48e3-92e5-4cec-9ae2-82b412f2009e",
   "metadata": {},
   "outputs": [],
   "source": [
    "base_data_label_encoded=label_encoders(base_dataset,cat)"
   ]
  },
  {
   "cell_type": "code",
   "execution_count": 116,
   "id": "c1813ac1-1ac3-45a6-a64a-b798d318a4da",
   "metadata": {},
   "outputs": [
    {
     "data": {
      "text/html": [
       "<div>\n",
       "<style scoped>\n",
       "    .dataframe tbody tr th:only-of-type {\n",
       "        vertical-align: middle;\n",
       "    }\n",
       "\n",
       "    .dataframe tbody tr th {\n",
       "        vertical-align: top;\n",
       "    }\n",
       "\n",
       "    .dataframe thead th {\n",
       "        text-align: right;\n",
       "    }\n",
       "</style>\n",
       "<table border=\"1\" class=\"dataframe\">\n",
       "  <thead>\n",
       "    <tr style=\"text-align: right;\">\n",
       "      <th></th>\n",
       "      <th>PRODUCT_ID</th>\n",
       "      <th>sales_units_value</th>\n",
       "      <th>sales_lbs_value</th>\n",
       "      <th>Vendor</th>\n",
       "      <th>CLAIM_ID</th>\n",
       "      <th>sales_dollars_value</th>\n",
       "    </tr>\n",
       "  </thead>\n",
       "  <tbody>\n",
       "    <tr>\n",
       "      <th>0</th>\n",
       "      <td>1</td>\n",
       "      <td>934</td>\n",
       "      <td>18680</td>\n",
       "      <td>7</td>\n",
       "      <td>0</td>\n",
       "      <td>13927.0</td>\n",
       "    </tr>\n",
       "    <tr>\n",
       "      <th>1</th>\n",
       "      <td>3</td>\n",
       "      <td>1592</td>\n",
       "      <td>28646</td>\n",
       "      <td>7</td>\n",
       "      <td>0</td>\n",
       "      <td>10289.0</td>\n",
       "    </tr>\n",
       "  </tbody>\n",
       "</table>\n",
       "</div>"
      ],
      "text/plain": [
       "   PRODUCT_ID  sales_units_value  sales_lbs_value  Vendor  CLAIM_ID  \\\n",
       "0           1                934            18680       7         0   \n",
       "1           3               1592            28646       7         0   \n",
       "\n",
       "   sales_dollars_value  \n",
       "0              13927.0  \n",
       "1              10289.0  "
      ]
     },
     "execution_count": 116,
     "metadata": {},
     "output_type": "execute_result"
    }
   ],
   "source": [
    "base_data_label_encoded.head(2)"
   ]
  },
  {
   "cell_type": "code",
   "execution_count": 117,
   "id": "bc32ff1f-f798-4d82-aa29-a313a9a1d219",
   "metadata": {},
   "outputs": [
    {
     "data": {
      "text/plain": [
       "(4540917, 6)"
      ]
     },
     "execution_count": 117,
     "metadata": {},
     "output_type": "execute_result"
    }
   ],
   "source": [
    "base_data_label_encoded.shape"
   ]
  },
  {
   "cell_type": "code",
   "execution_count": 118,
   "id": "653c5486-9a0a-4523-ab00-6f724d2ffebd",
   "metadata": {},
   "outputs": [
    {
     "data": {
      "text/plain": [
       "array([7, 0, 8, 1, 3, 2, 4, 5, 6])"
      ]
     },
     "execution_count": 118,
     "metadata": {},
     "output_type": "execute_result"
    }
   ],
   "source": [
    "base_data_label_encoded['Vendor'].unique()"
   ]
  },
  {
   "cell_type": "code",
   "execution_count": 119,
   "id": "b29d2032-66e3-4771-a48b-10c7b89fb542",
   "metadata": {},
   "outputs": [
    {
     "name": "stdout",
     "output_type": "stream",
     "text": [
      "<class 'pandas.core.frame.DataFrame'>\n",
      "Index: 4540917 entries, 0 to 7767418\n",
      "Data columns (total 6 columns):\n",
      " #   Column               Dtype  \n",
      "---  ------               -----  \n",
      " 0   PRODUCT_ID           int64  \n",
      " 1   sales_units_value    int64  \n",
      " 2   sales_lbs_value      int64  \n",
      " 3   Vendor               int32  \n",
      " 4   CLAIM_ID             int64  \n",
      " 5   sales_dollars_value  float64\n",
      "dtypes: float64(1), int32(1), int64(4)\n",
      "memory usage: 225.2 MB\n"
     ]
    }
   ],
   "source": [
    "base_data_label_encoded.info()"
   ]
  },
  {
   "cell_type": "code",
   "execution_count": 120,
   "id": "0673466f-c8e8-4a53-97f6-fee2a1b7162a",
   "metadata": {},
   "outputs": [],
   "source": [
    "x=base_data_label_encoded.drop('sales_dollars_value',axis=1)\n",
    "y=base_data_label_encoded['sales_dollars_value']"
   ]
  },
  {
   "cell_type": "code",
   "execution_count": 121,
   "id": "92686c25-a24b-4b9f-bcd0-c9e4b7f03112",
   "metadata": {},
   "outputs": [
    {
     "data": {
      "text/html": [
       "<div>\n",
       "<style scoped>\n",
       "    .dataframe tbody tr th:only-of-type {\n",
       "        vertical-align: middle;\n",
       "    }\n",
       "\n",
       "    .dataframe tbody tr th {\n",
       "        vertical-align: top;\n",
       "    }\n",
       "\n",
       "    .dataframe thead th {\n",
       "        text-align: right;\n",
       "    }\n",
       "</style>\n",
       "<table border=\"1\" class=\"dataframe\">\n",
       "  <thead>\n",
       "    <tr style=\"text-align: right;\">\n",
       "      <th></th>\n",
       "      <th>PRODUCT_ID</th>\n",
       "      <th>sales_units_value</th>\n",
       "      <th>sales_lbs_value</th>\n",
       "      <th>Vendor</th>\n",
       "      <th>CLAIM_ID</th>\n",
       "    </tr>\n",
       "  </thead>\n",
       "  <tbody>\n",
       "    <tr>\n",
       "      <th>0</th>\n",
       "      <td>1</td>\n",
       "      <td>934</td>\n",
       "      <td>18680</td>\n",
       "      <td>7</td>\n",
       "      <td>0</td>\n",
       "    </tr>\n",
       "    <tr>\n",
       "      <th>1</th>\n",
       "      <td>3</td>\n",
       "      <td>1592</td>\n",
       "      <td>28646</td>\n",
       "      <td>7</td>\n",
       "      <td>0</td>\n",
       "    </tr>\n",
       "  </tbody>\n",
       "</table>\n",
       "</div>"
      ],
      "text/plain": [
       "   PRODUCT_ID  sales_units_value  sales_lbs_value  Vendor  CLAIM_ID\n",
       "0           1                934            18680       7         0\n",
       "1           3               1592            28646       7         0"
      ]
     },
     "execution_count": 121,
     "metadata": {},
     "output_type": "execute_result"
    }
   ],
   "source": [
    "x.head(2)"
   ]
  },
  {
   "cell_type": "code",
   "execution_count": 122,
   "id": "d68dda7b-3e3b-4f05-bf58-10c2be566b24",
   "metadata": {},
   "outputs": [
    {
     "data": {
      "text/plain": [
       "0    13927.0\n",
       "1    10289.0\n",
       "Name: sales_dollars_value, dtype: float64"
      ]
     },
     "execution_count": 122,
     "metadata": {},
     "output_type": "execute_result"
    }
   ],
   "source": [
    "y.head(2)"
   ]
  },
  {
   "cell_type": "code",
   "execution_count": 123,
   "id": "56982a20-15c4-49dc-9258-1547ef1e2ff4",
   "metadata": {},
   "outputs": [],
   "source": [
    "from sklearn.model_selection import train_test_split\n",
    "X_train,X_test,y_train,y_test=train_test_split(x,y,test_size=0.20)"
   ]
  },
  {
   "cell_type": "code",
   "execution_count": 124,
   "id": "fa639c57-5b26-46c6-8c0d-95a7be98d86d",
   "metadata": {},
   "outputs": [
    {
     "name": "stdout",
     "output_type": "stream",
     "text": [
      "(3632733, 5) (908184, 5) (3632733,) (908184,)\n"
     ]
    }
   ],
   "source": [
    "print(X_train.shape,X_test.shape,y_train.shape,y_test.shape)"
   ]
  },
  {
   "cell_type": "code",
   "execution_count": 125,
   "id": "87b5f20b-b0b1-4550-89e5-56a4f912ff0a",
   "metadata": {},
   "outputs": [
    {
     "data": {
      "text/plain": [
       "array([26865.80860955,  6787.34824617,  3565.61933718, ...,\n",
       "       52964.54142338,  6590.85208586,  6315.35845242])"
      ]
     },
     "execution_count": 125,
     "metadata": {},
     "output_type": "execute_result"
    }
   ],
   "source": [
    "from sklearn.linear_model import LinearRegression\n",
    "ln=LinearRegression()\n",
    "ln.fit(X_train,y_train)\n",
    "ln.predict(X_test)"
   ]
  },
  {
   "cell_type": "code",
   "execution_count": 126,
   "id": "bc3baca7-5356-4e63-9a14-02f185f3103d",
   "metadata": {},
   "outputs": [
    {
     "data": {
      "text/plain": [
       "12960272197.230238"
      ]
     },
     "execution_count": 126,
     "metadata": {},
     "output_type": "execute_result"
    }
   ],
   "source": [
    "abs(y_test.values-ln.predict(X_test)).sum()"
   ]
  },
  {
   "cell_type": "code",
   "execution_count": 127,
   "id": "645ae5c7-dd2e-43c0-abd0-d77192ab8ee1",
   "metadata": {},
   "outputs": [
    {
     "name": "stdout",
     "output_type": "stream",
     "text": [
      "12960281185.918684\n"
     ]
    }
   ],
   "source": [
    "from sklearn.linear_model import Lasso\n",
    "\n",
    "ls = Lasso()\n",
    "ls.fit(X_train, y_train)\n",
    "error_sum = abs(y_test - ls.predict(X_test)).sum()\n",
    "print(error_sum)"
   ]
  },
  {
   "cell_type": "code",
   "execution_count": 128,
   "id": "308990a1-0ec6-4a55-8965-048517eda515",
   "metadata": {},
   "outputs": [
    {
     "name": "stdout",
     "output_type": "stream",
     "text": [
      "12960272201.985846\n"
     ]
    }
   ],
   "source": [
    "from sklearn.linear_model import Ridge\n",
    "\n",
    "rd = Ridge()\n",
    "rd.fit(X_train, y_train)\n",
    "error_sum = abs(y_test - rd.predict(X_test)).sum()\n",
    "print(error_sum)"
   ]
  },
  {
   "cell_type": "markdown",
   "id": "e0dff560-87d4-4597-b364-5708d9ea1449",
   "metadata": {},
   "source": [
    "## Model Validation"
   ]
  },
  {
   "cell_type": "code",
   "execution_count": 130,
   "id": "9cedea7b-2e42-46dd-9409-daf896e35022",
   "metadata": {},
   "outputs": [],
   "source": [
    "from sklearn.metrics import mean_absolute_error,mean_squared_error,r2_score"
   ]
  },
  {
   "cell_type": "code",
   "execution_count": 131,
   "id": "e00cd09a-8a37-4d9b-b4d2-62d21d896888",
   "metadata": {},
   "outputs": [],
   "source": [
    "from sklearn.metrics import mean_absolute_error, mean_squared_error, r2_score\n",
    "import numpy as np\n",
    "\n",
    "validation_table = []\n",
    "\n",
    "for model in [LinearRegression, Lasso, Ridge]:\n",
    "    mdl = model()\n",
    "    mdl.fit(X_train, y_train)\n",
    "    y_pred = mdl.predict(X_test)\n",
    "    \n",
    "    mae = mean_absolute_error(y_test, y_pred)\n",
    "    mse = mean_squared_error(y_test, y_pred)\n",
    "    rmse = np.sqrt(mse)\n",
    "    mape = (abs(y_test - y_pred) / y_test).mean() * 100\n",
    "    rsquare = r2_score(y_test, y_pred)\n",
    "    \n",
    "    validation_table.append([model.__name__, mae, mse, rmse, mape, rsquare])\n"
   ]
  },
  {
   "cell_type": "code",
   "execution_count": 132,
   "id": "261b6a08-5eed-49ca-bb7b-8e2c9c006797",
   "metadata": {},
   "outputs": [],
   "source": [
    "validation_table=pd.DataFrame(validation_table)"
   ]
  },
  {
   "cell_type": "code",
   "execution_count": 133,
   "id": "56b708e1-67cf-4429-a968-80e8b0b90845",
   "metadata": {},
   "outputs": [],
   "source": [
    "validation_table.columns=[\"model name\",\"mae\",\"mse\",\"rmse\",\"mape\",\"rsquare\"]"
   ]
  },
  {
   "cell_type": "code",
   "execution_count": 134,
   "id": "4c321162-deab-440e-9616-53e7854c2c87",
   "metadata": {},
   "outputs": [
    {
     "data": {
      "text/html": [
       "<div>\n",
       "<style scoped>\n",
       "    .dataframe tbody tr th:only-of-type {\n",
       "        vertical-align: middle;\n",
       "    }\n",
       "\n",
       "    .dataframe tbody tr th {\n",
       "        vertical-align: top;\n",
       "    }\n",
       "\n",
       "    .dataframe thead th {\n",
       "        text-align: right;\n",
       "    }\n",
       "</style>\n",
       "<table border=\"1\" class=\"dataframe\">\n",
       "  <thead>\n",
       "    <tr style=\"text-align: right;\">\n",
       "      <th></th>\n",
       "      <th>model name</th>\n",
       "      <th>mae</th>\n",
       "      <th>mse</th>\n",
       "      <th>rmse</th>\n",
       "      <th>mape</th>\n",
       "      <th>rsquare</th>\n",
       "    </tr>\n",
       "  </thead>\n",
       "  <tbody>\n",
       "    <tr>\n",
       "      <th>0</th>\n",
       "      <td>LinearRegression</td>\n",
       "      <td>14270.535703</td>\n",
       "      <td>1.342105e+09</td>\n",
       "      <td>36634.755551</td>\n",
       "      <td>inf</td>\n",
       "      <td>0.749374</td>\n",
       "    </tr>\n",
       "    <tr>\n",
       "      <th>1</th>\n",
       "      <td>Lasso</td>\n",
       "      <td>14270.545601</td>\n",
       "      <td>1.342105e+09</td>\n",
       "      <td>36634.756099</td>\n",
       "      <td>inf</td>\n",
       "      <td>0.749374</td>\n",
       "    </tr>\n",
       "    <tr>\n",
       "      <th>2</th>\n",
       "      <td>Ridge</td>\n",
       "      <td>14270.535709</td>\n",
       "      <td>1.342105e+09</td>\n",
       "      <td>36634.755551</td>\n",
       "      <td>inf</td>\n",
       "      <td>0.749374</td>\n",
       "    </tr>\n",
       "  </tbody>\n",
       "</table>\n",
       "</div>"
      ],
      "text/plain": [
       "         model name           mae           mse          rmse  mape   rsquare\n",
       "0  LinearRegression  14270.535703  1.342105e+09  36634.755551   inf  0.749374\n",
       "1             Lasso  14270.545601  1.342105e+09  36634.756099   inf  0.749374\n",
       "2             Ridge  14270.535709  1.342105e+09  36634.755551   inf  0.749374"
      ]
     },
     "execution_count": 134,
     "metadata": {},
     "output_type": "execute_result"
    }
   ],
   "source": [
    "validation_table"
   ]
  },
  {
   "cell_type": "code",
   "execution_count": 135,
   "id": "2c6c82cf-629f-45d6-b6e5-4d1fb88b7260",
   "metadata": {},
   "outputs": [],
   "source": [
    "from sklearn.tree import DecisionTreeRegressor\n",
    "from sklearn.ensemble import RandomForestRegressor\n",
    "from sklearn.ensemble import BaggingRegressor"
   ]
  },
  {
   "cell_type": "code",
   "execution_count": 136,
   "id": "d009b250-4706-485b-b482-612839e169c9",
   "metadata": {},
   "outputs": [],
   "source": [
    "from sklearn.metrics import mean_absolute_error, mean_squared_error, r2_score\n",
    "import numpy as np\n",
    "import pandas as pd\n",
    "\n",
    "def model_validation(data_type=\"test\"):\n",
    "    models = [LinearRegression, Lasso, Ridge, DecisionTreeRegressor, RandomForestRegressor, BaggingRegressor]\n",
    "    validation_table = []\n",
    "\n",
    "    # Use X_train, y_train for training and X_test, y_test for testing\n",
    "    if data_type == \"train\":\n",
    "        X, y = X_train, y_train\n",
    "    else:\n",
    "        X, y = X_test, y_test\n",
    "\n",
    "    for model in models:\n",
    "        mdl = model()\n",
    "        mdl.fit(X_train, y_train)  # Use X_train, y_train for training\n",
    "        y_pred = mdl.predict(X)\n",
    "\n",
    "        mae = mean_absolute_error(y, y_pred)\n",
    "        mse = mean_squared_error(y, y_pred)\n",
    "        rmse = np.sqrt(mse)\n",
    "        mape = (abs(y - y_pred) / y).mean() * 100\n",
    "        rsquare = r2_score(y, y_pred)\n",
    "\n",
    "        validation_table.append([model.__name__, mae, mse, rmse, mape, rsquare])\n",
    "\n",
    "    validation_table_df = pd.DataFrame(validation_table, columns=[\"model name\", \"mae\", \"mse\", \"rmse\", \"mape\", \"rsquare\"])\n",
    "    return validation_table_df\n"
   ]
  },
  {
   "cell_type": "code",
   "execution_count": 137,
   "id": "6cce7dca-c6da-4172-a22c-52e3b87774e3",
   "metadata": {},
   "outputs": [],
   "source": [
    "pd.options.display.float_format='{:0.2f}'.format"
   ]
  },
  {
   "cell_type": "code",
   "execution_count": null,
   "id": "b3d2a822-4bd4-4f83-95a4-98b68d30f60c",
   "metadata": {},
   "outputs": [],
   "source": [
    "model_validation(\"train\")"
   ]
  },
  {
   "cell_type": "code",
   "execution_count": null,
   "id": "cdf83058-0ff9-4e4e-b0c3-a3ee659f9bc5",
   "metadata": {},
   "outputs": [],
   "source": []
  }
 ],
 "metadata": {
  "kernelspec": {
   "display_name": "Python 3 (ipykernel)",
   "language": "python",
   "name": "python3"
  },
  "language_info": {
   "codemirror_mode": {
    "name": "ipython",
    "version": 3
   },
   "file_extension": ".py",
   "mimetype": "text/x-python",
   "name": "python",
   "nbconvert_exporter": "python",
   "pygments_lexer": "ipython3",
   "version": "3.12.7"
  }
 },
 "nbformat": 4,
 "nbformat_minor": 5
}
