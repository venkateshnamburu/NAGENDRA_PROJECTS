{
 "cells": [
  {
   "cell_type": "code",
   "execution_count": 1,
   "id": "bb74f191-4abd-4bc6-b79b-ca7097cff35f",
   "metadata": {},
   "outputs": [],
   "source": [
    "import pandas as pd\n",
    "import seaborn as sns"
   ]
  },
  {
   "cell_type": "code",
   "execution_count": 2,
   "id": "d307e6aa-0fdf-40a3-9128-1c70cbfee8d4",
   "metadata": {},
   "outputs": [],
   "source": [
    "df = pd.read_excel(\"D:\\\\5.1_Machine_Learning_Code\\\\Clustering\\\\EXL Shared Partner Data.xlsx\")"
   ]
  },
  {
   "cell_type": "code",
   "execution_count": null,
   "id": "2687555b-6707-43a5-b059-ba6abf418dfb",
   "metadata": {},
   "outputs": [],
   "source": [
    "df.head()"
   ]
  },
  {
   "cell_type": "code",
   "execution_count": 4,
   "id": "13344352-cda6-4d6f-8c83-d4ecfd602e12",
   "metadata": {},
   "outputs": [
    {
     "data": {
      "text/html": [
       "<div>\n",
       "<style scoped>\n",
       "    .dataframe tbody tr th:only-of-type {\n",
       "        vertical-align: middle;\n",
       "    }\n",
       "\n",
       "    .dataframe tbody tr th {\n",
       "        vertical-align: top;\n",
       "    }\n",
       "\n",
       "    .dataframe thead th {\n",
       "        text-align: right;\n",
       "    }\n",
       "</style>\n",
       "<table border=\"1\" class=\"dataframe\">\n",
       "  <thead>\n",
       "    <tr style=\"text-align: right;\">\n",
       "      <th></th>\n",
       "      <th>Application_Nr</th>\n",
       "      <th>QuoteGeneratedDate</th>\n",
       "      <th>OfferCoverageAmount</th>\n",
       "      <th>Offer_Stat_Desc</th>\n",
       "      <th>OfferPremiumAmount</th>\n",
       "      <th>OfferBillingMethod</th>\n",
       "      <th>Pmnt_Freq_Desc</th>\n",
       "      <th>Effective_Date</th>\n",
       "      <th>Paid_To_Date</th>\n",
       "      <th>Offered_NAP</th>\n",
       "      <th>Issued_NAP</th>\n",
       "      <th>CurrentBillMethod</th>\n",
       "      <th>ProductType</th>\n",
       "      <th>Age_at_AppReceived</th>\n",
       "      <th>PartnerMarker</th>\n",
       "    </tr>\n",
       "  </thead>\n",
       "  <tbody>\n",
       "    <tr>\n",
       "      <th>458867</th>\n",
       "      <td>CUNA17318494</td>\n",
       "      <td>2022-09-07</td>\n",
       "      <td>70000</td>\n",
       "      <td>Carrier declined to issue</td>\n",
       "      <td>186.6</td>\n",
       "      <td>ACH/PAC</td>\n",
       "      <td>Monthly</td>\n",
       "      <td>NaT</td>\n",
       "      <td>NaT</td>\n",
       "      <td>2239.2</td>\n",
       "      <td>NaN</td>\n",
       "      <td>NaN</td>\n",
       "      <td>SI Term Band 1</td>\n",
       "      <td>61.0</td>\n",
       "      <td>Ethos</td>\n",
       "    </tr>\n",
       "    <tr>\n",
       "      <th>458868</th>\n",
       "      <td>CUNA17318495</td>\n",
       "      <td>2022-09-07</td>\n",
       "      <td>300000</td>\n",
       "      <td>Lapsed Abandoned</td>\n",
       "      <td>68.0</td>\n",
       "      <td>ACH/PAC</td>\n",
       "      <td>Monthly</td>\n",
       "      <td>NaT</td>\n",
       "      <td>NaT</td>\n",
       "      <td>816.0</td>\n",
       "      <td>NaN</td>\n",
       "      <td>NaN</td>\n",
       "      <td>SI Term Band 2</td>\n",
       "      <td>NaN</td>\n",
       "      <td>Ethos</td>\n",
       "    </tr>\n",
       "    <tr>\n",
       "      <th>458869</th>\n",
       "      <td>CUNA17318508</td>\n",
       "      <td>2022-09-07</td>\n",
       "      <td>250000</td>\n",
       "      <td>Lapsed Abandoned</td>\n",
       "      <td>55.0</td>\n",
       "      <td>ACH/PAC</td>\n",
       "      <td>Monthly</td>\n",
       "      <td>NaT</td>\n",
       "      <td>NaT</td>\n",
       "      <td>660.0</td>\n",
       "      <td>NaN</td>\n",
       "      <td>NaN</td>\n",
       "      <td>SI Term Band 2</td>\n",
       "      <td>33.0</td>\n",
       "      <td>Liberty</td>\n",
       "    </tr>\n",
       "    <tr>\n",
       "      <th>458870</th>\n",
       "      <td>CUNA17318525</td>\n",
       "      <td>2022-09-07</td>\n",
       "      <td>80000</td>\n",
       "      <td>Lapsed Abandoned</td>\n",
       "      <td>89.4</td>\n",
       "      <td>ACH/PAC</td>\n",
       "      <td>Monthly</td>\n",
       "      <td>NaT</td>\n",
       "      <td>NaT</td>\n",
       "      <td>1072.8</td>\n",
       "      <td>NaN</td>\n",
       "      <td>NaN</td>\n",
       "      <td>TAWL</td>\n",
       "      <td>32.0</td>\n",
       "      <td>Liberty</td>\n",
       "    </tr>\n",
       "    <tr>\n",
       "      <th>458871</th>\n",
       "      <td>CUNA17318599</td>\n",
       "      <td>2022-09-07</td>\n",
       "      <td>30000</td>\n",
       "      <td>Lapsed Abandoned</td>\n",
       "      <td>294.3</td>\n",
       "      <td>ACH/PAC</td>\n",
       "      <td>Monthly</td>\n",
       "      <td>NaT</td>\n",
       "      <td>NaT</td>\n",
       "      <td>3531.6</td>\n",
       "      <td>NaN</td>\n",
       "      <td>NaN</td>\n",
       "      <td>TAWL</td>\n",
       "      <td>NaN</td>\n",
       "      <td>Liberty</td>\n",
       "    </tr>\n",
       "  </tbody>\n",
       "</table>\n",
       "</div>"
      ],
      "text/plain": [
       "       Application_Nr QuoteGeneratedDate  OfferCoverageAmount  \\\n",
       "458867   CUNA17318494         2022-09-07                70000   \n",
       "458868   CUNA17318495         2022-09-07               300000   \n",
       "458869   CUNA17318508         2022-09-07               250000   \n",
       "458870   CUNA17318525         2022-09-07                80000   \n",
       "458871   CUNA17318599         2022-09-07                30000   \n",
       "\n",
       "                  Offer_Stat_Desc  OfferPremiumAmount OfferBillingMethod  \\\n",
       "458867  Carrier declined to issue               186.6            ACH/PAC   \n",
       "458868           Lapsed Abandoned                68.0            ACH/PAC   \n",
       "458869           Lapsed Abandoned                55.0            ACH/PAC   \n",
       "458870           Lapsed Abandoned                89.4            ACH/PAC   \n",
       "458871           Lapsed Abandoned               294.3            ACH/PAC   \n",
       "\n",
       "       Pmnt_Freq_Desc Effective_Date Paid_To_Date  Offered_NAP  Issued_NAP  \\\n",
       "458867        Monthly            NaT          NaT       2239.2         NaN   \n",
       "458868        Monthly            NaT          NaT        816.0         NaN   \n",
       "458869        Monthly            NaT          NaT        660.0         NaN   \n",
       "458870        Monthly            NaT          NaT       1072.8         NaN   \n",
       "458871        Monthly            NaT          NaT       3531.6         NaN   \n",
       "\n",
       "       CurrentBillMethod     ProductType  Age_at_AppReceived PartnerMarker  \n",
       "458867               NaN  SI Term Band 1                61.0         Ethos  \n",
       "458868               NaN  SI Term Band 2                 NaN         Ethos  \n",
       "458869               NaN  SI Term Band 2                33.0       Liberty  \n",
       "458870               NaN            TAWL                32.0       Liberty  \n",
       "458871               NaN            TAWL                 NaN       Liberty  "
      ]
     },
     "execution_count": 4,
     "metadata": {},
     "output_type": "execute_result"
    }
   ],
   "source": [
    "df.tail()"
   ]
  },
  {
   "cell_type": "code",
   "execution_count": 5,
   "id": "90069814-46dc-4b70-ace1-4648c3ac3478",
   "metadata": {},
   "outputs": [
    {
     "data": {
      "text/plain": [
       "(458872, 15)"
      ]
     },
     "execution_count": 5,
     "metadata": {},
     "output_type": "execute_result"
    }
   ],
   "source": [
    "df.shape"
   ]
  },
  {
   "cell_type": "code",
   "execution_count": 6,
   "id": "8a504252-44b6-4155-9050-1ffc8d521ffa",
   "metadata": {},
   "outputs": [
    {
     "name": "stdout",
     "output_type": "stream",
     "text": [
      "<class 'pandas.core.frame.DataFrame'>\n",
      "RangeIndex: 458872 entries, 0 to 458871\n",
      "Data columns (total 15 columns):\n",
      " #   Column               Non-Null Count   Dtype         \n",
      "---  ------               --------------   -----         \n",
      " 0   Application_Nr       458862 non-null  object        \n",
      " 1   QuoteGeneratedDate   458872 non-null  datetime64[ns]\n",
      " 2   OfferCoverageAmount  458872 non-null  int64         \n",
      " 3   Offer_Stat_Desc      458872 non-null  object        \n",
      " 4   OfferPremiumAmount   458872 non-null  float64       \n",
      " 5   OfferBillingMethod   458872 non-null  object        \n",
      " 6   Pmnt_Freq_Desc       458832 non-null  object        \n",
      " 7   Effective_Date       190605 non-null  datetime64[ns]\n",
      " 8   Paid_To_Date         190605 non-null  datetime64[ns]\n",
      " 9   Offered_NAP          458872 non-null  float64       \n",
      " 10  Issued_NAP           190605 non-null  float64       \n",
      " 11  CurrentBillMethod    190605 non-null  object        \n",
      " 12  ProductType          458862 non-null  object        \n",
      " 13  Age_at_AppReceived   400627 non-null  float64       \n",
      " 14  PartnerMarker        458872 non-null  object        \n",
      "dtypes: datetime64[ns](3), float64(4), int64(1), object(7)\n",
      "memory usage: 52.5+ MB\n"
     ]
    }
   ],
   "source": [
    "df.info()"
   ]
  },
  {
   "cell_type": "code",
   "execution_count": 7,
   "id": "fc458ffa-c1b8-49a2-b0a8-355f88fb4cbb",
   "metadata": {},
   "outputs": [
    {
     "data": {
      "text/html": [
       "<div>\n",
       "<style scoped>\n",
       "    .dataframe tbody tr th:only-of-type {\n",
       "        vertical-align: middle;\n",
       "    }\n",
       "\n",
       "    .dataframe tbody tr th {\n",
       "        vertical-align: top;\n",
       "    }\n",
       "\n",
       "    .dataframe thead th {\n",
       "        text-align: right;\n",
       "    }\n",
       "</style>\n",
       "<table border=\"1\" class=\"dataframe\">\n",
       "  <thead>\n",
       "    <tr style=\"text-align: right;\">\n",
       "      <th></th>\n",
       "      <th>QuoteGeneratedDate</th>\n",
       "      <th>OfferCoverageAmount</th>\n",
       "      <th>OfferPremiumAmount</th>\n",
       "      <th>Effective_Date</th>\n",
       "      <th>Paid_To_Date</th>\n",
       "      <th>Offered_NAP</th>\n",
       "      <th>Issued_NAP</th>\n",
       "      <th>Age_at_AppReceived</th>\n",
       "    </tr>\n",
       "  </thead>\n",
       "  <tbody>\n",
       "    <tr>\n",
       "      <th>count</th>\n",
       "      <td>458872</td>\n",
       "      <td>458872.000000</td>\n",
       "      <td>458872.000000</td>\n",
       "      <td>190605</td>\n",
       "      <td>190605</td>\n",
       "      <td>458872.000000</td>\n",
       "      <td>190605.000000</td>\n",
       "      <td>400627.000000</td>\n",
       "    </tr>\n",
       "    <tr>\n",
       "      <th>mean</th>\n",
       "      <td>2021-05-29 14:39:36.317578240</td>\n",
       "      <td>41713.013651</td>\n",
       "      <td>75.453247</td>\n",
       "      <td>2021-05-09 20:43:12.611946240</td>\n",
       "      <td>2021-12-18 12:22:37.840559872</td>\n",
       "      <td>891.680556</td>\n",
       "      <td>864.271308</td>\n",
       "      <td>55.467078</td>\n",
       "    </tr>\n",
       "    <tr>\n",
       "      <th>min</th>\n",
       "      <td>2018-02-07 00:00:00</td>\n",
       "      <td>1000.000000</td>\n",
       "      <td>0.000000</td>\n",
       "      <td>2018-02-08 00:00:00</td>\n",
       "      <td>2018-02-13 00:00:00</td>\n",
       "      <td>0.000000</td>\n",
       "      <td>0.000000</td>\n",
       "      <td>17.000000</td>\n",
       "    </tr>\n",
       "    <tr>\n",
       "      <th>25%</th>\n",
       "      <td>2020-12-02 00:00:00</td>\n",
       "      <td>10000.000000</td>\n",
       "      <td>40.500000</td>\n",
       "      <td>2020-10-17 00:00:00</td>\n",
       "      <td>2021-06-15 00:00:00</td>\n",
       "      <td>485.280000</td>\n",
       "      <td>462.000000</td>\n",
       "      <td>48.000000</td>\n",
       "    </tr>\n",
       "    <tr>\n",
       "      <th>50%</th>\n",
       "      <td>2021-07-19 00:00:00</td>\n",
       "      <td>20000.000000</td>\n",
       "      <td>57.300000</td>\n",
       "      <td>2021-06-24 00:00:00</td>\n",
       "      <td>2022-04-01 00:00:00</td>\n",
       "      <td>684.960000</td>\n",
       "      <td>682.680000</td>\n",
       "      <td>58.000000</td>\n",
       "    </tr>\n",
       "    <tr>\n",
       "      <th>75%</th>\n",
       "      <td>2022-02-03 00:00:00</td>\n",
       "      <td>45000.000000</td>\n",
       "      <td>90.700000</td>\n",
       "      <td>2022-01-10 00:00:00</td>\n",
       "      <td>2022-09-19 00:00:00</td>\n",
       "      <td>1081.200000</td>\n",
       "      <td>1077.600000</td>\n",
       "      <td>65.000000</td>\n",
       "    </tr>\n",
       "    <tr>\n",
       "      <th>max</th>\n",
       "      <td>2022-09-07 00:00:00</td>\n",
       "      <td>300000.000000</td>\n",
       "      <td>5124.000000</td>\n",
       "      <td>2022-11-01 00:00:00</td>\n",
       "      <td>2024-05-01 00:00:00</td>\n",
       "      <td>14496.000000</td>\n",
       "      <td>14496.000000</td>\n",
       "      <td>96.000000</td>\n",
       "    </tr>\n",
       "    <tr>\n",
       "      <th>std</th>\n",
       "      <td>NaN</td>\n",
       "      <td>61338.126792</td>\n",
       "      <td>68.232138</td>\n",
       "      <td>NaN</td>\n",
       "      <td>NaN</td>\n",
       "      <td>709.771734</td>\n",
       "      <td>663.639863</td>\n",
       "      <td>13.235514</td>\n",
       "    </tr>\n",
       "  </tbody>\n",
       "</table>\n",
       "</div>"
      ],
      "text/plain": [
       "                  QuoteGeneratedDate  OfferCoverageAmount  OfferPremiumAmount  \\\n",
       "count                         458872        458872.000000       458872.000000   \n",
       "mean   2021-05-29 14:39:36.317578240         41713.013651           75.453247   \n",
       "min              2018-02-07 00:00:00          1000.000000            0.000000   \n",
       "25%              2020-12-02 00:00:00         10000.000000           40.500000   \n",
       "50%              2021-07-19 00:00:00         20000.000000           57.300000   \n",
       "75%              2022-02-03 00:00:00         45000.000000           90.700000   \n",
       "max              2022-09-07 00:00:00        300000.000000         5124.000000   \n",
       "std                              NaN         61338.126792           68.232138   \n",
       "\n",
       "                      Effective_Date                   Paid_To_Date  \\\n",
       "count                         190605                         190605   \n",
       "mean   2021-05-09 20:43:12.611946240  2021-12-18 12:22:37.840559872   \n",
       "min              2018-02-08 00:00:00            2018-02-13 00:00:00   \n",
       "25%              2020-10-17 00:00:00            2021-06-15 00:00:00   \n",
       "50%              2021-06-24 00:00:00            2022-04-01 00:00:00   \n",
       "75%              2022-01-10 00:00:00            2022-09-19 00:00:00   \n",
       "max              2022-11-01 00:00:00            2024-05-01 00:00:00   \n",
       "std                              NaN                            NaN   \n",
       "\n",
       "         Offered_NAP     Issued_NAP  Age_at_AppReceived  \n",
       "count  458872.000000  190605.000000       400627.000000  \n",
       "mean      891.680556     864.271308           55.467078  \n",
       "min         0.000000       0.000000           17.000000  \n",
       "25%       485.280000     462.000000           48.000000  \n",
       "50%       684.960000     682.680000           58.000000  \n",
       "75%      1081.200000    1077.600000           65.000000  \n",
       "max     14496.000000   14496.000000           96.000000  \n",
       "std       709.771734     663.639863           13.235514  "
      ]
     },
     "execution_count": 7,
     "metadata": {},
     "output_type": "execute_result"
    }
   ],
   "source": [
    "df.describe()"
   ]
  },
  {
   "cell_type": "code",
   "execution_count": 8,
   "id": "816ed640-4dfa-4404-8a85-5cd008317dda",
   "metadata": {},
   "outputs": [],
   "source": [
    "from datetime import datetime\n",
    "df['Quote_Year_month'] = df['QuoteGeneratedDate'].apply(lambda x: datetime.strftime(x, '%Y-%m'))"
   ]
  },
  {
   "cell_type": "code",
   "execution_count": 9,
   "id": "eff4dc86-3bce-4003-850f-433f1f38a387",
   "metadata": {},
   "outputs": [],
   "source": [
    "df['Quote_Year'] = df['QuoteGeneratedDate'].apply(lambda x: datetime.strftime(x, '%Y'))"
   ]
  },
  {
   "cell_type": "code",
   "execution_count": 10,
   "id": "964498d6-269f-4445-8afa-955d952c0fe5",
   "metadata": {},
   "outputs": [
    {
     "data": {
      "text/html": [
       "<div>\n",
       "<style scoped>\n",
       "    .dataframe tbody tr th:only-of-type {\n",
       "        vertical-align: middle;\n",
       "    }\n",
       "\n",
       "    .dataframe tbody tr th {\n",
       "        vertical-align: top;\n",
       "    }\n",
       "\n",
       "    .dataframe thead th {\n",
       "        text-align: right;\n",
       "    }\n",
       "</style>\n",
       "<table border=\"1\" class=\"dataframe\">\n",
       "  <thead>\n",
       "    <tr style=\"text-align: right;\">\n",
       "      <th></th>\n",
       "      <th>Application_Nr</th>\n",
       "      <th>QuoteGeneratedDate</th>\n",
       "      <th>OfferCoverageAmount</th>\n",
       "      <th>Offer_Stat_Desc</th>\n",
       "      <th>OfferPremiumAmount</th>\n",
       "      <th>OfferBillingMethod</th>\n",
       "      <th>Pmnt_Freq_Desc</th>\n",
       "      <th>Effective_Date</th>\n",
       "      <th>Paid_To_Date</th>\n",
       "      <th>Offered_NAP</th>\n",
       "      <th>Issued_NAP</th>\n",
       "      <th>CurrentBillMethod</th>\n",
       "      <th>ProductType</th>\n",
       "      <th>Age_at_AppReceived</th>\n",
       "      <th>PartnerMarker</th>\n",
       "      <th>Quote_Year_month</th>\n",
       "      <th>Quote_Year</th>\n",
       "    </tr>\n",
       "  </thead>\n",
       "  <tbody>\n",
       "    <tr>\n",
       "      <th>0</th>\n",
       "      <td>CUNA11261506</td>\n",
       "      <td>2018-02-07</td>\n",
       "      <td>15000</td>\n",
       "      <td>Void</td>\n",
       "      <td>13.75</td>\n",
       "      <td>Credit Card</td>\n",
       "      <td>Monthly</td>\n",
       "      <td>NaT</td>\n",
       "      <td>NaT</td>\n",
       "      <td>165.0</td>\n",
       "      <td>NaN</td>\n",
       "      <td>NaN</td>\n",
       "      <td>SI Term Band 1</td>\n",
       "      <td>53.0</td>\n",
       "      <td>Liberty</td>\n",
       "      <td>2018-02</td>\n",
       "      <td>2018</td>\n",
       "    </tr>\n",
       "    <tr>\n",
       "      <th>1</th>\n",
       "      <td>CUNA11263501</td>\n",
       "      <td>2018-02-08</td>\n",
       "      <td>10000</td>\n",
       "      <td>Signed</td>\n",
       "      <td>74.80</td>\n",
       "      <td>Credit Card</td>\n",
       "      <td>Monthly</td>\n",
       "      <td>2018-02-08</td>\n",
       "      <td>2022-09-08</td>\n",
       "      <td>897.6</td>\n",
       "      <td>897.6</td>\n",
       "      <td>PAC</td>\n",
       "      <td>SI Whole Life</td>\n",
       "      <td>70.0</td>\n",
       "      <td>Liberty</td>\n",
       "      <td>2018-02</td>\n",
       "      <td>2018</td>\n",
       "    </tr>\n",
       "  </tbody>\n",
       "</table>\n",
       "</div>"
      ],
      "text/plain": [
       "  Application_Nr QuoteGeneratedDate  OfferCoverageAmount Offer_Stat_Desc  \\\n",
       "0   CUNA11261506         2018-02-07                15000            Void   \n",
       "1   CUNA11263501         2018-02-08                10000          Signed   \n",
       "\n",
       "   OfferPremiumAmount OfferBillingMethod Pmnt_Freq_Desc Effective_Date  \\\n",
       "0               13.75        Credit Card        Monthly            NaT   \n",
       "1               74.80        Credit Card        Monthly     2018-02-08   \n",
       "\n",
       "  Paid_To_Date  Offered_NAP  Issued_NAP CurrentBillMethod     ProductType  \\\n",
       "0          NaT        165.0         NaN               NaN  SI Term Band 1   \n",
       "1   2022-09-08        897.6       897.6               PAC   SI Whole Life   \n",
       "\n",
       "   Age_at_AppReceived PartnerMarker Quote_Year_month Quote_Year  \n",
       "0                53.0       Liberty          2018-02       2018  \n",
       "1                70.0       Liberty          2018-02       2018  "
      ]
     },
     "execution_count": 10,
     "metadata": {},
     "output_type": "execute_result"
    }
   ],
   "source": [
    "df.head(2)"
   ]
  },
  {
   "cell_type": "code",
   "execution_count": 11,
   "id": "693ba132-b5c3-4902-b2c6-135644b14a76",
   "metadata": {},
   "outputs": [],
   "source": [
    "data = df.groupby(['Quote_Year'])['OfferCoverageAmount'].sum().reset_index(name=\"coverage_sum\")"
   ]
  },
  {
   "cell_type": "code",
   "execution_count": 12,
   "id": "929e7844-e2c8-4b08-922d-73d37311e0fa",
   "metadata": {},
   "outputs": [],
   "source": [
    "data_month = df.groupby(['Quote_Year_month'])['OfferCoverageAmount'].sum().reset_index(name=\"coverage_sum\")"
   ]
  },
  {
   "cell_type": "code",
   "execution_count": 13,
   "id": "a0c66d17-9197-4d5c-a342-e3757836ec83",
   "metadata": {},
   "outputs": [
    {
     "data": {
      "text/html": [
       "<div>\n",
       "<style scoped>\n",
       "    .dataframe tbody tr th:only-of-type {\n",
       "        vertical-align: middle;\n",
       "    }\n",
       "\n",
       "    .dataframe tbody tr th {\n",
       "        vertical-align: top;\n",
       "    }\n",
       "\n",
       "    .dataframe thead th {\n",
       "        text-align: right;\n",
       "    }\n",
       "</style>\n",
       "<table border=\"1\" class=\"dataframe\">\n",
       "  <thead>\n",
       "    <tr style=\"text-align: right;\">\n",
       "      <th></th>\n",
       "      <th>Quote_Year_month</th>\n",
       "      <th>coverage_sum</th>\n",
       "    </tr>\n",
       "  </thead>\n",
       "  <tbody>\n",
       "    <tr>\n",
       "      <th>0</th>\n",
       "      <td>2018-02</td>\n",
       "      <td>3379000</td>\n",
       "    </tr>\n",
       "    <tr>\n",
       "      <th>1</th>\n",
       "      <td>2018-03</td>\n",
       "      <td>7988000</td>\n",
       "    </tr>\n",
       "    <tr>\n",
       "      <th>2</th>\n",
       "      <td>2018-04</td>\n",
       "      <td>6284000</td>\n",
       "    </tr>\n",
       "    <tr>\n",
       "      <th>3</th>\n",
       "      <td>2018-05</td>\n",
       "      <td>6705000</td>\n",
       "    </tr>\n",
       "    <tr>\n",
       "      <th>4</th>\n",
       "      <td>2018-06</td>\n",
       "      <td>6586000</td>\n",
       "    </tr>\n",
       "  </tbody>\n",
       "</table>\n",
       "</div>"
      ],
      "text/plain": [
       "  Quote_Year_month  coverage_sum\n",
       "0          2018-02       3379000\n",
       "1          2018-03       7988000\n",
       "2          2018-04       6284000\n",
       "3          2018-05       6705000\n",
       "4          2018-06       6586000"
      ]
     },
     "execution_count": 13,
     "metadata": {},
     "output_type": "execute_result"
    }
   ],
   "source": [
    "data_month.head()"
   ]
  },
  {
   "cell_type": "code",
   "execution_count": 14,
   "id": "624d97a3-a763-400a-a1c2-49c2143c90e6",
   "metadata": {},
   "outputs": [
    {
     "data": {
      "text/plain": [
       "(56, 2)"
      ]
     },
     "execution_count": 14,
     "metadata": {},
     "output_type": "execute_result"
    }
   ],
   "source": [
    "data_month.shape"
   ]
  },
  {
   "cell_type": "code",
   "execution_count": 15,
   "id": "f9a12b6b-de1e-4e62-bb41-ce61fc232901",
   "metadata": {},
   "outputs": [
    {
     "data": {
      "text/html": [
       "<div>\n",
       "<style scoped>\n",
       "    .dataframe tbody tr th:only-of-type {\n",
       "        vertical-align: middle;\n",
       "    }\n",
       "\n",
       "    .dataframe tbody tr th {\n",
       "        vertical-align: top;\n",
       "    }\n",
       "\n",
       "    .dataframe thead th {\n",
       "        text-align: right;\n",
       "    }\n",
       "</style>\n",
       "<table border=\"1\" class=\"dataframe\">\n",
       "  <thead>\n",
       "    <tr style=\"text-align: right;\">\n",
       "      <th></th>\n",
       "      <th>Quote_Year</th>\n",
       "      <th>coverage_sum</th>\n",
       "    </tr>\n",
       "  </thead>\n",
       "  <tbody>\n",
       "    <tr>\n",
       "      <th>0</th>\n",
       "      <td>2018</td>\n",
       "      <td>179392000</td>\n",
       "    </tr>\n",
       "    <tr>\n",
       "      <th>1</th>\n",
       "      <td>2019</td>\n",
       "      <td>1096232000</td>\n",
       "    </tr>\n",
       "  </tbody>\n",
       "</table>\n",
       "</div>"
      ],
      "text/plain": [
       "  Quote_Year  coverage_sum\n",
       "0       2018     179392000\n",
       "1       2019    1096232000"
      ]
     },
     "execution_count": 15,
     "metadata": {},
     "output_type": "execute_result"
    }
   ],
   "source": [
    "data.head(2)"
   ]
  },
  {
   "cell_type": "code",
   "execution_count": 16,
   "id": "64dab27f-3a61-4d3f-b2d6-1cc3e6e0db52",
   "metadata": {},
   "outputs": [
    {
     "data": {
      "text/html": [
       "<div>\n",
       "<style scoped>\n",
       "    .dataframe tbody tr th:only-of-type {\n",
       "        vertical-align: middle;\n",
       "    }\n",
       "\n",
       "    .dataframe tbody tr th {\n",
       "        vertical-align: top;\n",
       "    }\n",
       "\n",
       "    .dataframe thead th {\n",
       "        text-align: right;\n",
       "    }\n",
       "</style>\n",
       "<table border=\"1\" class=\"dataframe\">\n",
       "  <thead>\n",
       "    <tr style=\"text-align: right;\">\n",
       "      <th></th>\n",
       "      <th>Quote_Year</th>\n",
       "      <th>coverage_sum</th>\n",
       "    </tr>\n",
       "  </thead>\n",
       "  <tbody>\n",
       "    <tr>\n",
       "      <th>0</th>\n",
       "      <td>2018</td>\n",
       "      <td>179392000</td>\n",
       "    </tr>\n",
       "    <tr>\n",
       "      <th>1</th>\n",
       "      <td>2019</td>\n",
       "      <td>1096232000</td>\n",
       "    </tr>\n",
       "    <tr>\n",
       "      <th>2</th>\n",
       "      <td>2020</td>\n",
       "      <td>2505178000</td>\n",
       "    </tr>\n",
       "    <tr>\n",
       "      <th>3</th>\n",
       "      <td>2021</td>\n",
       "      <td>7213646000</td>\n",
       "    </tr>\n",
       "    <tr>\n",
       "      <th>4</th>\n",
       "      <td>2022</td>\n",
       "      <td>8146486000</td>\n",
       "    </tr>\n",
       "  </tbody>\n",
       "</table>\n",
       "</div>"
      ],
      "text/plain": [
       "  Quote_Year  coverage_sum\n",
       "0       2018     179392000\n",
       "1       2019    1096232000\n",
       "2       2020    2505178000\n",
       "3       2021    7213646000\n",
       "4       2022    8146486000"
      ]
     },
     "execution_count": 16,
     "metadata": {},
     "output_type": "execute_result"
    }
   ],
   "source": [
    "data"
   ]
  },
  {
   "cell_type": "code",
   "execution_count": 17,
   "id": "8710ad0b-6705-4738-8d72-78ec91e79cbc",
   "metadata": {},
   "outputs": [
    {
     "data": {
      "text/plain": [
       "(5, 2)"
      ]
     },
     "execution_count": 17,
     "metadata": {},
     "output_type": "execute_result"
    }
   ],
   "source": [
    "data.shape"
   ]
  },
  {
   "cell_type": "code",
   "execution_count": 23,
   "id": "5a2725a3-0904-4175-af8d-91d1ae7eb739",
   "metadata": {},
   "outputs": [
    {
     "data": {
      "image/png": "[encoded data removed]",
      "text/plain": [
       "<Figure size 2000x2000 with 1 Axes>"
      ]
     },
     "metadata": {},
     "output_type": "display_data"
    }
   ],
   "source": [
    "import matplotlib.pyplot as plt\n",
    "plt.figure(figsize=(20, 20))\n",
    "# Create the barplot\n",
    "sns.barplot(x='Quote_Year_month', y='coverage_sum', data=data_month)\n",
    "# Rotate x-axis labels for better readability\n",
    "plt.xticks(rotation=90)\n",
    "# Display the plot\n",
    "plt.show()"
   ]
  },
  {
   "cell_type": "code",
   "execution_count": 25,
   "id": "87ec3ced-b714-425d-b738-4bc38400a869",
   "metadata": {},
   "outputs": [],
   "source": [
    "data = df.groupby(['Quote_Year'])['OfferCoverageAmount'].sum().reset_index(name=\"coverage_sum\")"
   ]
  },
  {
   "cell_type": "code",
   "execution_count": 27,
   "id": "c53e8d49-0fc4-4065-bb0a-8c1c4ee1cfb3",
   "metadata": {},
   "outputs": [
    {
     "data": {
      "text/html": [
       "<div>\n",
       "<style scoped>\n",
       "    .dataframe tbody tr th:only-of-type {\n",
       "        vertical-align: middle;\n",
       "    }\n",
       "\n",
       "    .dataframe tbody tr th {\n",
       "        vertical-align: top;\n",
       "    }\n",
       "\n",
       "    .dataframe thead th {\n",
       "        text-align: right;\n",
       "    }\n",
       "</style>\n",
       "<table border=\"1\" class=\"dataframe\">\n",
       "  <thead>\n",
       "    <tr style=\"text-align: right;\">\n",
       "      <th></th>\n",
       "      <th>Application_Nr</th>\n",
       "      <th>QuoteGeneratedDate</th>\n",
       "      <th>OfferCoverageAmount</th>\n",
       "      <th>Offer_Stat_Desc</th>\n",
       "      <th>OfferPremiumAmount</th>\n",
       "      <th>OfferBillingMethod</th>\n",
       "      <th>Pmnt_Freq_Desc</th>\n",
       "      <th>Effective_Date</th>\n",
       "      <th>Paid_To_Date</th>\n",
       "      <th>Offered_NAP</th>\n",
       "      <th>Issued_NAP</th>\n",
       "      <th>CurrentBillMethod</th>\n",
       "      <th>ProductType</th>\n",
       "      <th>Age_at_AppReceived</th>\n",
       "      <th>PartnerMarker</th>\n",
       "      <th>Quote_Year_month</th>\n",
       "      <th>Quote_Year</th>\n",
       "    </tr>\n",
       "  </thead>\n",
       "  <tbody>\n",
       "    <tr>\n",
       "      <th>0</th>\n",
       "      <td>CUNA11261506</td>\n",
       "      <td>2018-02-07</td>\n",
       "      <td>15000</td>\n",
       "      <td>Void</td>\n",
       "      <td>13.75</td>\n",
       "      <td>Credit Card</td>\n",
       "      <td>Monthly</td>\n",
       "      <td>NaT</td>\n",
       "      <td>NaT</td>\n",
       "      <td>165.0</td>\n",
       "      <td>NaN</td>\n",
       "      <td>NaN</td>\n",
       "      <td>SI Term Band 1</td>\n",
       "      <td>53.0</td>\n",
       "      <td>Liberty</td>\n",
       "      <td>2018-02</td>\n",
       "      <td>2018</td>\n",
       "    </tr>\n",
       "    <tr>\n",
       "      <th>1</th>\n",
       "      <td>CUNA11263501</td>\n",
       "      <td>2018-02-08</td>\n",
       "      <td>10000</td>\n",
       "      <td>Signed</td>\n",
       "      <td>74.80</td>\n",
       "      <td>Credit Card</td>\n",
       "      <td>Monthly</td>\n",
       "      <td>2018-02-08</td>\n",
       "      <td>2022-09-08</td>\n",
       "      <td>897.6</td>\n",
       "      <td>897.6</td>\n",
       "      <td>PAC</td>\n",
       "      <td>SI Whole Life</td>\n",
       "      <td>70.0</td>\n",
       "      <td>Liberty</td>\n",
       "      <td>2018-02</td>\n",
       "      <td>2018</td>\n",
       "    </tr>\n",
       "    <tr>\n",
       "      <th>2</th>\n",
       "      <td>CUNA11264400</td>\n",
       "      <td>2018-02-09</td>\n",
       "      <td>15000</td>\n",
       "      <td>Signed</td>\n",
       "      <td>42.35</td>\n",
       "      <td>Credit Card</td>\n",
       "      <td>Monthly</td>\n",
       "      <td>2018-02-09</td>\n",
       "      <td>2022-10-09</td>\n",
       "      <td>508.2</td>\n",
       "      <td>508.2</td>\n",
       "      <td>DIR</td>\n",
       "      <td>SI Whole Life</td>\n",
       "      <td>54.0</td>\n",
       "      <td>Liberty</td>\n",
       "      <td>2018-02</td>\n",
       "      <td>2018</td>\n",
       "    </tr>\n",
       "    <tr>\n",
       "      <th>3</th>\n",
       "      <td>CUNA11264436</td>\n",
       "      <td>2018-02-09</td>\n",
       "      <td>15000</td>\n",
       "      <td>Signed</td>\n",
       "      <td>57.05</td>\n",
       "      <td>Credit Card</td>\n",
       "      <td>Monthly</td>\n",
       "      <td>2018-02-09</td>\n",
       "      <td>2022-10-09</td>\n",
       "      <td>684.6</td>\n",
       "      <td>684.6</td>\n",
       "      <td>DIR</td>\n",
       "      <td>SI Whole Life</td>\n",
       "      <td>58.0</td>\n",
       "      <td>Liberty</td>\n",
       "      <td>2018-02</td>\n",
       "      <td>2018</td>\n",
       "    </tr>\n",
       "    <tr>\n",
       "      <th>4</th>\n",
       "      <td>CUNA11264525</td>\n",
       "      <td>2018-02-09</td>\n",
       "      <td>10000</td>\n",
       "      <td>Signed</td>\n",
       "      <td>27.80</td>\n",
       "      <td>ACH/PAC</td>\n",
       "      <td>Monthly</td>\n",
       "      <td>2018-02-12</td>\n",
       "      <td>2021-02-12</td>\n",
       "      <td>333.6</td>\n",
       "      <td>333.6</td>\n",
       "      <td>PAC</td>\n",
       "      <td>SI Term Band 1</td>\n",
       "      <td>65.0</td>\n",
       "      <td>Liberty</td>\n",
       "      <td>2018-02</td>\n",
       "      <td>2018</td>\n",
       "    </tr>\n",
       "  </tbody>\n",
       "</table>\n",
       "</div>"
      ],
      "text/plain": [
       "  Application_Nr QuoteGeneratedDate  OfferCoverageAmount Offer_Stat_Desc  \\\n",
       "0   CUNA11261506         2018-02-07                15000            Void   \n",
       "1   CUNA11263501         2018-02-08                10000          Signed   \n",
       "2   CUNA11264400         2018-02-09                15000          Signed   \n",
       "3   CUNA11264436         2018-02-09                15000          Signed   \n",
       "4   CUNA11264525         2018-02-09                10000          Signed   \n",
       "\n",
       "   OfferPremiumAmount OfferBillingMethod Pmnt_Freq_Desc Effective_Date  \\\n",
       "0               13.75        Credit Card        Monthly            NaT   \n",
       "1               74.80        Credit Card        Monthly     2018-02-08   \n",
       "2               42.35        Credit Card        Monthly     2018-02-09   \n",
       "3               57.05        Credit Card        Monthly     2018-02-09   \n",
       "4               27.80            ACH/PAC        Monthly     2018-02-12   \n",
       "\n",
       "  Paid_To_Date  Offered_NAP  Issued_NAP CurrentBillMethod     ProductType  \\\n",
       "0          NaT        165.0         NaN               NaN  SI Term Band 1   \n",
       "1   2022-09-08        897.6       897.6               PAC   SI Whole Life   \n",
       "2   2022-10-09        508.2       508.2               DIR   SI Whole Life   \n",
       "3   2022-10-09        684.6       684.6               DIR   SI Whole Life   \n",
       "4   2021-02-12        333.6       333.6               PAC  SI Term Band 1   \n",
       "\n",
       "   Age_at_AppReceived PartnerMarker Quote_Year_month Quote_Year  \n",
       "0                53.0       Liberty          2018-02       2018  \n",
       "1                70.0       Liberty          2018-02       2018  \n",
       "2                54.0       Liberty          2018-02       2018  \n",
       "3                58.0       Liberty          2018-02       2018  \n",
       "4                65.0       Liberty          2018-02       2018  "
      ]
     },
     "execution_count": 27,
     "metadata": {},
     "output_type": "execute_result"
    }
   ],
   "source": [
    "df.head()"
   ]
  },
  {
   "cell_type": "code",
   "execution_count": 29,
   "id": "b2329022-6e97-4e94-8646-0f62046904f5",
   "metadata": {},
   "outputs": [
    {
     "data": {
      "text/plain": [
       "(5, 2)"
      ]
     },
     "execution_count": 29,
     "metadata": {},
     "output_type": "execute_result"
    }
   ],
   "source": [
    "data.shape"
   ]
  },
  {
   "cell_type": "code",
   "execution_count": 31,
   "id": "7370e6d3-75c3-4cc4-a916-9fbe5f0af3f3",
   "metadata": {},
   "outputs": [
    {
     "data": {
      "text/html": [
       "<div>\n",
       "<style scoped>\n",
       "    .dataframe tbody tr th:only-of-type {\n",
       "        vertical-align: middle;\n",
       "    }\n",
       "\n",
       "    .dataframe tbody tr th {\n",
       "        vertical-align: top;\n",
       "    }\n",
       "\n",
       "    .dataframe thead th {\n",
       "        text-align: right;\n",
       "    }\n",
       "</style>\n",
       "<table border=\"1\" class=\"dataframe\">\n",
       "  <thead>\n",
       "    <tr style=\"text-align: right;\">\n",
       "      <th></th>\n",
       "      <th>Quote_Year</th>\n",
       "      <th>coverage_sum</th>\n",
       "    </tr>\n",
       "  </thead>\n",
       "  <tbody>\n",
       "    <tr>\n",
       "      <th>0</th>\n",
       "      <td>2018</td>\n",
       "      <td>179392000</td>\n",
       "    </tr>\n",
       "    <tr>\n",
       "      <th>1</th>\n",
       "      <td>2019</td>\n",
       "      <td>1096232000</td>\n",
       "    </tr>\n",
       "    <tr>\n",
       "      <th>2</th>\n",
       "      <td>2020</td>\n",
       "      <td>2505178000</td>\n",
       "    </tr>\n",
       "    <tr>\n",
       "      <th>3</th>\n",
       "      <td>2021</td>\n",
       "      <td>7213646000</td>\n",
       "    </tr>\n",
       "    <tr>\n",
       "      <th>4</th>\n",
       "      <td>2022</td>\n",
       "      <td>8146486000</td>\n",
       "    </tr>\n",
       "  </tbody>\n",
       "</table>\n",
       "</div>"
      ],
      "text/plain": [
       "  Quote_Year  coverage_sum\n",
       "0       2018     179392000\n",
       "1       2019    1096232000\n",
       "2       2020    2505178000\n",
       "3       2021    7213646000\n",
       "4       2022    8146486000"
      ]
     },
     "execution_count": 31,
     "metadata": {},
     "output_type": "execute_result"
    }
   ],
   "source": [
    "data.head()"
   ]
  },
  {
   "cell_type": "code",
   "execution_count": 33,
   "id": "0a58fe15-ae0a-44cc-a714-c5b75c8f8324",
   "metadata": {},
   "outputs": [
    {
     "name": "stdout",
     "output_type": "stream",
     "text": [
      "<class 'pandas.core.frame.DataFrame'>\n",
      "RangeIndex: 458872 entries, 0 to 458871\n",
      "Data columns (total 17 columns):\n",
      " #   Column               Non-Null Count   Dtype         \n",
      "---  ------               --------------   -----         \n",
      " 0   Application_Nr       458862 non-null  object        \n",
      " 1   QuoteGeneratedDate   458872 non-null  datetime64[ns]\n",
      " 2   OfferCoverageAmount  458872 non-null  int64         \n",
      " 3   Offer_Stat_Desc      458872 non-null  object        \n",
      " 4   OfferPremiumAmount   458872 non-null  float64       \n",
      " 5   OfferBillingMethod   458872 non-null  object        \n",
      " 6   Pmnt_Freq_Desc       458832 non-null  object        \n",
      " 7   Effective_Date       190605 non-null  datetime64[ns]\n",
      " 8   Paid_To_Date         190605 non-null  datetime64[ns]\n",
      " 9   Offered_NAP          458872 non-null  float64       \n",
      " 10  Issued_NAP           190605 non-null  float64       \n",
      " 11  CurrentBillMethod    190605 non-null  object        \n",
      " 12  ProductType          458862 non-null  object        \n",
      " 13  Age_at_AppReceived   400627 non-null  float64       \n",
      " 14  PartnerMarker        458872 non-null  object        \n",
      " 15  Quote_Year_month     458872 non-null  object        \n",
      " 16  Quote_Year           458872 non-null  object        \n",
      "dtypes: datetime64[ns](3), float64(4), int64(1), object(9)\n",
      "memory usage: 59.5+ MB\n"
     ]
    }
   ],
   "source": [
    "df.info()"
   ]
  },
  {
   "cell_type": "code",
   "execution_count": 35,
   "id": "16099255-ad6f-4c38-af6d-830850eca588",
   "metadata": {},
   "outputs": [
    {
     "data": {
      "text/plain": [
       "Application_Nr             10\n",
       "QuoteGeneratedDate          0\n",
       "OfferCoverageAmount         0\n",
       "Offer_Stat_Desc             0\n",
       "OfferPremiumAmount          0\n",
       "OfferBillingMethod          0\n",
       "Pmnt_Freq_Desc             40\n",
       "Effective_Date         268267\n",
       "Paid_To_Date           268267\n",
       "Offered_NAP                 0\n",
       "Issued_NAP             268267\n",
       "CurrentBillMethod      268267\n",
       "ProductType                10\n",
       "Age_at_AppReceived      58245\n",
       "PartnerMarker               0\n",
       "Quote_Year_month            0\n",
       "Quote_Year                  0\n",
       "dtype: int64"
      ]
     },
     "execution_count": 35,
     "metadata": {},
     "output_type": "execute_result"
    }
   ],
   "source": [
    "df.isna().sum()"
   ]
  },
  {
   "cell_type": "code",
   "execution_count": 37,
   "id": "82d5260b-6e88-46cb-9b33-dbaf664e5aff",
   "metadata": {},
   "outputs": [],
   "source": [
    "df = df.dropna(subset=['Application_Nr'])"
   ]
  },
  {
   "cell_type": "code",
   "execution_count": 39,
   "id": "4630767e-6a18-4d23-af9d-a5b6408daeb1",
   "metadata": {},
   "outputs": [
    {
     "name": "stdout",
     "output_type": "stream",
     "text": [
      "<class 'pandas.core.frame.DataFrame'>\n",
      "Index: 458862 entries, 0 to 458871\n",
      "Data columns (total 17 columns):\n",
      " #   Column               Non-Null Count   Dtype         \n",
      "---  ------               --------------   -----         \n",
      " 0   Application_Nr       458862 non-null  object        \n",
      " 1   QuoteGeneratedDate   458862 non-null  datetime64[ns]\n",
      " 2   OfferCoverageAmount  458862 non-null  int64         \n",
      " 3   Offer_Stat_Desc      458862 non-null  object        \n",
      " 4   OfferPremiumAmount   458862 non-null  float64       \n",
      " 5   OfferBillingMethod   458862 non-null  object        \n",
      " 6   Pmnt_Freq_Desc       458822 non-null  object        \n",
      " 7   Effective_Date       190605 non-null  datetime64[ns]\n",
      " 8   Paid_To_Date         190605 non-null  datetime64[ns]\n",
      " 9   Offered_NAP          458862 non-null  float64       \n",
      " 10  Issued_NAP           190605 non-null  float64       \n",
      " 11  CurrentBillMethod    190605 non-null  object        \n",
      " 12  ProductType          458852 non-null  object        \n",
      " 13  Age_at_AppReceived   400627 non-null  float64       \n",
      " 14  PartnerMarker        458862 non-null  object        \n",
      " 15  Quote_Year_month     458862 non-null  object        \n",
      " 16  Quote_Year           458862 non-null  object        \n",
      "dtypes: datetime64[ns](3), float64(4), int64(1), object(9)\n",
      "memory usage: 63.0+ MB\n"
     ]
    }
   ],
   "source": [
    "df.info()"
   ]
  },
  {
   "cell_type": "code",
   "execution_count": 40,
   "id": "c15d3cb2-2fa2-4ba2-bf84-34181413858c",
   "metadata": {},
   "outputs": [
    {
     "data": {
      "text/plain": [
       "Index(['Application_Nr', 'QuoteGeneratedDate', 'OfferCoverageAmount',\n",
       "       'Offer_Stat_Desc', 'OfferPremiumAmount', 'OfferBillingMethod',\n",
       "       'Pmnt_Freq_Desc', 'Effective_Date', 'Paid_To_Date', 'Offered_NAP',\n",
       "       'Issued_NAP', 'CurrentBillMethod', 'ProductType', 'Age_at_AppReceived',\n",
       "       'PartnerMarker', 'Quote_Year_month', 'Quote_Year'],\n",
       "      dtype='object')"
      ]
     },
     "execution_count": 40,
     "metadata": {},
     "output_type": "execute_result"
    }
   ],
   "source": [
    "df.columns"
   ]
  },
  {
   "cell_type": "code",
   "execution_count": 43,
   "id": "7d520e27-f133-4041-bec3-306c4c767e31",
   "metadata": {},
   "outputs": [
    {
     "data": {
      "text/html": [
       "<div>\n",
       "<style scoped>\n",
       "    .dataframe tbody tr th:only-of-type {\n",
       "        vertical-align: middle;\n",
       "    }\n",
       "\n",
       "    .dataframe tbody tr th {\n",
       "        vertical-align: top;\n",
       "    }\n",
       "\n",
       "    .dataframe thead th {\n",
       "        text-align: right;\n",
       "    }\n",
       "</style>\n",
       "<table border=\"1\" class=\"dataframe\">\n",
       "  <thead>\n",
       "    <tr style=\"text-align: right;\">\n",
       "      <th></th>\n",
       "      <th>Application_Nr</th>\n",
       "      <th>QuoteGeneratedDate</th>\n",
       "      <th>OfferCoverageAmount</th>\n",
       "      <th>Offer_Stat_Desc</th>\n",
       "      <th>OfferPremiumAmount</th>\n",
       "      <th>OfferBillingMethod</th>\n",
       "      <th>Pmnt_Freq_Desc</th>\n",
       "      <th>Effective_Date</th>\n",
       "      <th>Paid_To_Date</th>\n",
       "      <th>Offered_NAP</th>\n",
       "      <th>Issued_NAP</th>\n",
       "      <th>CurrentBillMethod</th>\n",
       "      <th>ProductType</th>\n",
       "      <th>Age_at_AppReceived</th>\n",
       "      <th>PartnerMarker</th>\n",
       "      <th>Quote_Year_month</th>\n",
       "      <th>Quote_Year</th>\n",
       "    </tr>\n",
       "  </thead>\n",
       "  <tbody>\n",
       "    <tr>\n",
       "      <th>0</th>\n",
       "      <td>CUNA11261506</td>\n",
       "      <td>2018-02-07</td>\n",
       "      <td>15000</td>\n",
       "      <td>Void</td>\n",
       "      <td>13.75</td>\n",
       "      <td>Credit Card</td>\n",
       "      <td>Monthly</td>\n",
       "      <td>NaT</td>\n",
       "      <td>NaT</td>\n",
       "      <td>165.0</td>\n",
       "      <td>NaN</td>\n",
       "      <td>NaN</td>\n",
       "      <td>SI Term Band 1</td>\n",
       "      <td>53.0</td>\n",
       "      <td>Liberty</td>\n",
       "      <td>2018-02</td>\n",
       "      <td>2018</td>\n",
       "    </tr>\n",
       "    <tr>\n",
       "      <th>1</th>\n",
       "      <td>CUNA11263501</td>\n",
       "      <td>2018-02-08</td>\n",
       "      <td>10000</td>\n",
       "      <td>Signed</td>\n",
       "      <td>74.80</td>\n",
       "      <td>Credit Card</td>\n",
       "      <td>Monthly</td>\n",
       "      <td>2018-02-08</td>\n",
       "      <td>2022-09-08</td>\n",
       "      <td>897.6</td>\n",
       "      <td>897.6</td>\n",
       "      <td>PAC</td>\n",
       "      <td>SI Whole Life</td>\n",
       "      <td>70.0</td>\n",
       "      <td>Liberty</td>\n",
       "      <td>2018-02</td>\n",
       "      <td>2018</td>\n",
       "    </tr>\n",
       "  </tbody>\n",
       "</table>\n",
       "</div>"
      ],
      "text/plain": [
       "  Application_Nr QuoteGeneratedDate  OfferCoverageAmount Offer_Stat_Desc  \\\n",
       "0   CUNA11261506         2018-02-07                15000            Void   \n",
       "1   CUNA11263501         2018-02-08                10000          Signed   \n",
       "\n",
       "   OfferPremiumAmount OfferBillingMethod Pmnt_Freq_Desc Effective_Date  \\\n",
       "0               13.75        Credit Card        Monthly            NaT   \n",
       "1               74.80        Credit Card        Monthly     2018-02-08   \n",
       "\n",
       "  Paid_To_Date  Offered_NAP  Issued_NAP CurrentBillMethod     ProductType  \\\n",
       "0          NaT        165.0         NaN               NaN  SI Term Band 1   \n",
       "1   2022-09-08        897.6       897.6               PAC   SI Whole Life   \n",
       "\n",
       "   Age_at_AppReceived PartnerMarker Quote_Year_month Quote_Year  \n",
       "0                53.0       Liberty          2018-02       2018  \n",
       "1                70.0       Liberty          2018-02       2018  "
      ]
     },
     "execution_count": 43,
     "metadata": {},
     "output_type": "execute_result"
    }
   ],
   "source": [
    "df.head(2)"
   ]
  },
  {
   "cell_type": "code",
   "execution_count": 45,
   "id": "65002aa7-3e73-4234-a8bd-ce6a7cb38b94",
   "metadata": {},
   "outputs": [],
   "source": [
    "df = df[['OfferCoverageAmount','Offer_Stat_Desc', 'OfferPremiumAmount', 'OfferBillingMethod',\n",
    "       'Pmnt_Freq_Desc','Offered_NAP','Issued_NAP', 'CurrentBillMethod', 'ProductType', 'Age_at_AppReceived',\n",
    "       'PartnerMarker']]"
   ]
  },
  {
   "cell_type": "code",
   "execution_count": 47,
   "id": "f298adbc-b08e-4faf-9795-202db71e3fb0",
   "metadata": {},
   "outputs": [
    {
     "data": {
      "text/plain": [
       "OfferCoverageAmount         0\n",
       "Offer_Stat_Desc             0\n",
       "OfferPremiumAmount          0\n",
       "OfferBillingMethod          0\n",
       "Pmnt_Freq_Desc             40\n",
       "Offered_NAP                 0\n",
       "Issued_NAP             268257\n",
       "CurrentBillMethod      268257\n",
       "ProductType                10\n",
       "Age_at_AppReceived      58235\n",
       "PartnerMarker               0\n",
       "dtype: int64"
      ]
     },
     "execution_count": 47,
     "metadata": {},
     "output_type": "execute_result"
    }
   ],
   "source": [
    "df.isna().sum()"
   ]
  },
  {
   "cell_type": "code",
   "execution_count": 48,
   "id": "88cbf5db-66e9-42cb-bd9b-246d87047748",
   "metadata": {},
   "outputs": [
    {
     "name": "stdout",
     "output_type": "stream",
     "text": [
      "<class 'pandas.core.frame.DataFrame'>\n",
      "Index: 458862 entries, 0 to 458871\n",
      "Data columns (total 11 columns):\n",
      " #   Column               Non-Null Count   Dtype  \n",
      "---  ------               --------------   -----  \n",
      " 0   OfferCoverageAmount  458862 non-null  int64  \n",
      " 1   Offer_Stat_Desc      458862 non-null  object \n",
      " 2   OfferPremiumAmount   458862 non-null  float64\n",
      " 3   OfferBillingMethod   458862 non-null  object \n",
      " 4   Pmnt_Freq_Desc       458822 non-null  object \n",
      " 5   Offered_NAP          458862 non-null  float64\n",
      " 6   Issued_NAP           190605 non-null  float64\n",
      " 7   CurrentBillMethod    190605 non-null  object \n",
      " 8   ProductType          458852 non-null  object \n",
      " 9   Age_at_AppReceived   400627 non-null  float64\n",
      " 10  PartnerMarker        458862 non-null  object \n",
      "dtypes: float64(4), int64(1), object(6)\n",
      "memory usage: 42.0+ MB\n"
     ]
    }
   ],
   "source": [
    "df.info()"
   ]
  },
  {
   "cell_type": "code",
   "execution_count": 50,
   "id": "c16064fa-c33d-4fd7-baec-3ba440400175",
   "metadata": {},
   "outputs": [
    {
     "data": {
      "text/plain": [
       "Quote_Year      0\n",
       "coverage_sum    0\n",
       "dtype: int64"
      ]
     },
     "execution_count": 50,
     "metadata": {},
     "output_type": "execute_result"
    }
   ],
   "source": [
    "data.isna().sum()"
   ]
  },
  {
   "cell_type": "code",
   "execution_count": 51,
   "id": "98d299aa-c426-45aa-a91d-d79027ed1871",
   "metadata": {},
   "outputs": [
    {
     "name": "stdout",
     "output_type": "stream",
     "text": [
      "<class 'pandas.core.frame.DataFrame'>\n",
      "RangeIndex: 5 entries, 0 to 4\n",
      "Data columns (total 2 columns):\n",
      " #   Column        Non-Null Count  Dtype \n",
      "---  ------        --------------  ----- \n",
      " 0   Quote_Year    5 non-null      object\n",
      " 1   coverage_sum  5 non-null      int64 \n",
      "dtypes: int64(1), object(1)\n",
      "memory usage: 212.0+ bytes\n"
     ]
    }
   ],
   "source": [
    "data.info()"
   ]
  },
  {
   "cell_type": "code",
   "execution_count": 67,
   "id": "eb03dce3-5910-4208-aa1a-4f4773a07960",
   "metadata": {},
   "outputs": [],
   "source": [
    "def null_values(base_dataset):\n",
    "    # Identify columns\n",
    "    cont = base_dataset.select_dtypes(include=['number']).columns\n",
    "    cat = base_dataset.select_dtypes(exclude=['number']).columns\n",
    "\n",
    "    # Fill missing values\n",
    "    for col in cat:\n",
    "        base_dataset[col].fillna(base_dataset[col].mode()[0], inplace=True)\n",
    "    for col in cont:\n",
    "        base_dataset[col].fillna(base_dataset[col].median(), inplace=True)\n",
    "    \n",
    "    print(base_dataset.isna().sum())  # Check remaining null values\n",
    "    return base_dataset, cat, cont\n"
   ]
  },
  {
   "cell_type": "code",
   "execution_count": 75,
   "id": "eadd4cea-32af-49ca-82be-8a3a55057392",
   "metadata": {},
   "outputs": [
    {
     "data": {
      "text/plain": [
       "col1  col2  col3\n",
       "1.0   a     6.5     1\n",
       "2.0   a     5.0     1\n",
       "            7.0     1\n",
       "      b     6.0     1\n",
       "4.0   c     8.0     1\n",
       "Name: count, dtype: int64"
      ]
     },
     "execution_count": 75,
     "metadata": {},
     "output_type": "execute_result"
    }
   ],
   "source": [
    "base_dataset.value_counts()"
   ]
  },
  {
   "cell_type": "code",
   "execution_count": 77,
   "id": "b53782f6-7159-4bd8-82ad-11ad69b1dad9",
   "metadata": {},
   "outputs": [
    {
     "data": {
      "text/plain": [
       "(1.0, 'a', 6.5)"
      ]
     },
     "execution_count": 77,
     "metadata": {},
     "output_type": "execute_result"
    }
   ],
   "source": [
    "base_dataset.value_counts().index[0]"
   ]
  },
  {
   "cell_type": "code",
   "execution_count": 79,
   "id": "0a22516b-a659-4f3b-9b64-ad33df8184be",
   "metadata": {},
   "outputs": [
    {
     "data": {
      "text/plain": [
       "3"
      ]
     },
     "execution_count": 79,
     "metadata": {},
     "output_type": "execute_result"
    }
   ],
   "source": [
    "len(base_dataset.isna().sum().index)"
   ]
  },
  {
   "cell_type": "code",
   "execution_count": 81,
   "id": "82b478c7-9b02-4ac5-b144-abeddc2cbe19",
   "metadata": {},
   "outputs": [
    {
     "name": "stderr",
     "output_type": "stream",
     "text": [
      "C:\\Users\\govindarajulu\\AppData\\Local\\Temp\\ipykernel_1160\\1209508004.py:8: FutureWarning: A value is trying to be set on a copy of a DataFrame or Series through chained assignment using an inplace method.\n",
      "The behavior will change in pandas 3.0. This inplace method will never work because the intermediate object on which we are setting values always behaves as a copy.\n",
      "\n",
      "For example, when doing 'df[col].method(value, inplace=True)', try using 'df.method({col: value}, inplace=True)' or df[col] = df[col].method(value) instead, to perform the operation inplace on the original object.\n",
      "\n",
      "\n",
      "  base_dataset[col].fillna(base_dataset[col].mode()[0], inplace=True)\n",
      "C:\\Users\\govindarajulu\\AppData\\Local\\Temp\\ipykernel_1160\\1209508004.py:10: FutureWarning: A value is trying to be set on a copy of a DataFrame or Series through chained assignment using an inplace method.\n",
      "The behavior will change in pandas 3.0. This inplace method will never work because the intermediate object on which we are setting values always behaves as a copy.\n",
      "\n",
      "For example, when doing 'df[col].method(value, inplace=True)', try using 'df.method({col: value}, inplace=True)' or df[col] = df[col].method(value) instead, to perform the operation inplace on the original object.\n",
      "\n",
      "\n",
      "  base_dataset[col].fillna(base_dataset[col].median(), inplace=True)\n"
     ]
    },
    {
     "name": "stdout",
     "output_type": "stream",
     "text": [
      "OfferCoverageAmount    0\n",
      "Offer_Stat_Desc        0\n",
      "OfferPremiumAmount     0\n",
      "OfferBillingMethod     0\n",
      "Pmnt_Freq_Desc         0\n",
      "Offered_NAP            0\n",
      "Issued_NAP             0\n",
      "CurrentBillMethod      0\n",
      "ProductType            0\n",
      "Age_at_AppReceived     0\n",
      "PartnerMarker          0\n",
      "dtype: int64\n"
     ]
    }
   ],
   "source": [
    "data_cleaned,cat,cont = null_values(df)"
   ]
  },
  {
   "cell_type": "code",
   "execution_count": 83,
   "id": "578d5a34-10b5-46d6-a919-791a3c5c4bfa",
   "metadata": {},
   "outputs": [
    {
     "name": "stdout",
     "output_type": "stream",
     "text": [
      "<class 'pandas.core.frame.DataFrame'>\n",
      "Index: 458862 entries, 0 to 458871\n",
      "Data columns (total 11 columns):\n",
      " #   Column               Non-Null Count   Dtype  \n",
      "---  ------               --------------   -----  \n",
      " 0   OfferCoverageAmount  458862 non-null  int64  \n",
      " 1   Offer_Stat_Desc      458862 non-null  object \n",
      " 2   OfferPremiumAmount   458862 non-null  float64\n",
      " 3   OfferBillingMethod   458862 non-null  object \n",
      " 4   Pmnt_Freq_Desc       458862 non-null  object \n",
      " 5   Offered_NAP          458862 non-null  float64\n",
      " 6   Issued_NAP           458862 non-null  float64\n",
      " 7   CurrentBillMethod    458862 non-null  object \n",
      " 8   ProductType          458862 non-null  object \n",
      " 9   Age_at_AppReceived   458862 non-null  float64\n",
      " 10  PartnerMarker        458862 non-null  object \n",
      "dtypes: float64(4), int64(1), object(6)\n",
      "memory usage: 42.0+ MB\n"
     ]
    }
   ],
   "source": [
    "data_cleaned.info()"
   ]
  },
  {
   "cell_type": "code",
   "execution_count": 89,
   "id": "d5ea4d4c-7d34-402b-8a54-e2eb814d0c69",
   "metadata": {},
   "outputs": [
    {
     "data": {
      "text/plain": [
       "Index(['Offer_Stat_Desc', 'OfferBillingMethod', 'Pmnt_Freq_Desc',\n",
       "       'CurrentBillMethod', 'ProductType', 'PartnerMarker'],\n",
       "      dtype='object')"
      ]
     },
     "execution_count": 89,
     "metadata": {},
     "output_type": "execute_result"
    }
   ],
   "source": [
    "cat"
   ]
  },
  {
   "cell_type": "code",
   "execution_count": 91,
   "id": "1434f6d1-1fdc-4581-bfbb-70aa0015bba5",
   "metadata": {},
   "outputs": [
    {
     "data": {
      "text/plain": [
       "Index(['OfferCoverageAmount', 'OfferPremiumAmount', 'Offered_NAP',\n",
       "       'Issued_NAP', 'Age_at_AppReceived'],\n",
       "      dtype='object')"
      ]
     },
     "execution_count": 91,
     "metadata": {},
     "output_type": "execute_result"
    }
   ],
   "source": [
    "cont"
   ]
  },
  {
   "cell_type": "code",
   "execution_count": 93,
   "id": "958e436e-6ddc-48db-84ff-34350b4489d2",
   "metadata": {},
   "outputs": [
    {
     "data": {
      "text/html": [
       "<div>\n",
       "<style scoped>\n",
       "    .dataframe tbody tr th:only-of-type {\n",
       "        vertical-align: middle;\n",
       "    }\n",
       "\n",
       "    .dataframe tbody tr th {\n",
       "        vertical-align: top;\n",
       "    }\n",
       "\n",
       "    .dataframe thead th {\n",
       "        text-align: right;\n",
       "    }\n",
       "</style>\n",
       "<table border=\"1\" class=\"dataframe\">\n",
       "  <thead>\n",
       "    <tr style=\"text-align: right;\">\n",
       "      <th></th>\n",
       "      <th>OfferCoverageAmount</th>\n",
       "      <th>Offer_Stat_Desc</th>\n",
       "      <th>OfferPremiumAmount</th>\n",
       "      <th>OfferBillingMethod</th>\n",
       "      <th>Pmnt_Freq_Desc</th>\n",
       "      <th>Offered_NAP</th>\n",
       "      <th>Issued_NAP</th>\n",
       "      <th>CurrentBillMethod</th>\n",
       "      <th>ProductType</th>\n",
       "      <th>Age_at_AppReceived</th>\n",
       "      <th>PartnerMarker</th>\n",
       "    </tr>\n",
       "  </thead>\n",
       "  <tbody>\n",
       "    <tr>\n",
       "      <th>0</th>\n",
       "      <td>15000</td>\n",
       "      <td>Void</td>\n",
       "      <td>13.75</td>\n",
       "      <td>Credit Card</td>\n",
       "      <td>Monthly</td>\n",
       "      <td>165.0</td>\n",
       "      <td>682.68</td>\n",
       "      <td>DIR</td>\n",
       "      <td>SI Term Band 1</td>\n",
       "      <td>53.0</td>\n",
       "      <td>Liberty</td>\n",
       "    </tr>\n",
       "    <tr>\n",
       "      <th>1</th>\n",
       "      <td>10000</td>\n",
       "      <td>Signed</td>\n",
       "      <td>74.80</td>\n",
       "      <td>Credit Card</td>\n",
       "      <td>Monthly</td>\n",
       "      <td>897.6</td>\n",
       "      <td>897.60</td>\n",
       "      <td>PAC</td>\n",
       "      <td>SI Whole Life</td>\n",
       "      <td>70.0</td>\n",
       "      <td>Liberty</td>\n",
       "    </tr>\n",
       "  </tbody>\n",
       "</table>\n",
       "</div>"
      ],
      "text/plain": [
       "   OfferCoverageAmount Offer_Stat_Desc  OfferPremiumAmount OfferBillingMethod  \\\n",
       "0                15000            Void               13.75        Credit Card   \n",
       "1                10000          Signed               74.80        Credit Card   \n",
       "\n",
       "  Pmnt_Freq_Desc  Offered_NAP  Issued_NAP CurrentBillMethod     ProductType  \\\n",
       "0        Monthly        165.0      682.68               DIR  SI Term Band 1   \n",
       "1        Monthly        897.6      897.60               PAC   SI Whole Life   \n",
       "\n",
       "   Age_at_AppReceived PartnerMarker  \n",
       "0                53.0       Liberty  \n",
       "1                70.0       Liberty  "
      ]
     },
     "execution_count": 93,
     "metadata": {},
     "output_type": "execute_result"
    }
   ],
   "source": [
    "data_cleaned.head(2)"
   ]
  },
  {
   "cell_type": "code",
   "execution_count": 97,
   "id": "32ebc9aa-96cc-4c82-8b95-17c501f31a79",
   "metadata": {},
   "outputs": [],
   "source": [
    "from sklearn.preprocessing import LabelEncoder\n",
    "\n",
    "def label_encoders(data):\n",
    "    le = LabelEncoder()\n",
    "    cat_columns = data.select_dtypes(exclude=['number']).columns\n",
    "    for col in cat_columns:\n",
    "        data[col] = le.fit_transform(data[col])\n",
    "    return data\n",
    "\n",
    "#def one_hot_encoders(data):\n",
    "    #return pd.get_dummies(data, drop_first=True)"
   ]
  },
  {
   "cell_type": "code",
   "execution_count": 99,
   "id": "5687c920-e2da-4fe2-a97e-a08fd8c67aab",
   "metadata": {},
   "outputs": [
    {
     "data": {
      "text/plain": [
       "array(['Credit Card', 'ACH/PAC', 'Direct Bill', 'List Bill', 'Unknown'],\n",
       "      dtype=object)"
      ]
     },
     "execution_count": 99,
     "metadata": {},
     "output_type": "execute_result"
    }
   ],
   "source": [
    "data_cleaned['OfferBillingMethod'].unique()"
   ]
  },
  {
   "cell_type": "code",
   "execution_count": 101,
   "id": "9e1ba700-863a-4c91-a5e5-816f9a7b233e",
   "metadata": {},
   "outputs": [],
   "source": [
    "base_data_label_encoded=label_encoders(data_cleaned)"
   ]
  },
  {
   "cell_type": "code",
   "execution_count": 103,
   "id": "20e6dce9-db7c-4a4e-b54e-8cd053e152cf",
   "metadata": {},
   "outputs": [],
   "source": [
    "test_data = base_data_label_encoded.T"
   ]
  },
  {
   "cell_type": "code",
   "execution_count": 105,
   "id": "7259f585-b8d7-461e-bc12-dc4f08e52c11",
   "metadata": {},
   "outputs": [
    {
     "data": {
      "text/html": [
       "<div>\n",
       "<style scoped>\n",
       "    .dataframe tbody tr th:only-of-type {\n",
       "        vertical-align: middle;\n",
       "    }\n",
       "\n",
       "    .dataframe tbody tr th {\n",
       "        vertical-align: top;\n",
       "    }\n",
       "\n",
       "    .dataframe thead th {\n",
       "        text-align: right;\n",
       "    }\n",
       "</style>\n",
       "<table border=\"1\" class=\"dataframe\">\n",
       "  <thead>\n",
       "    <tr style=\"text-align: right;\">\n",
       "      <th></th>\n",
       "      <th>0</th>\n",
       "      <th>1</th>\n",
       "      <th>2</th>\n",
       "      <th>3</th>\n",
       "      <th>4</th>\n",
       "      <th>5</th>\n",
       "      <th>6</th>\n",
       "      <th>7</th>\n",
       "      <th>8</th>\n",
       "      <th>9</th>\n",
       "      <th>...</th>\n",
       "      <th>458862</th>\n",
       "      <th>458863</th>\n",
       "      <th>458864</th>\n",
       "      <th>458865</th>\n",
       "      <th>458866</th>\n",
       "      <th>458867</th>\n",
       "      <th>458868</th>\n",
       "      <th>458869</th>\n",
       "      <th>458870</th>\n",
       "      <th>458871</th>\n",
       "    </tr>\n",
       "  </thead>\n",
       "  <tbody>\n",
       "    <tr>\n",
       "      <th>OfferCoverageAmount</th>\n",
       "      <td>15000.00</td>\n",
       "      <td>10000.0</td>\n",
       "      <td>15000.00</td>\n",
       "      <td>15000.00</td>\n",
       "      <td>10000.0</td>\n",
       "      <td>100000.0</td>\n",
       "      <td>5000.0</td>\n",
       "      <td>10000.0</td>\n",
       "      <td>100000.0</td>\n",
       "      <td>15000.00</td>\n",
       "      <td>...</td>\n",
       "      <td>20000.0</td>\n",
       "      <td>250000.0</td>\n",
       "      <td>50000.0</td>\n",
       "      <td>300000.0</td>\n",
       "      <td>40000.0</td>\n",
       "      <td>70000.0</td>\n",
       "      <td>300000.0</td>\n",
       "      <td>250000.0</td>\n",
       "      <td>80000.0</td>\n",
       "      <td>30000.0</td>\n",
       "    </tr>\n",
       "    <tr>\n",
       "      <th>Offer_Stat_Desc</th>\n",
       "      <td>17.00</td>\n",
       "      <td>14.0</td>\n",
       "      <td>14.00</td>\n",
       "      <td>14.00</td>\n",
       "      <td>14.0</td>\n",
       "      <td>14.0</td>\n",
       "      <td>0.0</td>\n",
       "      <td>14.0</td>\n",
       "      <td>9.0</td>\n",
       "      <td>14.00</td>\n",
       "      <td>...</td>\n",
       "      <td>2.0</td>\n",
       "      <td>2.0</td>\n",
       "      <td>2.0</td>\n",
       "      <td>11.0</td>\n",
       "      <td>1.0</td>\n",
       "      <td>2.0</td>\n",
       "      <td>11.0</td>\n",
       "      <td>11.0</td>\n",
       "      <td>11.0</td>\n",
       "      <td>11.0</td>\n",
       "    </tr>\n",
       "    <tr>\n",
       "      <th>OfferPremiumAmount</th>\n",
       "      <td>13.75</td>\n",
       "      <td>74.8</td>\n",
       "      <td>42.35</td>\n",
       "      <td>57.05</td>\n",
       "      <td>27.8</td>\n",
       "      <td>57.0</td>\n",
       "      <td>55.1</td>\n",
       "      <td>42.7</td>\n",
       "      <td>139.0</td>\n",
       "      <td>16.55</td>\n",
       "      <td>...</td>\n",
       "      <td>55.1</td>\n",
       "      <td>55.0</td>\n",
       "      <td>74.5</td>\n",
       "      <td>68.0</td>\n",
       "      <td>20.1</td>\n",
       "      <td>186.6</td>\n",
       "      <td>68.0</td>\n",
       "      <td>55.0</td>\n",
       "      <td>89.4</td>\n",
       "      <td>294.3</td>\n",
       "    </tr>\n",
       "  </tbody>\n",
       "</table>\n",
       "<p>3 rows × 458862 columns</p>\n",
       "</div>"
      ],
      "text/plain": [
       "                       0        1         2         3        4         5       \\\n",
       "OfferCoverageAmount  15000.00  10000.0  15000.00  15000.00  10000.0  100000.0   \n",
       "Offer_Stat_Desc         17.00     14.0     14.00     14.00     14.0      14.0   \n",
       "OfferPremiumAmount      13.75     74.8     42.35     57.05     27.8      57.0   \n",
       "\n",
       "                     6        7         8         9       ...   458862  \\\n",
       "OfferCoverageAmount  5000.0  10000.0  100000.0  15000.00  ...  20000.0   \n",
       "Offer_Stat_Desc         0.0     14.0       9.0     14.00  ...      2.0   \n",
       "OfferPremiumAmount     55.1     42.7     139.0     16.55  ...     55.1   \n",
       "\n",
       "                       458863   458864    458865   458866   458867    458868  \\\n",
       "OfferCoverageAmount  250000.0  50000.0  300000.0  40000.0  70000.0  300000.0   \n",
       "Offer_Stat_Desc           2.0      2.0      11.0      1.0      2.0      11.0   \n",
       "OfferPremiumAmount       55.0     74.5      68.0     20.1    186.6      68.0   \n",
       "\n",
       "                       458869   458870   458871  \n",
       "OfferCoverageAmount  250000.0  80000.0  30000.0  \n",
       "Offer_Stat_Desc          11.0     11.0     11.0  \n",
       "OfferPremiumAmount       55.0     89.4    294.3  \n",
       "\n",
       "[3 rows x 458862 columns]"
      ]
     },
     "execution_count": 105,
     "metadata": {},
     "output_type": "execute_result"
    }
   ],
   "source": [
    "test_data.head(3)"
   ]
  },
  {
   "cell_type": "code",
   "execution_count": 107,
   "id": "ea550fe7-363b-4d72-87dc-c490869573f7",
   "metadata": {},
   "outputs": [
    {
     "data": {
      "text/plain": [
       "(11, 458862)"
      ]
     },
     "execution_count": 107,
     "metadata": {},
     "output_type": "execute_result"
    }
   ],
   "source": [
    "test_data.shape"
   ]
  },
  {
   "cell_type": "code",
   "execution_count": 109,
   "id": "c8877e80-f283-4a13-8bd1-5e4aa1915821",
   "metadata": {},
   "outputs": [],
   "source": [
    "from sklearn.cluster import KMeans\n",
    "kmeans = KMeans(n_clusters=3, random_state=10).fit(base_data_label_encoded)"
   ]
  },
  {
   "cell_type": "code",
   "execution_count": 111,
   "id": "548ad362-09d3-4e18-8fa9-975298bb6a45",
   "metadata": {},
   "outputs": [],
   "source": [
    "labels=kmeans.labels_"
   ]
  },
  {
   "cell_type": "code",
   "execution_count": 113,
   "id": "7557bda5-538d-4eff-8f0c-9e82f18657f8",
   "metadata": {},
   "outputs": [
    {
     "data": {
      "text/plain": [
       "array([0, 0, 0, ..., 2, 1, 0])"
      ]
     },
     "execution_count": 113,
     "metadata": {},
     "output_type": "execute_result"
    }
   ],
   "source": [
    "labels"
   ]
  },
  {
   "cell_type": "code",
   "execution_count": 115,
   "id": "7fb08a2e-4761-4be4-8d8a-b10d46da000f",
   "metadata": {},
   "outputs": [],
   "source": [
    "base_data_label_encoded['cluster']=labels"
   ]
  },
  {
   "cell_type": "code",
   "execution_count": 119,
   "id": "6587c820-1086-45b1-82de-42f810dd80d5",
   "metadata": {},
   "outputs": [
    {
     "data": {
      "text/html": [
       "<div>\n",
       "<style scoped>\n",
       "    .dataframe tbody tr th:only-of-type {\n",
       "        vertical-align: middle;\n",
       "    }\n",
       "\n",
       "    .dataframe tbody tr th {\n",
       "        vertical-align: top;\n",
       "    }\n",
       "\n",
       "    .dataframe thead th {\n",
       "        text-align: right;\n",
       "    }\n",
       "</style>\n",
       "<table border=\"1\" class=\"dataframe\">\n",
       "  <thead>\n",
       "    <tr style=\"text-align: right;\">\n",
       "      <th></th>\n",
       "      <th>OfferCoverageAmount</th>\n",
       "      <th>Offer_Stat_Desc</th>\n",
       "      <th>OfferPremiumAmount</th>\n",
       "      <th>OfferBillingMethod</th>\n",
       "      <th>Pmnt_Freq_Desc</th>\n",
       "      <th>Offered_NAP</th>\n",
       "      <th>Issued_NAP</th>\n",
       "      <th>CurrentBillMethod</th>\n",
       "      <th>ProductType</th>\n",
       "      <th>Age_at_AppReceived</th>\n",
       "      <th>PartnerMarker</th>\n",
       "      <th>cluster</th>\n",
       "    </tr>\n",
       "  </thead>\n",
       "  <tbody>\n",
       "    <tr>\n",
       "      <th>0</th>\n",
       "      <td>15000</td>\n",
       "      <td>17</td>\n",
       "      <td>13.75</td>\n",
       "      <td>1</td>\n",
       "      <td>1</td>\n",
       "      <td>165.0</td>\n",
       "      <td>682.68</td>\n",
       "      <td>1</td>\n",
       "      <td>1</td>\n",
       "      <td>53.0</td>\n",
       "      <td>4</td>\n",
       "      <td>0</td>\n",
       "    </tr>\n",
       "    <tr>\n",
       "      <th>1</th>\n",
       "      <td>10000</td>\n",
       "      <td>14</td>\n",
       "      <td>74.80</td>\n",
       "      <td>1</td>\n",
       "      <td>1</td>\n",
       "      <td>897.6</td>\n",
       "      <td>897.60</td>\n",
       "      <td>2</td>\n",
       "      <td>3</td>\n",
       "      <td>70.0</td>\n",
       "      <td>4</td>\n",
       "      <td>0</td>\n",
       "    </tr>\n",
       "  </tbody>\n",
       "</table>\n",
       "</div>"
      ],
      "text/plain": [
       "   OfferCoverageAmount  Offer_Stat_Desc  OfferPremiumAmount  \\\n",
       "0                15000               17               13.75   \n",
       "1                10000               14               74.80   \n",
       "\n",
       "   OfferBillingMethod  Pmnt_Freq_Desc  Offered_NAP  Issued_NAP  \\\n",
       "0                   1               1        165.0      682.68   \n",
       "1                   1               1        897.6      897.60   \n",
       "\n",
       "   CurrentBillMethod  ProductType  Age_at_AppReceived  PartnerMarker  cluster  \n",
       "0                  1            1                53.0              4        0  \n",
       "1                  2            3                70.0              4        0  "
      ]
     },
     "execution_count": 119,
     "metadata": {},
     "output_type": "execute_result"
    }
   ],
   "source": [
    "base_data_label_encoded.head(2)"
   ]
  },
  {
   "cell_type": "code",
   "execution_count": 121,
   "id": "eec2f12d-8002-4465-9f05-fc6303025877",
   "metadata": {},
   "outputs": [],
   "source": [
    "base_data_label_encoded.reset_index(inplace=True)"
   ]
  },
  {
   "cell_type": "code",
   "execution_count": 123,
   "id": "aac6e86a-d33f-44e3-b6a5-c64552ad1181",
   "metadata": {},
   "outputs": [
    {
     "data": {
      "text/html": [
       "<div>\n",
       "<style scoped>\n",
       "    .dataframe tbody tr th:only-of-type {\n",
       "        vertical-align: middle;\n",
       "    }\n",
       "\n",
       "    .dataframe tbody tr th {\n",
       "        vertical-align: top;\n",
       "    }\n",
       "\n",
       "    .dataframe thead th {\n",
       "        text-align: right;\n",
       "    }\n",
       "</style>\n",
       "<table border=\"1\" class=\"dataframe\">\n",
       "  <thead>\n",
       "    <tr style=\"text-align: right;\">\n",
       "      <th></th>\n",
       "      <th>index</th>\n",
       "      <th>OfferCoverageAmount</th>\n",
       "      <th>Offer_Stat_Desc</th>\n",
       "      <th>OfferPremiumAmount</th>\n",
       "      <th>OfferBillingMethod</th>\n",
       "      <th>Pmnt_Freq_Desc</th>\n",
       "      <th>Offered_NAP</th>\n",
       "      <th>Issued_NAP</th>\n",
       "      <th>CurrentBillMethod</th>\n",
       "      <th>ProductType</th>\n",
       "      <th>Age_at_AppReceived</th>\n",
       "      <th>PartnerMarker</th>\n",
       "      <th>cluster</th>\n",
       "    </tr>\n",
       "  </thead>\n",
       "  <tbody>\n",
       "    <tr>\n",
       "      <th>0</th>\n",
       "      <td>0</td>\n",
       "      <td>15000</td>\n",
       "      <td>17</td>\n",
       "      <td>13.75</td>\n",
       "      <td>1</td>\n",
       "      <td>1</td>\n",
       "      <td>165.0</td>\n",
       "      <td>682.68</td>\n",
       "      <td>1</td>\n",
       "      <td>1</td>\n",
       "      <td>53.0</td>\n",
       "      <td>4</td>\n",
       "      <td>0</td>\n",
       "    </tr>\n",
       "    <tr>\n",
       "      <th>1</th>\n",
       "      <td>1</td>\n",
       "      <td>10000</td>\n",
       "      <td>14</td>\n",
       "      <td>74.80</td>\n",
       "      <td>1</td>\n",
       "      <td>1</td>\n",
       "      <td>897.6</td>\n",
       "      <td>897.60</td>\n",
       "      <td>2</td>\n",
       "      <td>3</td>\n",
       "      <td>70.0</td>\n",
       "      <td>4</td>\n",
       "      <td>0</td>\n",
       "    </tr>\n",
       "  </tbody>\n",
       "</table>\n",
       "</div>"
      ],
      "text/plain": [
       "   index  OfferCoverageAmount  Offer_Stat_Desc  OfferPremiumAmount  \\\n",
       "0      0                15000               17               13.75   \n",
       "1      1                10000               14               74.80   \n",
       "\n",
       "   OfferBillingMethod  Pmnt_Freq_Desc  Offered_NAP  Issued_NAP  \\\n",
       "0                   1               1        165.0      682.68   \n",
       "1                   1               1        897.6      897.60   \n",
       "\n",
       "   CurrentBillMethod  ProductType  Age_at_AppReceived  PartnerMarker  cluster  \n",
       "0                  1            1                53.0              4        0  \n",
       "1                  2            3                70.0              4        0  "
      ]
     },
     "execution_count": 123,
     "metadata": {},
     "output_type": "execute_result"
    }
   ],
   "source": [
    "base_data_label_encoded.head(2)"
   ]
  },
  {
   "cell_type": "code",
   "execution_count": 125,
   "id": "7efce651-51ce-47f4-b04f-3ae9f2186ed9",
   "metadata": {},
   "outputs": [
    {
     "data": {
      "text/html": [
       "<div>\n",
       "<style scoped>\n",
       "    .dataframe tbody tr th:only-of-type {\n",
       "        vertical-align: middle;\n",
       "    }\n",
       "\n",
       "    .dataframe tbody tr th {\n",
       "        vertical-align: top;\n",
       "    }\n",
       "\n",
       "    .dataframe thead th {\n",
       "        text-align: right;\n",
       "    }\n",
       "</style>\n",
       "<table border=\"1\" class=\"dataframe\">\n",
       "  <thead>\n",
       "    <tr style=\"text-align: right;\">\n",
       "      <th></th>\n",
       "      <th>Quote_Year</th>\n",
       "      <th>coverage_sum</th>\n",
       "    </tr>\n",
       "  </thead>\n",
       "  <tbody>\n",
       "    <tr>\n",
       "      <th>0</th>\n",
       "      <td>2018</td>\n",
       "      <td>179392000</td>\n",
       "    </tr>\n",
       "    <tr>\n",
       "      <th>1</th>\n",
       "      <td>2019</td>\n",
       "      <td>1096232000</td>\n",
       "    </tr>\n",
       "  </tbody>\n",
       "</table>\n",
       "</div>"
      ],
      "text/plain": [
       "  Quote_Year  coverage_sum\n",
       "0       2018     179392000\n",
       "1       2019    1096232000"
      ]
     },
     "execution_count": 125,
     "metadata": {},
     "output_type": "execute_result"
    }
   ],
   "source": [
    "data.head(2)"
   ]
  },
  {
   "cell_type": "code",
   "execution_count": 127,
   "id": "01eae570-8fe4-474c-8be9-cd6c243edbab",
   "metadata": {},
   "outputs": [],
   "source": [
    "from sklearn.cluster import KMeans\n",
    "kmeans = KMeans(n_clusters=10, random_state=10).fit(base_data_label_encoded)"
   ]
  },
  {
   "cell_type": "code",
   "execution_count": 129,
   "id": "e0a71a4b-64eb-4e05-96ce-a24c9f54a4c9",
   "metadata": {},
   "outputs": [],
   "source": [
    "labels=kmeans.labels_"
   ]
  },
  {
   "cell_type": "code",
   "execution_count": 131,
   "id": "335d08bb-1a81-4367-95bc-462ca7f272c5",
   "metadata": {},
   "outputs": [
    {
     "data": {
      "text/plain": [
       "array([2, 2, 2, ..., 3, 5, 5])"
      ]
     },
     "execution_count": 131,
     "metadata": {},
     "output_type": "execute_result"
    }
   ],
   "source": [
    "labels"
   ]
  },
  {
   "cell_type": "code",
   "execution_count": 133,
   "id": "c52d0bcf-f2b1-4fbc-9941-1f439e2b31a5",
   "metadata": {},
   "outputs": [],
   "source": [
    "val=pd.DataFrame(data=labels,columns=['sample'])"
   ]
  },
  {
   "cell_type": "code",
   "execution_count": 135,
   "id": "fc8e5ffd-5f0d-458a-85a3-003b217a6dab",
   "metadata": {},
   "outputs": [
    {
     "data": {
      "text/plain": [
       "sample\n",
       "7    71578\n",
       "4    70776\n",
       "9    67047\n",
       "2    66263\n",
       "0    66244\n",
       "5    58567\n",
       "8    18538\n",
       "3    14881\n",
       "1    13574\n",
       "6    11394\n",
       "Name: count, dtype: int64"
      ]
     },
     "execution_count": 135,
     "metadata": {},
     "output_type": "execute_result"
    }
   ],
   "source": [
    "val['sample'].value_counts()"
   ]
  },
  {
   "cell_type": "code",
   "execution_count": 137,
   "id": "f27d2b17-008e-4ac3-a7bf-cf5fe16d69b4",
   "metadata": {},
   "outputs": [
    {
     "data": {
      "text/html": [
       "<div>\n",
       "<style scoped>\n",
       "    .dataframe tbody tr th:only-of-type {\n",
       "        vertical-align: middle;\n",
       "    }\n",
       "\n",
       "    .dataframe tbody tr th {\n",
       "        vertical-align: top;\n",
       "    }\n",
       "\n",
       "    .dataframe thead th {\n",
       "        text-align: right;\n",
       "    }\n",
       "</style>\n",
       "<table border=\"1\" class=\"dataframe\">\n",
       "  <thead>\n",
       "    <tr style=\"text-align: right;\">\n",
       "      <th></th>\n",
       "      <th>index</th>\n",
       "      <th>OfferCoverageAmount</th>\n",
       "      <th>Offer_Stat_Desc</th>\n",
       "      <th>OfferPremiumAmount</th>\n",
       "      <th>OfferBillingMethod</th>\n",
       "      <th>Pmnt_Freq_Desc</th>\n",
       "      <th>Offered_NAP</th>\n",
       "      <th>Issued_NAP</th>\n",
       "      <th>CurrentBillMethod</th>\n",
       "      <th>ProductType</th>\n",
       "      <th>Age_at_AppReceived</th>\n",
       "      <th>PartnerMarker</th>\n",
       "      <th>cluster</th>\n",
       "    </tr>\n",
       "  </thead>\n",
       "  <tbody>\n",
       "    <tr>\n",
       "      <th>0</th>\n",
       "      <td>0</td>\n",
       "      <td>15000</td>\n",
       "      <td>17</td>\n",
       "      <td>13.75</td>\n",
       "      <td>1</td>\n",
       "      <td>1</td>\n",
       "      <td>165.0</td>\n",
       "      <td>682.68</td>\n",
       "      <td>1</td>\n",
       "      <td>1</td>\n",
       "      <td>53.0</td>\n",
       "      <td>4</td>\n",
       "      <td>0</td>\n",
       "    </tr>\n",
       "    <tr>\n",
       "      <th>1</th>\n",
       "      <td>1</td>\n",
       "      <td>10000</td>\n",
       "      <td>14</td>\n",
       "      <td>74.80</td>\n",
       "      <td>1</td>\n",
       "      <td>1</td>\n",
       "      <td>897.6</td>\n",
       "      <td>897.60</td>\n",
       "      <td>2</td>\n",
       "      <td>3</td>\n",
       "      <td>70.0</td>\n",
       "      <td>4</td>\n",
       "      <td>0</td>\n",
       "    </tr>\n",
       "  </tbody>\n",
       "</table>\n",
       "</div>"
      ],
      "text/plain": [
       "   index  OfferCoverageAmount  Offer_Stat_Desc  OfferPremiumAmount  \\\n",
       "0      0                15000               17               13.75   \n",
       "1      1                10000               14               74.80   \n",
       "\n",
       "   OfferBillingMethod  Pmnt_Freq_Desc  Offered_NAP  Issued_NAP  \\\n",
       "0                   1               1        165.0      682.68   \n",
       "1                   1               1        897.6      897.60   \n",
       "\n",
       "   CurrentBillMethod  ProductType  Age_at_AppReceived  PartnerMarker  cluster  \n",
       "0                  1            1                53.0              4        0  \n",
       "1                  2            3                70.0              4        0  "
      ]
     },
     "execution_count": 137,
     "metadata": {},
     "output_type": "execute_result"
    }
   ],
   "source": [
    "base_data_label_encoded.head(2)"
   ]
  },
  {
   "cell_type": "code",
   "execution_count": 141,
   "id": "098033c1-859d-4fcb-b0a9-bcf9c9a33dee",
   "metadata": {},
   "outputs": [],
   "source": [
    "wcss = []\n",
    "\n",
    "for i in range(2,10):\n",
    "    kmeans = KMeans(n_clusters=i, init='k-means++', random_state=10)\n",
    "    kmeans.fit(base_data_label_encoded)\n",
    "\n",
    "    wcss.append(kmeans.inertia_)"
   ]
  },
  {
   "cell_type": "code",
   "execution_count": 143,
   "id": "51e06310-563e-4a55-a13d-bf88ef7e12d4",
   "metadata": {},
   "outputs": [
    {
     "data": {
      "image/png": "[encoded data removed]",
      "text/plain": [
       "<Figure size 640x480 with 1 Axes>"
      ]
     },
     "metadata": {},
     "output_type": "display_data"
    }
   ],
   "source": [
    "# plot an elbow graph\n",
    "\n",
    "sns.set()\n",
    "plt.plot(range(2,10), wcss)\n",
    "plt.title('The Elbow Point Graph')\n",
    "plt.xlabel('Number of Clusters')\n",
    "plt.ylabel('WCSS')\n",
    "plt.show()"
   ]
  },
  {
   "cell_type": "code",
   "execution_count": 145,
   "id": "713abb58-3f8d-451a-a443-0d59ba758b62",
   "metadata": {},
   "outputs": [],
   "source": [
    "from sklearn.metrics import silhouette_score"
   ]
  },
  {
   "cell_type": "code",
   "execution_count": null,
   "id": "a6e9d271-48c3-48fd-b830-751dec8b3ec2",
   "metadata": {},
   "outputs": [],
   "source": [
    "silhouette_scores = []\n",
    "\n",
    "for i in range(2,8):\n",
    "    kmeans = KMeans(n_clusters=i, init='k-means++', random_state=10)\n",
    "    #kmeans.fit_predict(base_data_label_encoded)\n",
    "    silhouette_scores.append(silhouette_score(base_data_label_encoded, kmeans.fit_predict(base_data_label_encoded)))\n",
    "    #silhouette_scores.append(kmeans.inertia_)\n",
    "    print(\"one loop completed\")\n",
    "\n",
    "from sklearn.cluster import KMeans\n",
    "from sklearn.metrics import silhouette_score\n",
    "\n",
    "def calculate_silhouette_scores(data):\n",
    "    return [silhouette_score(data, KMeans(n_clusters=i, init='k-means++', random_state=10).fit_predict(data)) for i in range(2, 8)]\n"
   ]
  },
  {
   "cell_type": "code",
   "execution_count": null,
   "id": "deca41e5-c897-4d56-843a-017d6b019b75",
   "metadata": {},
   "outputs": [],
   "source": [
    "# Plotting a bar graph to compare the results\n",
    "plt.bar(range(2,11), silhouette_scores)\n",
    "plt.xlabel('Number of clusters', fontsize = 20)\n",
    "plt.ylabel('silhouette_score', fontsize = 20)\n",
    "plt.show()"
   ]
  }
 ],
 "metadata": {
  "kernelspec": {
   "display_name": "Python 3 (ipykernel)",
   "language": "python",
   "name": "python3"
  },
  "language_info": {
   "codemirror_mode": {
    "name": "ipython",
    "version": 3
   },
   "file_extension": ".py",
   "mimetype": "text/x-python",
   "name": "python",
   "nbconvert_exporter": "python",
   "pygments_lexer": "ipython3",
   "version": "3.12.7"
  }
 },
 "nbformat": 4,
 "nbformat_minor": 5
}
