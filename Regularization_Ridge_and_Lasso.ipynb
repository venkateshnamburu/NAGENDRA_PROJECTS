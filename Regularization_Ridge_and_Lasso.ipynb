{
 "cells": [
  {
   "cell_type": "code",
   "execution_count": null,
   "id": "35ea0815-f2a4-4abf-ae04-3add4c822b7e",
   "metadata": {},
   "outputs": [],
   "source": []
  },
  {
   "cell_type": "code",
   "execution_count": 197,
   "id": "18561f62-8230-4a0d-a52d-65ab72b36942",
   "metadata": {},
   "outputs": [],
   "source": [
    "# Importing necessary packages and functions required\n",
    "import numpy as np \n",
    "import pandas as pd\n",
    "from matplotlib import pyplot as plt\n",
    "%matplotlib inline\n",
    "import seaborn as sns \n",
    "import warnings \n",
    "warnings.filterwarnings('ignore')"
   ]
  },
  {
   "cell_type": "code",
   "execution_count": 198,
   "id": "fb07d2de-d27d-4865-b3f8-7f3d57a8176b",
   "metadata": {},
   "outputs": [
    {
     "data": {
      "text/html": [
       "<div>\n",
       "<style scoped>\n",
       "    .dataframe tbody tr th:only-of-type {\n",
       "        vertical-align: middle;\n",
       "    }\n",
       "\n",
       "    .dataframe tbody tr th {\n",
       "        vertical-align: top;\n",
       "    }\n",
       "\n",
       "    .dataframe thead th {\n",
       "        text-align: right;\n",
       "    }\n",
       "</style>\n",
       "<table border=\"1\" class=\"dataframe\">\n",
       "  <thead>\n",
       "    <tr style=\"text-align: right;\">\n",
       "      <th></th>\n",
       "      <th>0</th>\n",
       "      <th>1</th>\n",
       "      <th>2</th>\n",
       "      <th>3</th>\n",
       "      <th>4</th>\n",
       "      <th>5</th>\n",
       "      <th>6</th>\n",
       "      <th>7</th>\n",
       "      <th>8</th>\n",
       "      <th>9</th>\n",
       "      <th>...</th>\n",
       "      <th>118</th>\n",
       "      <th>119</th>\n",
       "      <th>120</th>\n",
       "      <th>121</th>\n",
       "      <th>122</th>\n",
       "      <th>123</th>\n",
       "      <th>124</th>\n",
       "      <th>125</th>\n",
       "      <th>126</th>\n",
       "      <th>127</th>\n",
       "    </tr>\n",
       "  </thead>\n",
       "  <tbody>\n",
       "    <tr>\n",
       "      <th>0</th>\n",
       "      <td>8</td>\n",
       "      <td>NaN</td>\n",
       "      <td>NaN</td>\n",
       "      <td>Lakewoodcity</td>\n",
       "      <td>1</td>\n",
       "      <td>0.19</td>\n",
       "      <td>0.33</td>\n",
       "      <td>0.02</td>\n",
       "      <td>0.90</td>\n",
       "      <td>0.12</td>\n",
       "      <td>...</td>\n",
       "      <td>0.12</td>\n",
       "      <td>0.26</td>\n",
       "      <td>0.20</td>\n",
       "      <td>0.06</td>\n",
       "      <td>0.04</td>\n",
       "      <td>0.9</td>\n",
       "      <td>0.5</td>\n",
       "      <td>0.32</td>\n",
       "      <td>0.14</td>\n",
       "      <td>0.20</td>\n",
       "    </tr>\n",
       "    <tr>\n",
       "      <th>1</th>\n",
       "      <td>53</td>\n",
       "      <td>NaN</td>\n",
       "      <td>NaN</td>\n",
       "      <td>Tukwilacity</td>\n",
       "      <td>1</td>\n",
       "      <td>0.00</td>\n",
       "      <td>0.16</td>\n",
       "      <td>0.12</td>\n",
       "      <td>0.74</td>\n",
       "      <td>0.45</td>\n",
       "      <td>...</td>\n",
       "      <td>0.02</td>\n",
       "      <td>0.12</td>\n",
       "      <td>0.45</td>\n",
       "      <td>NaN</td>\n",
       "      <td>NaN</td>\n",
       "      <td>NaN</td>\n",
       "      <td>NaN</td>\n",
       "      <td>0.00</td>\n",
       "      <td>NaN</td>\n",
       "      <td>0.67</td>\n",
       "    </tr>\n",
       "    <tr>\n",
       "      <th>2</th>\n",
       "      <td>24</td>\n",
       "      <td>NaN</td>\n",
       "      <td>NaN</td>\n",
       "      <td>Aberdeentown</td>\n",
       "      <td>1</td>\n",
       "      <td>0.00</td>\n",
       "      <td>0.42</td>\n",
       "      <td>0.49</td>\n",
       "      <td>0.56</td>\n",
       "      <td>0.17</td>\n",
       "      <td>...</td>\n",
       "      <td>0.01</td>\n",
       "      <td>0.21</td>\n",
       "      <td>0.02</td>\n",
       "      <td>NaN</td>\n",
       "      <td>NaN</td>\n",
       "      <td>NaN</td>\n",
       "      <td>NaN</td>\n",
       "      <td>0.00</td>\n",
       "      <td>NaN</td>\n",
       "      <td>0.43</td>\n",
       "    </tr>\n",
       "    <tr>\n",
       "      <th>3</th>\n",
       "      <td>34</td>\n",
       "      <td>5.0</td>\n",
       "      <td>81440.0</td>\n",
       "      <td>Willingborotownship</td>\n",
       "      <td>1</td>\n",
       "      <td>0.04</td>\n",
       "      <td>0.77</td>\n",
       "      <td>1.00</td>\n",
       "      <td>0.08</td>\n",
       "      <td>0.12</td>\n",
       "      <td>...</td>\n",
       "      <td>0.02</td>\n",
       "      <td>0.39</td>\n",
       "      <td>0.28</td>\n",
       "      <td>NaN</td>\n",
       "      <td>NaN</td>\n",
       "      <td>NaN</td>\n",
       "      <td>NaN</td>\n",
       "      <td>0.00</td>\n",
       "      <td>NaN</td>\n",
       "      <td>0.12</td>\n",
       "    </tr>\n",
       "    <tr>\n",
       "      <th>4</th>\n",
       "      <td>42</td>\n",
       "      <td>95.0</td>\n",
       "      <td>6096.0</td>\n",
       "      <td>Bethlehemtownship</td>\n",
       "      <td>1</td>\n",
       "      <td>0.01</td>\n",
       "      <td>0.55</td>\n",
       "      <td>0.02</td>\n",
       "      <td>0.95</td>\n",
       "      <td>0.09</td>\n",
       "      <td>...</td>\n",
       "      <td>0.04</td>\n",
       "      <td>0.09</td>\n",
       "      <td>0.02</td>\n",
       "      <td>NaN</td>\n",
       "      <td>NaN</td>\n",
       "      <td>NaN</td>\n",
       "      <td>NaN</td>\n",
       "      <td>0.00</td>\n",
       "      <td>NaN</td>\n",
       "      <td>0.03</td>\n",
       "    </tr>\n",
       "  </tbody>\n",
       "</table>\n",
       "<p>5 rows × 128 columns</p>\n",
       "</div>"
      ],
      "text/plain": [
       "   0     1        2                    3    4     5     6     7     8     9    \\\n",
       "0    8   NaN      NaN         Lakewoodcity    1  0.19  0.33  0.02  0.90  0.12   \n",
       "1   53   NaN      NaN          Tukwilacity    1  0.00  0.16  0.12  0.74  0.45   \n",
       "2   24   NaN      NaN         Aberdeentown    1  0.00  0.42  0.49  0.56  0.17   \n",
       "3   34   5.0  81440.0  Willingborotownship    1  0.04  0.77  1.00  0.08  0.12   \n",
       "4   42  95.0   6096.0    Bethlehemtownship    1  0.01  0.55  0.02  0.95  0.09   \n",
       "\n",
       "   ...   118   119   120   121   122  123  124   125   126   127  \n",
       "0  ...  0.12  0.26  0.20  0.06  0.04  0.9  0.5  0.32  0.14  0.20  \n",
       "1  ...  0.02  0.12  0.45   NaN   NaN  NaN  NaN  0.00   NaN  0.67  \n",
       "2  ...  0.01  0.21  0.02   NaN   NaN  NaN  NaN  0.00   NaN  0.43  \n",
       "3  ...  0.02  0.39  0.28   NaN   NaN  NaN  NaN  0.00   NaN  0.12  \n",
       "4  ...  0.04  0.09  0.02   NaN   NaN  NaN  NaN  0.00   NaN  0.03  \n",
       "\n",
       "[5 rows x 128 columns]"
      ]
     },
     "execution_count": 198,
     "metadata": {},
     "output_type": "execute_result"
    }
   ],
   "source": [
    "# Reading the dataset\n",
    "url = 'http://archive.ics.uci.edu/ml/machine-learning-databases/communities/communities.data'\n",
    "df = pd.read_csv(url, header=None, na_values=['?'])\n",
    "df.head()"
   ]
  },
  {
   "cell_type": "code",
   "execution_count": 199,
   "id": "2ff8602b-366b-40e2-8428-1b550ef035e1",
   "metadata": {},
   "outputs": [
    {
     "data": {
      "text/plain": [
       "count    1994.000000\n",
       "mean        0.237979\n",
       "std         0.232985\n",
       "min         0.000000\n",
       "25%         0.070000\n",
       "50%         0.150000\n",
       "75%         0.330000\n",
       "max         1.000000\n",
       "Name: 127, dtype: float64"
      ]
     },
     "execution_count": 199,
     "metadata": {},
     "output_type": "execute_result"
    }
   ],
   "source": [
    "df[127].describe()"
   ]
  },
  {
   "cell_type": "code",
   "execution_count": 200,
   "id": "5ba41a21-4d7c-49c2-a52b-6e8db3045455",
   "metadata": {},
   "outputs": [
    {
     "data": {
      "image/png": "[encoded data removed]",
      "text/plain": [
       "<Figure size 2000x600 with 1 Axes>"
      ]
     },
     "metadata": {},
     "output_type": "display_data"
    }
   ],
   "source": [
    "# Ensure 'crime' is a valid DataFrame\n",
    "plt.figure(figsize=(20, 6))\n",
    "sns.heatmap(df.isnull(), yticklabels=False, cbar=False, cmap='viridis')\n",
    "plt.title(\"Heatmap of Missing Values\")  # Optional: Add a title for better readability\n",
    "plt.show()\n"
   ]
  },
  {
   "cell_type": "code",
   "execution_count": 201,
   "id": "40bda977-b620-49d2-b744-032a5d6fccd9",
   "metadata": {},
   "outputs": [
    {
     "data": {
      "image/png": "[encoded data removed]",
      "text/plain": [
       "<Figure size 2000x600 with 1 Axes>"
      ]
     },
     "metadata": {},
     "output_type": "display_data"
    }
   ],
   "source": [
    "# Drop columns by index\n",
    "df.drop(df.columns[[0, 1, 2, 3, 4]], axis=1, inplace=True)\n",
    "\n",
    "# Remove rows with missing values\n",
    "df.dropna(inplace=True)\n",
    "\n",
    "# Plot missing values heatmap\n",
    "plt.figure(figsize=(20, 6))\n",
    "sns.heatmap(df.isnull(), yticklabels=False, cbar=False, cmap='viridis')\n",
    "plt.title(\"Heatmap of Missing Values\")  # Add a title for clarity\n",
    "plt.show()"
   ]
  },
  {
   "cell_type": "code",
   "execution_count": 202,
   "id": "08647b59-7349-492a-89aa-bafb5fd4d58a",
   "metadata": {},
   "outputs": [],
   "source": [
    "# defining X and y\n",
    "X = df.drop(127, axis=1)\n",
    "y = df[127]"
   ]
  },
  {
   "cell_type": "code",
   "execution_count": 203,
   "id": "a43efc45-c7db-45f5-819a-e054e8bd7d0c",
   "metadata": {},
   "outputs": [],
   "source": [
    "# split into training and testing sets\n",
    "from sklearn.model_selection import train_test_split\n",
    "X_train, X_test, y_train, y_test = train_test_split(X, y,test_size = 0.3, random_state=1)"
   ]
  },
  {
   "cell_type": "code",
   "execution_count": 204,
   "id": "0b35f36d-f705-426c-92e7-806215e53350",
   "metadata": {},
   "outputs": [
    {
     "name": "stdout",
     "output_type": "stream",
     "text": [
      "Intercept: 0.44829596412555944\n",
      "Coefficients: [-1.00010644e+00  1.05806217e-01 -8.93598546e-02 -7.62922007e-02\n",
      " -4.67278813e-02  7.21644956e-02 -1.83832066e-01 -5.86841031e-02\n",
      "  1.62317226e-01 -8.18951228e-02  1.16400963e+00 -1.10799149e-02\n",
      "  1.64887559e-01  2.13099697e-02 -3.19897880e-02 -1.78752800e-01\n",
      "  7.97589578e-02  1.72602748e-01 -1.15162564e-02  1.37209267e-01\n",
      " -3.45234382e-02 -5.61789154e-02 -4.82049801e-02  1.23104034e-02\n",
      " -2.62358557e-02  2.38214542e-02 -2.10760916e-02 -2.68196469e-01\n",
      "  2.97805357e-01  3.60745541e-02 -2.05351263e-01 -1.99984703e-03\n",
      "  2.36540142e-02  2.20414028e-02 -2.96158518e-02 -5.74264626e-03\n",
      "  3.44522340e-02  6.86617773e-02  3.67753511e-01 -9.06731322e-02\n",
      "  3.81212250e-01 -8.39741140e-01  1.41510133e-01 -2.35504665e-01\n",
      " -2.40887100e-01  2.49037547e-01  4.68771279e-02 -8.64592720e-02\n",
      "  9.10037863e-02  1.96515606e-02  2.97272799e-02 -5.09265426e-02\n",
      "  7.96073082e-02 -1.29133501e-01 -4.99539218e-02  1.00800544e-01\n",
      " -1.61402600e-01  1.81670303e-01  8.16937907e-01 -1.12003566e+00\n",
      "  1.66586690e-01  6.18347455e-02  2.26036682e-01 -3.92275500e-01\n",
      " -2.95163082e-01  1.53466657e-01 -8.14663017e-02 -2.90423803e-01\n",
      "  1.92175900e-01  7.43581205e-02  1.15486689e-02  4.69536964e-02\n",
      "  2.97115049e-02  3.92304957e-01 -1.70276132e-02  1.38057641e-02\n",
      " -3.04428365e-02 -2.72104796e-03 -1.83574744e-02 -1.15380931e-01\n",
      " -9.63353340e-02  5.33104718e-02 -1.52137529e-01 -1.32005024e-02\n",
      " -1.13096742e-03  2.34114701e-01 -9.44328465e-02 -6.59308781e-03\n",
      " -4.54632071e-02 -1.20677694e-02  6.02435325e-02  3.43532539e-01\n",
      " -7.86057459e-02 -6.97331479e-03  2.13975678e-03  5.77224558e-02\n",
      " -9.64042075e-02 -8.01089533e+00 -3.84894965e-02 -1.86727121e-02\n",
      " -2.03809327e-02  3.18709075e-02  1.82561782e-02  8.09702923e+00\n",
      " -1.03004165e-02 -7.17000555e-03  4.81477368e-02  4.86402654e-02\n",
      "  4.22794597e-02 -1.23808605e-01 -3.11926574e-02  7.32458458e-04\n",
      "  7.15056589e-03  1.86399973e-02  3.14015641e-03 -5.54968214e-02\n",
      "  4.23114161e-02  8.19303670e-02  8.67780830e-04  4.91372153e-03\n",
      " -1.28440450e-02 -8.58506637e-02]\n"
     ]
    }
   ],
   "source": [
    "from sklearn.linear_model import LinearRegression\n",
    "from sklearn.preprocessing import StandardScaler\n",
    "\n",
    "# Standardization the training data\n",
    "scaler = StandardScaler()\n",
    "X_train_scaled = scaler.fit_transform(X_train)\n",
    "\n",
    "# Build and train the linear regression model\n",
    "linreg = LinearRegression()\n",
    "linreg.fit(X_train_scaled, y_train)\n",
    "\n",
    "# Print the intercept and coefficients\n",
    "print(\"Intercept:\", linreg.intercept_)\n",
    "print(\"Coefficients:\", linreg.coef_)\n"
   ]
  },
  {
   "cell_type": "code",
   "execution_count": 247,
   "id": "dac344fe-bea8-4ce6-b8f7-eaac221f5dad",
   "metadata": {},
   "outputs": [
    {
     "name": "stdout",
     "output_type": "stream",
     "text": [
      "R-Square Value 0.2128877943719596\n",
      "mean_absolute_error : 0.17919286380593577\n",
      "mean_squared_error :  0.04887959110307497\n",
      "root_mean_squared_error :  0.22108729294800045\n"
     ]
    }
   ],
   "source": [
    "y_pred = linreg.predict(X_test)\n",
    "\n",
    "# calculate R^2 value, MAE, MSE, RMSE\n",
    "\n",
    "from sklearn.metrics import r2_score\n",
    "from sklearn import metrics\n",
    "print(\"R-Square Value\",r2_score(y_test,y_pred))\n",
    "print (\"mean_absolute_error :\",metrics.mean_absolute_error(y_test, y_pred))\n",
    "print (\"mean_squared_error : \",metrics.mean_squared_error(y_test, y_pred))\n",
    "print (\"root_mean_squared_error : \",np.sqrt(metrics.mean_squared_error(y_test, y_pred)))"
   ]
  },
  {
   "cell_type": "markdown",
   "id": "38127885-f7c2-44df-b41e-72b60706ca1d",
   "metadata": {},
   "source": [
    "## Ridge regression\n",
    "\n",
    "### alpha: must be positive, increase for more regularization\n",
    "### normalize: scales the features\n"
   ]
  },
  {
   "cell_type": "code",
   "execution_count": 263,
   "id": "18daa85c-6661-45a4-89b0-6860e27cb196",
   "metadata": {},
   "outputs": [
    {
     "name": "stdout",
     "output_type": "stream",
     "text": [
      "R-Square Value: 0.19704456296241124\n",
      "Mean Absolute Error (MAE): 0.16725155824738916\n",
      "Mean Squared Error (MSE): 0.04986345422641736\n",
      "Root Mean Squared Error (RMSE): 0.22330126337846223\n"
     ]
    }
   ],
   "source": [
    "from sklearn.linear_model import Ridge\n",
    "from sklearn.metrics import r2_score, mean_absolute_error, mean_squared_error\n",
    "import numpy as np\n",
    "\n",
    "# Ridge regression with alpha=0 (equivalent to linear regression)\n",
    "ridgereg = Ridge(alpha=0)\n",
    "ridgereg.fit(X_train_scaled, y_train)\n",
    "\n",
    "# Predictions\n",
    "y_pred = ridgereg.predict(X_test_scaled)\n",
    "\n",
    "# Metrics\n",
    "print(\"R-Square Value:\", r2_score(y_test, y_pred))\n",
    "print(\"Mean Absolute Error (MAE):\", mean_absolute_error(y_test, y_pred))\n",
    "print(\"Mean Squared Error (MSE):\", mean_squared_error(y_test, y_pred))\n",
    "print(\"Root Mean Squared Error (RMSE):\", np.sqrt(mean_squared_error(y_test, y_pred)))\n"
   ]
  },
  {
   "cell_type": "code",
   "execution_count": 265,
   "id": "875c8d4c-e0e3-48ec-8d55-ad6595afda34",
   "metadata": {},
   "outputs": [
    {
     "name": "stdout",
     "output_type": "stream",
     "text": [
      "R-Square Value: 0.3664694687430935\n",
      "Mean Absolute Error (MAE): 0.14533707026799375\n",
      "Mean Squared Error (MSE): 0.039342184122837943\n",
      "Root Mean Squared Error (RMSE): 0.1983486428560527\n"
     ]
    }
   ],
   "source": [
    "# Ridge regression with alpha=0.1\n",
    "ridgereg = Ridge(alpha=0.1)\n",
    "ridgereg.fit(X_train_scaled, y_train)\n",
    "\n",
    "# Predictions\n",
    "y_pred = ridgereg.predict(X_test_scaled)\n",
    "\n",
    "# Metrics\n",
    "print(\"R-Square Value:\", r2_score(y_test, y_pred))\n",
    "print(\"Mean Absolute Error (MAE):\", mean_absolute_error(y_test, y_pred))\n",
    "print(\"Mean Squared Error (MSE):\", mean_squared_error(y_test, y_pred))\n",
    "print(\"Root Mean Squared Error (RMSE):\", np.sqrt(mean_squared_error(y_test, y_pred)))\n"
   ]
  },
  {
   "cell_type": "code",
   "execution_count": 209,
   "id": "5d6970f9-06fc-4510-9118-b50935ea74d9",
   "metadata": {},
   "outputs": [
    {
     "name": "stdout",
     "output_type": "stream",
     "text": [
      "[-0.10916452  0.08785078 -0.08329798 -0.03665645 -0.03808354  0.05063364\n",
      " -0.13859605 -0.07267932  0.13874334 -0.03149568  0.23767084 -0.00461068\n",
      "  0.12526827 -0.00123804 -0.0212966  -0.17062029  0.02796928  0.13727881\n",
      "  0.0207292   0.12995294 -0.09254854  0.00202947 -0.04073595  0.01248594\n",
      " -0.0210065   0.02511689 -0.02186726 -0.26168024  0.25216245  0.00925239\n",
      " -0.16428715  0.02434362  0.04469311  0.05481651 -0.0345352  -0.00079735\n",
      "  0.05703164  0.03909694  0.14714154 -0.05949492  0.06256558 -0.31401184\n",
      "  0.15151636 -0.18138148 -0.21363822  0.19477597  0.01748839 -0.07745675\n",
      "  0.08774536  0.03418459  0.03983404 -0.04835797  0.0546479  -0.12448612\n",
      "  0.04706694  0.02285602 -0.06468708  0.15699952  0.18063053 -0.40852121\n",
      "  0.09260118  0.05130317  0.06179602 -0.19520933 -0.15238137  0.05436945\n",
      " -0.10943682 -0.13962426  0.1033321   0.08923952  0.01494583  0.05428371\n",
      "  0.0295699   0.20792388 -0.01413142  0.01946773 -0.00061305  0.00941878\n",
      " -0.03652397 -0.0480936  -0.089128    0.04320848 -0.15269718  0.01435591\n",
      " -0.03539053  0.23019682 -0.07707648 -0.01720715 -0.03453719  0.00244039\n",
      "  0.05044365  0.18589818 -0.09386511 -0.02953839  0.00959925  0.07614231\n",
      " -0.11549795 -0.0028236  -0.0482177  -0.0792384  -0.01370935  0.04334031\n",
      "  0.00366632  0.11840224 -0.02660561  0.0020869   0.02604249  0.03788259\n",
      "  0.03976558 -0.0619653  -0.02172622  0.00555615  0.00177567  0.01446565\n",
      "  0.00599736 -0.05199673  0.05334954  0.0898709   0.00338864  0.00754926\n",
      " -0.01447386 -0.07324664]\n"
     ]
    }
   ],
   "source": [
    "# examing the coefficients\n",
    "print(ridgereg.coef_)"
   ]
  },
  {
   "cell_type": "markdown",
   "id": "0c28fe8d-bbca-4a63-af2e-e0be3e58e05c",
   "metadata": {},
   "source": [
    "### RidgeCV: ridge regression with built-in cross-validation of the alpha parameter\n",
    "### alphas: array of alpha values to try\n",
    "\n"
   ]
  },
  {
   "cell_type": "code",
   "execution_count": 326,
   "id": "b7a74bc4-a5db-483d-bcc3-04201946a9b0",
   "metadata": {},
   "outputs": [
    {
     "name": "stdout",
     "output_type": "stream",
     "text": [
      "Best Alpha: 100.0\n"
     ]
    }
   ],
   "source": [
    "from sklearn.linear_model import RidgeCV\n",
    "import numpy as np\n",
    "\n",
    "# Create an array of alpha values\n",
    "alpha_range = 10.**np.arange(-2, 3)\n",
    "\n",
    "# Select the best alpha with RidgeCV\n",
    "ridgeregcv = RidgeCV(alphas=alpha_range, scoring='neg_mean_squared_error')\n",
    "ridgeregcv.fit(X_train_scaled, y_train)\n",
    "\n",
    "# Output the best alpha\n",
    "print(\"Best Alpha:\", ridgeregcv.alpha_)\n"
   ]
  },
  {
   "cell_type": "code",
   "execution_count": 328,
   "id": "245d0e21-f28d-41c6-a119-b9e4499b95ff",
   "metadata": {},
   "outputs": [
    {
     "name": "stdout",
     "output_type": "stream",
     "text": [
      "R-Square Value: 0.5316842176635033\n",
      "MAE: 0.1313726961794042\n",
      "MSE: 0.02908236434913333\n",
      "RMSE: 0.17053552225015564\n"
     ]
    }
   ],
   "source": [
    "# Predict with the best alpha\n",
    "y_pred = ridgeregcv.predict(X_test_scaled)\n",
    "\n",
    "# Calculate and print metrics\n",
    "print(\"R-Square Value:\", r2_score(y_test, y_pred))\n",
    "print(\"MAE:\", mean_absolute_error(y_test, y_pred))\n",
    "print(\"MSE:\", mean_squared_error(y_test, y_pred))\n",
    "print(\"RMSE:\", np.sqrt(mean_squared_error(y_test, y_pred)))\n"
   ]
  },
  {
   "cell_type": "markdown",
   "id": "58b4022c-08b2-46cf-b485-2f7c28fdb1c6",
   "metadata": {},
   "source": [
    "## Lasso regression\n",
    "\n",
    "### alpha: must be positive, increase for more regularization\n",
    "### normalize: scales the features (without using StandardScaler)"
   ]
  },
  {
   "cell_type": "code",
   "execution_count": 361,
   "id": "ad416ff6-0219-48aa-bbfc-902f2b3d7bae",
   "metadata": {},
   "outputs": [
    {
     "name": "stdout",
     "output_type": "stream",
     "text": [
      "[ 0.          0.         -0.         -0.         -0.          0.0323614\n",
      " -0.0024185  -0.00159518 -0.          0.01258359  0.00204342 -0.00376797\n",
      "  0.         -0.00402334 -0.01789339 -0.11493484  0.          0.04944034\n",
      " -0.01002675  0.04386481 -0.         -0.         -0.01464064 -0.00791933\n",
      " -0.00155375  0.01795896  0.         -0.08148973  0.06121239 -0.00464941\n",
      " -0.08095269 -0.          0.03471424 -0.         -0.03480981  0.00153924\n",
      "  0.03304836  0.          0.00293979  0.         -0.02950924 -0.\n",
      "  0.02202487 -0.03236419 -0.04426933  0.         -0.         -0.02583622\n",
      "  0.03975783 -0.          0.06198246 -0.01263587  0.         -0.03035216\n",
      "  0.02613617  0.          0.          0.          0.         -0.\n",
      " -0.          0.01895321  0.         -0.          0.          0.\n",
      " -0.04946065  0.          0.          0.05588785  0.01191594  0.03057659\n",
      "  0.02059612  0.03459026 -0.00209101  0.00697198 -0.          0.00232069\n",
      " -0.01634843 -0.01046993 -0.         -0.         -0.08373123  0.\n",
      "  0.          0.10619232 -0.02954015 -0.01470763 -0.02183805  0.02081818\n",
      "  0.04090002  0.         -0.03404266 -0.         -0.00383399  0.02145994\n",
      " -0.          0.          0.         -0.          0.          0.00756622\n",
      "  0.01754084  0.         -0.03407017  0.         -0.00664417  0.00068362\n",
      "  0.0284013  -0.         -0.00504967  0.00885959 -0.          0.01126284\n",
      " -0.01372788 -0.01863838  0.03866762  0.         -0.00039228  0.01660951\n",
      " -0.02189804 -0.00279034]\n"
     ]
    }
   ],
   "source": [
    "from sklearn.linear_model import Lasso\n",
    "\n",
    "# Fit Lasso regression with alpha=0.001\n",
    "lassoreg = Lasso(alpha=0.001)\n",
    "lassoreg.fit(X_train_scaled, y_train)\n",
    "\n",
    "# Print coefficients\n",
    "print(lassoreg.coef_)"
   ]
  },
  {
   "cell_type": "code",
   "execution_count": 363,
   "id": "4aeb1c29-9e67-493b-bfe3-942c5f0e59ed",
   "metadata": {},
   "outputs": [
    {
     "name": "stdout",
     "output_type": "stream",
     "text": [
      "[-0.          0.          0.00347337 -0.04929377  0.          0.\n",
      "  0.         -0.         -0.          0.         -0.          0.\n",
      " -0.         -0.         -0.00301213 -0.03342784  0.          0.\n",
      " -0.         -0.         -0.          0.         -0.         -0.00808078\n",
      "  0.          0.          0.         -0.          0.00372806 -0.\n",
      " -0.         -0.          0.01508376 -0.0039117  -0.0150052   0.\n",
      "  0.         -0.          0.01566387  0.          0.          0.\n",
      "  0.         -0.02585759 -0.06493706 -0.         -0.         -0.\n",
      " -0.         -0.          0.00586865 -0.         -0.         -0.\n",
      "  0.          0.          0.          0.          0.          0.\n",
      " -0.          0.          0.          0.          0.          0.\n",
      " -0.          0.          0.          0.00977382 -0.          0.\n",
      " -0.          0.          0.          0.          0.          0.\n",
      "  0.         -0.         -0.         -0.         -0.00292779 -0.\n",
      " -0.         -0.          0.         -0.         -0.00548112  0.\n",
      "  0.03493022  0.         -0.          0.          0.         -0.\n",
      "  0.          0.         -0.          0.          0.          0.\n",
      "  0.00988234  0.         -0.01400392 -0.          0.          0.\n",
      "  0.00983016  0.          0.          0.00055663 -0.          0.\n",
      " -0.         -0.          0.01357593  0.         -0.          0.01383149\n",
      " -0.00800415  0.        ]\n"
     ]
    }
   ],
   "source": [
    "# Fit Lasso regression with alpha=0.01\n",
    "lassoreg = Lasso(alpha=0.01)\n",
    "lassoreg.fit(X_train_scaled, y_train)\n",
    "\n",
    "# Print coefficients\n",
    "print(lassoreg.coef_)"
   ]
  },
  {
   "cell_type": "code",
   "execution_count": 365,
   "id": "1ca353bf-1446-4205-8ccd-924d76766e60",
   "metadata": {},
   "outputs": [
    {
     "name": "stdout",
     "output_type": "stream",
     "text": [
      "R-Square Value: 0.5432128956300385\n",
      "Mean Absolute Error (MAE): 0.13270785267734278\n",
      "Mean Squared Error (MSE): 0.028366434573258947\n",
      "Root Mean Squared Error (RMSE): 0.16842337893908596\n"
     ]
    }
   ],
   "source": [
    "# Predict with Lasso model\n",
    "y_pred = lassoreg.predict(X_test_scaled)\n",
    "\n",
    "# Calculate and print the metrics\n",
    "print(\"R-Square Value:\", r2_score(y_test, y_pred))\n",
    "print(\"Mean Absolute Error (MAE):\", mean_absolute_error(y_test, y_pred))\n",
    "print(\"Mean Squared Error (MSE):\", mean_squared_error(y_test, y_pred))\n",
    "print(\"Root Mean Squared Error (RMSE):\", np.sqrt(mean_squared_error(y_test, y_pred)))"
   ]
  },
  {
   "cell_type": "markdown",
   "id": "73b2735a-2fbb-4dbb-aac3-44d73f4d3802",
   "metadata": {},
   "source": [
    "## alpha with LassoCV"
   ]
  },
  {
   "cell_type": "code",
   "execution_count": 370,
   "id": "ae67a662-2f42-4e3b-be8e-173b08f16761",
   "metadata": {},
   "outputs": [
    {
     "name": "stdout",
     "output_type": "stream",
     "text": [
      "Best Alpha: 0.02044475431464079\n"
     ]
    }
   ],
   "source": [
    "# Select the best alpha with LassoCV\n",
    "lassoregcv = LassoCV(n_alphas=100, random_state=1)\n",
    "lassoregcv.fit(X_train_scaled, y_train)\n",
    "\n",
    "# Print the best alpha\n",
    "print('Best Alpha:', lassoregcv.alpha_)"
   ]
  },
  {
   "cell_type": "code",
   "execution_count": 372,
   "id": "48b7aa2a-fb6f-41fd-96c4-60dba3ac1417",
   "metadata": {},
   "outputs": [
    {
     "name": "stdout",
     "output_type": "stream",
     "text": [
      "[ 0.          0.          0.         -0.06956475  0.          0.\n",
      "  0.         -0.          0.          0.          0.          0.\n",
      " -0.         -0.         -0.         -0.02213076  0.          0.\n",
      " -0.         -0.         -0.         -0.         -0.         -0.\n",
      " -0.          0.         -0.          0.          0.02429616  0.\n",
      "  0.         -0.          0.         -0.         -0.          0.\n",
      "  0.         -0.          0.01750947  0.          0.          0.00253841\n",
      "  0.         -0.02933285 -0.05853688 -0.         -0.         -0.\n",
      " -0.          0.          0.          0.          0.          0.\n",
      "  0.          0.          0.          0.          0.          0.\n",
      " -0.          0.          0.          0.          0.          0.\n",
      "  0.         -0.          0.          0.00114585 -0.          0.\n",
      " -0.         -0.          0.          0.          0.          0.\n",
      "  0.         -0.         -0.         -0.         -0.         -0.\n",
      " -0.         -0.          0.         -0.         -0.          0.\n",
      "  0.03726889  0.         -0.         -0.         -0.         -0.\n",
      "  0.          0.         -0.          0.          0.          0.\n",
      "  0.00428833  0.         -0.         -0.          0.          0.\n",
      "  0.          0.          0.          0.         -0.          0.\n",
      " -0.          0.          0.0086205   0.         -0.          0.00391769\n",
      " -0.          0.        ]\n"
     ]
    }
   ],
   "source": [
    "# examine the coefficients\n",
    "print(lassoregcv.coef_)"
   ]
  },
  {
   "cell_type": "code",
   "execution_count": 374,
   "id": "6cf8ab65-d76f-42a3-bc26-00d1c058de42",
   "metadata": {},
   "outputs": [
    {
     "name": "stdout",
     "output_type": "stream",
     "text": [
      "R-Square Value: 0.5498020508038363\n",
      "Mean Absolute Error (MAE): 0.1336549645444036\n",
      "Mean Squared Error (MSE): 0.02795724868043829\n",
      "Root Mean Squared Error (RMSE): 0.16720421250805342\n"
     ]
    }
   ],
   "source": [
    "# Predict using the best alpha from LassoCV\n",
    "y_pred = lassoregcv.predict(X_test_scaled)\n",
    "\n",
    "# Calculate and print metrics\n",
    "print(\"R-Square Value:\", r2_score(y_test, y_pred))\n",
    "print(\"Mean Absolute Error (MAE):\", mean_absolute_error(y_test, y_pred))\n",
    "print(\"Mean Squared Error (MSE):\", mean_squared_error(y_test, y_pred))\n",
    "print(\"Root Mean Squared Error (RMSE):\", np.sqrt(mean_squared_error(y_test, y_pred)))"
   ]
  },
  {
   "cell_type": "markdown",
   "id": "1fc71f3d-df67-461f-820e-952d6d0cb52e",
   "metadata": {},
   "source": [
    "## Conclusion\n",
    "\n",
    "### We learned two different types of regression techniques, namely Lasso and Ridge Regression which can be proved effective for overfitting. These techniques make a good fit model by adding a penalty and shrinking the beta coefficients. It is necessary to have a correct balance of the Bias and Variance to control overfitting."
   ]
  },
  {
   "cell_type": "code",
   "execution_count": null,
   "id": "80b07c20-b628-4bab-9923-25b62af3b306",
   "metadata": {},
   "outputs": [],
   "source": []
  }
 ],
 "metadata": {
  "kernelspec": {
   "display_name": "Python 3 (ipykernel)",
   "language": "python",
   "name": "python3"
  },
  "language_info": {
   "codemirror_mode": {
    "name": "ipython",
    "version": 3
   },
   "file_extension": ".py",
   "mimetype": "text/x-python",
   "name": "python",
   "nbconvert_exporter": "python",
   "pygments_lexer": "ipython3",
   "version": "3.12.7"
  }
 },
 "nbformat": 4,
 "nbformat_minor": 5
}
