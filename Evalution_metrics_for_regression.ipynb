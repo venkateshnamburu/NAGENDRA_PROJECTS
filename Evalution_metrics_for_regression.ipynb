{
 "cells": [
  {
   "cell_type": "code",
   "execution_count": 3,
   "id": "0b5c0a4e-047f-4e82-95c0-c5ceb0417bb5",
   "metadata": {},
   "outputs": [
    {
     "data": {
      "image/png": "[encoded data removed]",
      "text/plain": [
       "<Figure size 640x480 with 1 Axes>"
      ]
     },
     "metadata": {},
     "output_type": "display_data"
    }
   ],
   "source": [
    "import pandas as pd\n",
    "import numpy as np\n",
    "import matplotlib.pyplot as plt\n",
    "import seaborn as sns\n",
    "from sklearn.model_selection import train_test_split\n",
    "from sklearn.linear_model import LinearRegression\n",
    "\n",
    "# read the dataset\n",
    "df = pd.read_csv('D:\\\\5.1_Machine_Learning_Code\\\\Regression\\\\Advertising.csv')\n",
    "\n",
    "# dropping\n",
    "df.drop(['Radio','Newspaper'],axis=1,inplace=True)\n",
    "\n",
    "# Feature Selection and Target\n",
    "X = df[['TV']]\n",
    "y = df['Sales']\n",
    "\n",
    "# Splitting the data into train and test\n",
    "X_train, X_test, y_train, y_test = train_test_split(X, y, test_size = 0.3, random_state = 42)\n",
    "\n",
    "# Algorithm Applying\n",
    "slr = LinearRegression()  \n",
    "slr.fit(X_train, y_train)\n",
    "\n",
    "# predicitons on X_test\n",
    "y_pred = slr.predict(X_test)\n",
    "\n",
    "# Creating the dataset from actual and predicted values\n",
    "slr_diff = pd.DataFrame({'Actual value': y_test, 'Predicted value': y_pred})\n",
    "\n",
    "# Plotting the graph\n",
    "plt.scatter(X_test,y_test)\n",
    "plt.plot(X_test,y_pred, 'Red')\n",
    "plt.show()"
   ]
  },
  {
   "cell_type": "markdown",
   "id": "750f7273-c3c0-4f90-ab3c-68eedac48c0d",
   "metadata": {},
   "source": [
    "## Mean Absolute Error(MAE)\n",
    "## Definition:\n",
    "\n",
    "### MAE is a very simple metric which calculates the absolute difference between actual and predicted values."
   ]
  },
  {
   "cell_type": "code",
   "execution_count": 7,
   "id": "76c19526-c0d1-4833-a682-6ff7aae11e9c",
   "metadata": {},
   "outputs": [
    {
     "name": "stdout",
     "output_type": "stream",
     "text": [
      "Mean Absolute Error: 2.28\n"
     ]
    }
   ],
   "source": [
    "from sklearn.metrics import mean_absolute_error\n",
    "print(\"Mean Absolute Error:\",round(mean_absolute_error(y_test,y_pred),2))"
   ]
  },
  {
   "cell_type": "markdown",
   "id": "5cf711b6-8365-4c0c-b418-b3d20e337565",
   "metadata": {},
   "source": [
    "## Mean Squared Error(MSE)\n",
    "## Definition:\n",
    "\n",
    "### MSE is a most used and very simple metric with a little bit of change in mean absolute error. Mean squared error states that finding the squared difference between actual and predicted value."
   ]
  },
  {
   "cell_type": "code",
   "execution_count": 14,
   "id": "9af6227c-347b-4894-b6ce-fc9bedba06bc",
   "metadata": {},
   "outputs": [
    {
     "name": "stdout",
     "output_type": "stream",
     "text": [
      "Mean Square Error: 8.97\n"
     ]
    }
   ],
   "source": [
    "from sklearn.metrics import mean_squared_error\n",
    "print(\"Mean Square Error:\",round(mean_squared_error(y_test,y_pred),2))"
   ]
  },
  {
   "cell_type": "markdown",
   "id": "feae0522-dd49-4e41-9bfe-69dda440a62c",
   "metadata": {},
   "source": [
    "## Root Mean Squared Error(RMSE)\n",
    "## Definition:\n",
    "\n",
    "### As RMSE is clear by the name itself, that it is a simple square root of mean squared error."
   ]
  },
  {
   "cell_type": "code",
   "execution_count": 17,
   "id": "df420688-ef2d-427a-a0d6-118c33ea2abe",
   "metadata": {},
   "outputs": [
    {
     "name": "stdout",
     "output_type": "stream",
     "text": [
      "RMSE: 3.0\n"
     ]
    }
   ],
   "source": [
    "print(\"RMSE:\",round(np.sqrt(mean_squared_error(y_test,y_pred)),2))"
   ]
  },
  {
   "cell_type": "markdown",
   "id": "c9bc6c81-3b07-4291-a82d-57d855a3e27c",
   "metadata": {},
   "source": [
    "## Root Mean Squared Log Error(RMSLE)\n",
    "\n",
    "### Taking the log of the RMSE metric slows down the scale of error. The metric is very helpful when you are developing a model without calling the inputs. In that case, the output will vary on a large scale."
   ]
  },
  {
   "cell_type": "code",
   "execution_count": 20,
   "id": "f1eadc87-63f8-4e19-8160-19d187780b60",
   "metadata": {},
   "outputs": [
    {
     "name": "stdout",
     "output_type": "stream",
     "text": [
      "RMSE 1.0969980881829742\n"
     ]
    }
   ],
   "source": [
    "print(\"RMSE\",np.log(np.sqrt(mean_squared_error(y_test,y_pred))))"
   ]
  },
  {
   "cell_type": "markdown",
   "id": "b2706760-499c-47e3-b140-893a50fa52e2",
   "metadata": {},
   "source": [
    "## R Squared (R2)\n",
    "\n",
    "### R2 score is a metric that tells the performance of your model, not the loss in an absolute sense that how many wells did your model perform."
   ]
  },
  {
   "cell_type": "code",
   "execution_count": 24,
   "id": "069a1be8-6665-4c38-90b5-1d40944481cd",
   "metadata": {},
   "outputs": [
    {
     "name": "stdout",
     "output_type": "stream",
     "text": [
      "0.6714477229302764\n"
     ]
    }
   ],
   "source": [
    "from sklearn.metrics import r2_score\n",
    "r2 = r2_score(y_test,y_pred)\n",
    "print(r2)"
   ]
  },
  {
   "cell_type": "markdown",
   "id": "4ce715da-7652-404c-b826-584f235aa585",
   "metadata": {},
   "source": [
    "## Adjusted R Squared"
   ]
  },
  {
   "cell_type": "code",
   "execution_count": 27,
   "id": "279cbc21-6e2a-45d8-b123-5c004aac38aa",
   "metadata": {},
   "outputs": [
    {
     "name": "stdout",
     "output_type": "stream",
     "text": [
      "0.6628016103758101\n"
     ]
    }
   ],
   "source": [
    "n=40\n",
    "k=1\n",
    "adj_r2_score = 1 - ((1-r2)*(n-1)/(n-k-1))\n",
    "print(adj_r2_score)"
   ]
  },
  {
   "cell_type": "code",
   "execution_count": null,
   "id": "db18ec1a-59ec-4d69-b082-97aa9aa9cf90",
   "metadata": {},
   "outputs": [],
   "source": []
  }
 ],
 "metadata": {
  "kernelspec": {
   "display_name": "Python 3 (ipykernel)",
   "language": "python",
   "name": "python3"
  },
  "language_info": {
   "codemirror_mode": {
    "name": "ipython",
    "version": 3
   },
   "file_extension": ".py",
   "mimetype": "text/x-python",
   "name": "python",
   "nbconvert_exporter": "python",
   "pygments_lexer": "ipython3",
   "version": "3.12.7"
  }
 },
 "nbformat": 4,
 "nbformat_minor": 5
}
